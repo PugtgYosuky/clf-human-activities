{
 "cells": [
  {
   "cell_type": "markdown",
   "metadata": {},
   "source": [
    "# Project - Classification of Human Activities\n",
    "\n",
    "Disciplina de Tópicos de Ciência de Dados\n",
    "\n",
    "Joana Simões, nº 2019217013"
   ]
  },
  {
   "cell_type": "code",
   "execution_count": 41,
   "metadata": {},
   "outputs": [],
   "source": [
    "# imports \n",
    "from sklearn.model_selection import train_test_split, KFold\n",
    "import numpy as np\n",
    "import matplotlib.pyplot as plt\n",
    "from sklearn.metrics import confusion_matrix, ConfusionMatrixDisplay\n",
    "from sklearn.metrics import recall_score, precision_score, f1_score\n",
    "import pandas as pd\n",
    "from sklearn import preprocessing\n",
    "import os"
   ]
  },
  {
   "cell_type": "code",
   "execution_count": 56,
   "metadata": {},
   "outputs": [],
   "source": [
    "import warnings\n",
    "warnings.filterwarnings(\"ignore\")"
   ]
  },
  {
   "cell_type": "markdown",
   "metadata": {},
   "source": [
    "## Exercise 1.1"
   ]
  },
  {
   "cell_type": "code",
   "execution_count": 2,
   "metadata": {},
   "outputs": [],
   "source": [
    "def split_train_test(X, y, percentage_test=0.3):\n",
    "    x_train, x_test, y_train, y_test = train_test_split(X, y, test_size=percentage_test, random_state=42)\n",
    "    return x_train, x_test, y_train, y_test"
   ]
  },
  {
   "cell_type": "code",
   "execution_count": 3,
   "metadata": {},
   "outputs": [],
   "source": [
    "def split_train_test_validation(X, y, percentage_test=0.3, percentage_validation=0.3):\n",
    "    x_train, x_test, y_train, y_test = train_test_split(X, y, test_size=percentage_test, random_state=42)\n",
    "    percent = (len(X)*percentage_validation) / len(x_train)\n",
    "    x_train, x_val, y_train, y_val = train_test_split(x_train, y_train, test_size=percent)\n",
    "\n",
    "    return x_train, x_val, x_test, y_train, y_val, y_test"
   ]
  },
  {
   "cell_type": "code",
   "execution_count": 4,
   "metadata": {},
   "outputs": [],
   "source": [
    "def split_k_fold(X, y, k_folds):\n",
    "    x_train = []\n",
    "    x_test = []\n",
    "    y_train = []\n",
    "    y_test = []\n",
    "\n",
    "    k_fold = KFold(n_splits=k_folds, random_state=42, shuffle=True)\n",
    "\n",
    "    for train_index, test_index in k_fold.split(X):\n",
    "        x_train.append(X.loc[train_index])\n",
    "        y_train.append(y[train_index])\n",
    "        x_test.append(X.loc[test_index])\n",
    "        y_test.append(y[test_index])\n",
    "\n",
    "    return x_train, x_test, y_train, y_test"
   ]
  },
  {
   "cell_type": "markdown",
   "metadata": {},
   "source": [
    "## Exercise 1.2"
   ]
  },
  {
   "cell_type": "code",
   "execution_count": 5,
   "metadata": {},
   "outputs": [],
   "source": [
    "def display_confusion_matrix(cm, labels, title=''):\n",
    "    plt.figure()\n",
    "    display = ConfusionMatrixDisplay(cm, display_labels=labels)\n",
    "    display.plot()\n",
    "    plt.title(title)\n",
    "    plt.show()"
   ]
  },
  {
   "cell_type": "code",
   "execution_count": 6,
   "metadata": {},
   "outputs": [],
   "source": [
    "def calculate_confusion_matrix(y, y_pred, labels=None, display=True, title=''):\n",
    "    cm = confusion_matrix(y, y_pred, labels=labels)\n",
    "    if display:\n",
    "        display_confusion_matrix(cm, labels, title=title)\n",
    "    return cm"
   ]
  },
  {
   "cell_type": "code",
   "execution_count": 7,
   "metadata": {},
   "outputs": [],
   "source": [
    "def calculate_recall(y, y_pred, metric=None):\n",
    "    score = recall_score(y, y_pred, average=metric)\n",
    "    return score"
   ]
  },
  {
   "cell_type": "code",
   "execution_count": 8,
   "metadata": {},
   "outputs": [],
   "source": [
    "def calculate_precision(y, y_pred, metric=None):\n",
    "    return precision_score(y, y_pred, average=metric)"
   ]
  },
  {
   "cell_type": "code",
   "execution_count": 9,
   "metadata": {},
   "outputs": [],
   "source": [
    "def calculate_f1(y, y_pred, metric=None):\n",
    "    return f1_score(y, y_pred, average=metric)"
   ]
  },
  {
   "cell_type": "code",
   "execution_count": 10,
   "metadata": {},
   "outputs": [],
   "source": [
    "def plot_measures(recalls, precisions, f1_scores, title=''):\n",
    "    plt.figure()\n",
    "    x = np.arange(len(recalls))+1\n",
    "    plt.plot(x, recalls, label='Recall')\n",
    "    plt.plot(x, precisions, label='Precision')\n",
    "    plt.plot(x, f1_scores, label='F1 score')\n",
    "    plt.xlabel('K values')\n",
    "    plt.ylabel('Result')\n",
    "    plt.title(title)\n",
    "    plt.legend()\n",
    "    plt.show()"
   ]
  },
  {
   "cell_type": "markdown",
   "metadata": {},
   "source": [
    "## Exercise 2 -Test TTS e CV with KNN"
   ]
  },
  {
   "cell_type": "code",
   "execution_count": 11,
   "metadata": {},
   "outputs": [],
   "source": [
    "from sklearn import datasets\n",
    "from sklearn.neighbors import KNeighborsClassifier"
   ]
  },
  {
   "cell_type": "code",
   "execution_count": 13,
   "metadata": {},
   "outputs": [],
   "source": [
    "def load_dataset():\n",
    "    iris_dataset = datasets.load_iris(as_frame=True)\n",
    "    X = iris_dataset.data\n",
    "    y = iris_dataset.target\n",
    "    target_names = iris_dataset.target_names\n",
    "    return X, y, target_names"
   ]
  },
  {
   "cell_type": "code",
   "execution_count": 56,
   "metadata": {},
   "outputs": [],
   "source": [
    "X, y, target_names = load_dataset()"
   ]
  },
  {
   "cell_type": "code",
   "execution_count": 16,
   "metadata": {},
   "outputs": [
    {
     "data": {
      "text/plain": [
       "(150, 4)"
      ]
     },
     "execution_count": 16,
     "metadata": {},
     "output_type": "execute_result"
    }
   ],
   "source": [
    "X.shape"
   ]
  },
  {
   "cell_type": "markdown",
   "metadata": {},
   "source": [
    "### Train-only : k=1"
   ]
  },
  {
   "cell_type": "code",
   "execution_count": 17,
   "metadata": {},
   "outputs": [],
   "source": [
    "model = KNeighborsClassifier(n_neighbors = 1)\n",
    "model.fit(X,  y)\n",
    "y_pred = model.predict(X)"
   ]
  },
  {
   "cell_type": "code",
   "execution_count": 18,
   "metadata": {},
   "outputs": [
    {
     "name": "stdout",
     "output_type": "stream",
     "text": [
      "Recall: 1.0\n",
      "Precision: 1.0\n",
      "F1 score: 1.0\n"
     ]
    },
    {
     "data": {
      "text/plain": [
       "<Figure size 640x480 with 0 Axes>"
      ]
     },
     "metadata": {},
     "output_type": "display_data"
    },
    {
     "data": {
      "image/png": "[encoded data removed]",
      "text/plain": [
       "<Figure size 640x480 with 2 Axes>"
      ]
     },
     "metadata": {},
     "output_type": "display_data"
    },
    {
     "data": {
      "text/plain": [
       "array([[50,  0,  0],\n",
       "       [ 0, 50,  0],\n",
       "       [ 0,  0, 50]], dtype=int64)"
      ]
     },
     "execution_count": 18,
     "metadata": {},
     "output_type": "execute_result"
    }
   ],
   "source": [
    "print('Recall:', calculate_recall(y, y_pred, 'weighted'))\n",
    "print('Precision:',calculate_precision(y, y_pred, 'weighted'))\n",
    "print('F1 score:',calculate_f1(y, y_pred, 'weighted'))\n",
    "calculate_confusion_matrix(y, y_pred)"
   ]
  },
  {
   "cell_type": "markdown",
   "metadata": {},
   "source": [
    "### Train-test 70-30 - k=1"
   ]
  },
  {
   "cell_type": "code",
   "execution_count": 19,
   "metadata": {},
   "outputs": [],
   "source": [
    "x_train, x_test, y_train, y_test = split_train_test(X, y, 0.3)"
   ]
  },
  {
   "cell_type": "code",
   "execution_count": 20,
   "metadata": {},
   "outputs": [
    {
     "name": "stdout",
     "output_type": "stream",
     "text": [
      "Recall: 1.0\n",
      "Precision: 1.0\n",
      "F1 score: 1.0\n"
     ]
    },
    {
     "data": {
      "text/plain": [
       "<Figure size 640x480 with 0 Axes>"
      ]
     },
     "metadata": {},
     "output_type": "display_data"
    },
    {
     "data": {
      "image/png": "[encoded data removed]",
      "text/plain": [
       "<Figure size 640x480 with 2 Axes>"
      ]
     },
     "metadata": {},
     "output_type": "display_data"
    },
    {
     "data": {
      "text/plain": [
       "array([[19,  0,  0],\n",
       "       [ 0, 13,  0],\n",
       "       [ 0,  0, 13]], dtype=int64)"
      ]
     },
     "execution_count": 20,
     "metadata": {},
     "output_type": "execute_result"
    }
   ],
   "source": [
    "model = KNeighborsClassifier(n_neighbors=1)\n",
    "model.fit(x_train, y_train)\n",
    "y_pred = model.predict(x_test)\n",
    "print('Recall:', calculate_recall(y_test, y_pred, 'weighted'))\n",
    "print('Precision:',calculate_precision(y_test, y_pred, 'weighted'))\n",
    "print('F1 score:',calculate_f1(y_test, y_pred, 'weighted'))\n",
    "calculate_confusion_matrix(y_test, y_pred)"
   ]
  },
  {
   "cell_type": "markdown",
   "metadata": {},
   "source": [
    "### 10CV - k=1"
   ]
  },
  {
   "cell_type": "code",
   "execution_count": 21,
   "metadata": {},
   "outputs": [],
   "source": [
    "def cross_validation_test(iters, X, y, k_folds=10):\n",
    "    iters_recalls = []\n",
    "    iters_precisions = []\n",
    "    iters_f1_scores = []\n",
    "    x_train, x_test, y_train, y_test = split_k_fold(X, y, k_folds)\n",
    "    for iter in range(iters):\n",
    "        recalls = []\n",
    "        precisions = []\n",
    "        f1_scores = []\n",
    "        for i in range(len(x_train)):\n",
    "            model = KNeighborsClassifier(n_neighbors=iter+1)\n",
    "            model.fit(x_train[i], y_train[i])\n",
    "            y_pred = model.predict(x_test[i])\n",
    "\n",
    "            recalls.append(calculate_recall(y_test[i], y_pred))\n",
    "            precisions.append(calculate_precision(y_test[i], y_pred))\n",
    "            f1_scores.append(calculate_f1(y_test[i], y_pred))\n",
    "        r_mean = np.mean(recalls)\n",
    "        p_mean = np.mean(precisions)\n",
    "        f_mean = np.mean(f1_scores)\n",
    "        print(f'********* Averages - k={iter+1} **********')\n",
    "        print('Recall:', r_mean)\n",
    "        print('Precision:',p_mean)\n",
    "        print('F1 Score:', f_mean)\n",
    "\n",
    "        iters_recalls.append(r_mean)\n",
    "        iters_precisions.append(p_mean)\n",
    "        iters_f1_scores.append(f_mean)\n",
    "    if iters > 1:\n",
    "        plot_measures(iters_recalls, iters_precisions, iters_f1_scores)\n",
    "        print('Best k')\n",
    "        print('Recall: ', np.argmax(iters_recalls)+1)\n",
    "        print('Precision: ', np.argmax(iters_precisions)+1)\n",
    "        print('F1-Score: ', np.argmax(iters_f1_scores)+1)\n",
    "        return np.argmax(f1_scores)+1\n",
    "    return None\n"
   ]
  },
  {
   "cell_type": "code",
   "execution_count": 22,
   "metadata": {},
   "outputs": [
    {
     "name": "stdout",
     "output_type": "stream",
     "text": [
      "********* Averages - k=1 **********\n",
      "Recall: 0.9607936507936509\n",
      "Precision: 0.9615079365079366\n",
      "F1 Score: 0.9588337588337589\n"
     ]
    }
   ],
   "source": [
    "bests = cross_validation_test(1, X, y)"
   ]
  },
  {
   "cell_type": "code",
   "execution_count": 23,
   "metadata": {},
   "outputs": [],
   "source": [
    "def avg_confusion_matrix(confusion_matrices, display=True):\n",
    "    avg_cm = confusion_matrices[0]\n",
    "    for i in range(1, len(confusion_matrices)):\n",
    "        avg_cm += confusion_matrices[i]\n",
    "    avg_cm = avg_cm / len(confusion_matrices)\n",
    "    if display:\n",
    "        display_confusion_matrix(avg_cm, None)\n",
    "    return avg_cm"
   ]
  },
  {
   "cell_type": "markdown",
   "metadata": {},
   "source": [
    "### Train only - multiple k values"
   ]
  },
  {
   "cell_type": "code",
   "execution_count": 24,
   "metadata": {},
   "outputs": [],
   "source": [
    "def train_only_test(iters, X, y):\n",
    "    recalls = []\n",
    "    precisions = []\n",
    "    f1_scores = []\n",
    "    for i in range(15):\n",
    "        model = KNeighborsClassifier(n_neighbors = i+1)\n",
    "        model.fit(X, y)\n",
    "        y_pred = model.predict(X)\n",
    "        recall = calculate_recall(y, y_pred, 'weighted')\n",
    "        recalls.append(recall)\n",
    "        precision = calculate_precision(y, y_pred,  'weighted')\n",
    "        precisions.append(precision)\n",
    "        f1 = calculate_f1(y, y_pred,  'weighted')\n",
    "        f1_scores.append(f1)\n",
    "        print(f'********* Averages - k={i+1} **********')\n",
    "        print('Recall:', recall)\n",
    "        print('Precision:',precision)\n",
    "        print('F1 Score:', f1)\n",
    "    if iters > 1:\n",
    "        plot_measures(recalls, precisions, f1_scores)\n",
    "        print('Best k')\n",
    "        print('Recall: ', np.argmax(recalls)+1)\n",
    "        print('Precision: ', np.argmax(precisions)+1)\n",
    "        print('F1-Score: ', np.argmax(f1_scores)+1)\n",
    "        return np.argmax(f1_scores)+1"
   ]
  },
  {
   "cell_type": "code",
   "execution_count": 25,
   "metadata": {},
   "outputs": [
    {
     "name": "stdout",
     "output_type": "stream",
     "text": [
      "********* Averages - k=1 **********\n",
      "Recall: 1.0\n",
      "Precision: 1.0\n",
      "F1 Score: 1.0\n",
      "********* Averages - k=2 **********\n",
      "Recall: 0.98\n",
      "Precision: 0.9811320754716981\n",
      "F1 Score: 0.9799819837854068\n",
      "********* Averages - k=3 **********\n",
      "Recall: 0.96\n",
      "Precision: 0.96\n",
      "F1 Score: 0.96\n",
      "********* Averages - k=4 **********\n",
      "Recall: 0.96\n",
      "Precision: 0.96\n",
      "F1 Score: 0.96\n",
      "********* Averages - k=5 **********\n",
      "Recall: 0.9666666666666667\n",
      "Precision: 0.9667867146858743\n",
      "F1 Score: 0.9666633329999667\n",
      "********* Averages - k=6 **********\n",
      "Recall: 0.9733333333333334\n",
      "Precision: 0.9733333333333334\n",
      "F1 Score: 0.9733333333333334\n",
      "********* Averages - k=7 **********\n",
      "Recall: 0.9733333333333334\n",
      "Precision: 0.9738247863247864\n",
      "F1 Score: 0.9733226623982927\n",
      "********* Averages - k=8 **********\n",
      "Recall: 0.98\n",
      "Precision: 0.980125383486728\n",
      "F1 Score: 0.9799979997999799\n",
      "********* Averages - k=9 **********\n",
      "Recall: 0.98\n",
      "Precision: 0.980125383486728\n",
      "F1 Score: 0.9799979997999799\n",
      "********* Averages - k=10 **********\n",
      "Recall: 0.98\n",
      "Precision: 0.980125383486728\n",
      "F1 Score: 0.9799979997999799\n",
      "********* Averages - k=11 **********\n",
      "Recall: 0.9733333333333334\n",
      "Precision: 0.9733333333333334\n",
      "F1 Score: 0.9733333333333334\n",
      "********* Averages - k=12 **********\n",
      "Recall: 0.98\n",
      "Precision: 0.980125383486728\n",
      "F1 Score: 0.9799979997999799\n",
      "********* Averages - k=13 **********\n",
      "Recall: 0.98\n",
      "Precision: 0.980125383486728\n",
      "F1 Score: 0.9799979997999799\n",
      "********* Averages - k=14 **********\n",
      "Recall: 0.98\n",
      "Precision: 0.980125383486728\n",
      "F1 Score: 0.9799979997999799\n",
      "********* Averages - k=15 **********\n",
      "Recall: 0.9866666666666667\n",
      "Precision: 0.9866666666666667\n",
      "F1 Score: 0.9866666666666667\n"
     ]
    },
    {
     "data": {
      "image/png": "[encoded data removed]",
      "text/plain": [
       "<Figure size 640x480 with 1 Axes>"
      ]
     },
     "metadata": {},
     "output_type": "display_data"
    },
    {
     "name": "stdout",
     "output_type": "stream",
     "text": [
      "Best k\n",
      "Recall:  1\n",
      "Precision:  1\n",
      "F1-Score:  1\n"
     ]
    }
   ],
   "source": [
    "best_k_train_only = train_only_test(15, X, y)"
   ]
  },
  {
   "cell_type": "code",
   "execution_count": 26,
   "metadata": {},
   "outputs": [],
   "source": [
    "model = KNeighborsClassifier(n_neighbors=best_k_train_only)\n",
    "model.fit(X, y)\n",
    "y_pred = model.predict(X)"
   ]
  },
  {
   "cell_type": "code",
   "execution_count": 27,
   "metadata": {},
   "outputs": [
    {
     "name": "stdout",
     "output_type": "stream",
     "text": [
      "Recall: 1.0\n",
      "Precision: 1.0\n",
      "F-Score: 1.0\n"
     ]
    },
    {
     "data": {
      "text/plain": [
       "<Figure size 640x480 with 0 Axes>"
      ]
     },
     "metadata": {},
     "output_type": "display_data"
    },
    {
     "data": {
      "image/png": "[encoded data removed]",
      "text/plain": [
       "<Figure size 640x480 with 2 Axes>"
      ]
     },
     "metadata": {},
     "output_type": "display_data"
    },
    {
     "data": {
      "text/plain": [
       "array([[50,  0,  0],\n",
       "       [ 0, 50,  0],\n",
       "       [ 0,  0, 50]], dtype=int64)"
      ]
     },
     "execution_count": 27,
     "metadata": {},
     "output_type": "execute_result"
    }
   ],
   "source": [
    "print('Recall:', calculate_recall(y, y_pred, 'weighted'))\n",
    "print('Precision:', calculate_precision(y, y_pred, 'weighted'))\n",
    "print('F-Score:', calculate_f1(y, y_pred, 'weighted'))\n",
    "calculate_confusion_matrix(y, y_pred, title=f'Confusion matrix for KNN with k={best_k_train_only}')"
   ]
  },
  {
   "cell_type": "markdown",
   "metadata": {},
   "source": [
    "### TVT 40-30-30 - multiple k values"
   ]
  },
  {
   "cell_type": "code",
   "execution_count": 28,
   "metadata": {},
   "outputs": [],
   "source": [
    "x_train, x_val, x_test, y_train, y_val, y_test = split_train_test_validation(X, y)"
   ]
  },
  {
   "cell_type": "code",
   "execution_count": 29,
   "metadata": {},
   "outputs": [],
   "source": [
    "def tvt_test(iters, x_train, x_val, y_train, y_val):\n",
    "    recalls = []\n",
    "    precisions = []\n",
    "    f1_scores = []\n",
    "    for i in range(iters):\n",
    "        model = KNeighborsClassifier(n_neighbors=i+1)\n",
    "        model.fit(x_train, y_train)\n",
    "        y_pred = model.predict(x_val)\n",
    "        recall = calculate_recall(y_val, y_pred, 'weighted')\n",
    "        recalls.append(recall)\n",
    "        precision = calculate_precision(y_val, y_pred,  'weighted')\n",
    "        precisions.append(precision)\n",
    "        f1 = calculate_f1(y_val, y_pred,  'weighted')\n",
    "        f1_scores.append(f1)\n",
    "        print(f'********* Averages - k={i+1} **********')\n",
    "        print('Recall:', recall)\n",
    "        print('Precision:',precision)\n",
    "        print('F1 Score:', f1)\n",
    "\n",
    "    if iters > 1:\n",
    "        plot_measures(recalls, precisions, f1_scores)\n",
    "        print('Best k')\n",
    "        print('Recall: ', np.argmax(recalls)+1)\n",
    "        print('Precision: ', np.argmax(precisions)+1)\n",
    "        print('F1-Score: ', np.argmax(f1_scores)+1)\n",
    "        return np.argmax(f1_scores)+1"
   ]
  },
  {
   "cell_type": "code",
   "execution_count": 30,
   "metadata": {},
   "outputs": [
    {
     "name": "stdout",
     "output_type": "stream",
     "text": [
      "********* Averages - k=1 **********\n",
      "Recall: 0.9555555555555556\n",
      "Precision: 0.9555555555555556\n",
      "F1 Score: 0.9555555555555556\n",
      "********* Averages - k=2 **********\n",
      "Recall: 0.9777777777777777\n",
      "Precision: 0.9791666666666666\n",
      "F1 Score: 0.9777995003801455\n",
      "********* Averages - k=3 **********\n",
      "Recall: 0.9777777777777777\n",
      "Precision: 0.9791666666666666\n",
      "F1 Score: 0.9777995003801455\n",
      "********* Averages - k=4 **********\n",
      "Recall: 0.9333333333333333\n",
      "Precision: 0.9444444444444444\n",
      "F1 Score: 0.9331378299120234\n",
      "********* Averages - k=5 **********\n",
      "Recall: 0.9333333333333333\n",
      "Precision: 0.9347222222222222\n",
      "F1 Score: 0.9333985011404365\n",
      "********* Averages - k=6 **********\n",
      "Recall: 0.9333333333333333\n",
      "Precision: 0.9444444444444444\n",
      "F1 Score: 0.9331378299120234\n",
      "********* Averages - k=7 **********\n",
      "Recall: 0.9333333333333333\n",
      "Precision: 0.9347222222222222\n",
      "F1 Score: 0.9333985011404365\n",
      "********* Averages - k=8 **********\n",
      "Recall: 0.9555555555555556\n",
      "Precision: 0.9607843137254902\n",
      "F1 Score: 0.9555555555555556\n",
      "********* Averages - k=9 **********\n",
      "Recall: 0.9111111111111111\n",
      "Precision: 0.9111111111111111\n",
      "F1 Score: 0.9111111111111111\n",
      "********* Averages - k=10 **********\n",
      "Recall: 0.9111111111111111\n",
      "Precision: 0.9111111111111111\n",
      "F1 Score: 0.9111111111111111\n",
      "********* Averages - k=11 **********\n",
      "Recall: 0.9111111111111111\n",
      "Precision: 0.9147098515519568\n",
      "F1 Score: 0.9104056437389769\n",
      "********* Averages - k=12 **********\n",
      "Recall: 0.9555555555555556\n",
      "Precision: 0.9607843137254902\n",
      "F1 Score: 0.9555555555555556\n",
      "********* Averages - k=13 **********\n",
      "Recall: 0.9555555555555556\n",
      "Precision: 0.9555555555555556\n",
      "F1 Score: 0.9555555555555556\n",
      "********* Averages - k=14 **********\n",
      "Recall: 0.9333333333333333\n",
      "Precision: 0.9347222222222222\n",
      "F1 Score: 0.9333985011404365\n",
      "********* Averages - k=15 **********\n",
      "Recall: 0.9555555555555556\n",
      "Precision: 0.9555555555555556\n",
      "F1 Score: 0.9555555555555556\n"
     ]
    },
    {
     "data": {
      "image/png": "[encoded data removed]",
      "text/plain": [
       "<Figure size 640x480 with 1 Axes>"
      ]
     },
     "metadata": {},
     "output_type": "display_data"
    },
    {
     "name": "stdout",
     "output_type": "stream",
     "text": [
      "Best k\n",
      "Recall:  2\n",
      "Precision:  2\n",
      "F1-Score:  2\n"
     ]
    }
   ],
   "source": [
    "best_k = tvt_test(15, x_train, x_val, y_train, y_val)"
   ]
  },
  {
   "cell_type": "markdown",
   "metadata": {},
   "source": [
    "#### retrain the model using the best k"
   ]
  },
  {
   "cell_type": "code",
   "execution_count": 31,
   "metadata": {},
   "outputs": [],
   "source": [
    "x_train_total = pd.concat([x_train, x_val], ignore_index=True)\n",
    "y_train_total = pd.concat([y_train, y_val], ignore_index=True)"
   ]
  },
  {
   "cell_type": "code",
   "execution_count": 32,
   "metadata": {},
   "outputs": [],
   "source": [
    "model = KNeighborsClassifier(n_neighbors=best_k)\n",
    "model.fit(x_train_total, y_train_total)\n",
    "y_pred = model.predict(x_test)"
   ]
  },
  {
   "cell_type": "code",
   "execution_count": 33,
   "metadata": {},
   "outputs": [
    {
     "name": "stdout",
     "output_type": "stream",
     "text": [
      "Recall: 1.0\n",
      "Precision: 1.0\n",
      "F-Score: 1.0\n"
     ]
    },
    {
     "data": {
      "text/plain": [
       "<Figure size 640x480 with 0 Axes>"
      ]
     },
     "metadata": {},
     "output_type": "display_data"
    },
    {
     "data": {
      "image/png": "[encoded data removed]",
      "text/plain": [
       "<Figure size 640x480 with 2 Axes>"
      ]
     },
     "metadata": {},
     "output_type": "display_data"
    },
    {
     "data": {
      "text/plain": [
       "array([[19,  0,  0],\n",
       "       [ 0, 13,  0],\n",
       "       [ 0,  0, 13]], dtype=int64)"
      ]
     },
     "execution_count": 33,
     "metadata": {},
     "output_type": "execute_result"
    }
   ],
   "source": [
    "print('Recall:', calculate_recall(y_test, y_pred, 'weighted'))\n",
    "print('Precision:', calculate_precision(y_test, y_pred, 'weighted'))\n",
    "print('F-Score:', calculate_f1(y_test, y_pred, 'weighted'))\n",
    "calculate_confusion_matrix(y_test, y_pred, title=f'Confusion matrix for KNN with k={best_k}')"
   ]
  },
  {
   "cell_type": "markdown",
   "metadata": {},
   "source": [
    "### 10 CV - multiple k values"
   ]
  },
  {
   "cell_type": "code",
   "execution_count": 34,
   "metadata": {},
   "outputs": [
    {
     "name": "stdout",
     "output_type": "stream",
     "text": [
      "********* Averages - k=1 **********\n",
      "Recall: 0.9607936507936509\n",
      "Precision: 0.9615079365079366\n",
      "F1 Score: 0.9588337588337589\n",
      "********* Averages - k=2 **********\n",
      "Recall: 0.9541269841269842\n",
      "Precision: 0.9548412698412698\n",
      "F1 Score: 0.9514263514263513\n",
      "********* Averages - k=3 **********\n",
      "Recall: 0.9663492063492064\n",
      "Precision: 0.9738095238095238\n",
      "F1 Score: 0.964938764938765\n",
      "********* Averages - k=4 **********\n",
      "Recall: 0.9663492063492064\n",
      "Precision: 0.9738095238095238\n",
      "F1 Score: 0.964938764938765\n",
      "********* Averages - k=5 **********\n",
      "Recall: 0.9730158730158731\n",
      "Precision: 0.9785714285714285\n",
      "F1 Score: 0.9712065712065712\n",
      "********* Averages - k=6 **********\n",
      "Recall: 0.9596825396825397\n",
      "Precision: 0.9671428571428572\n",
      "F1 Score: 0.9575313575313575\n",
      "********* Averages - k=7 **********\n",
      "Recall: 0.9552380952380953\n",
      "Precision: 0.9585714285714285\n",
      "F1 Score: 0.9487991637991638\n",
      "********* Averages - k=8 **********\n",
      "Recall: 0.9735714285714286\n",
      "Precision: 0.979047619047619\n",
      "F1 Score: 0.973870573870574\n",
      "********* Averages - k=9 **********\n",
      "Recall: 0.9746825396825397\n",
      "Precision: 0.9754761904761905\n",
      "F1 Score: 0.9723461723461725\n",
      "********* Averages - k=10 **********\n",
      "Recall: 0.9802380952380952\n",
      "Precision: 0.9838095238095239\n",
      "F1 Score: 0.9801383801383802\n",
      "********* Averages - k=11 **********\n",
      "Recall: 0.9746825396825397\n",
      "Precision: 0.9754761904761905\n",
      "F1 Score: 0.9723461723461725\n",
      "********* Averages - k=12 **********\n",
      "Recall: 0.9735714285714286\n",
      "Precision: 0.979047619047619\n",
      "F1 Score: 0.973870573870574\n",
      "********* Averages - k=13 **********\n",
      "Recall: 0.9746825396825397\n",
      "Precision: 0.9754761904761905\n",
      "F1 Score: 0.9723461723461725\n",
      "********* Averages - k=14 **********\n",
      "Recall: 0.9802380952380952\n",
      "Precision: 0.9838095238095239\n",
      "F1 Score: 0.9801383801383802\n",
      "********* Averages - k=15 **********\n",
      "Recall: 0.9691269841269842\n",
      "Precision: 0.9704761904761905\n",
      "F1 Score: 0.9651383801383803\n"
     ]
    },
    {
     "data": {
      "image/png": "[encoded data removed]",
      "text/plain": [
       "<Figure size 640x480 with 1 Axes>"
      ]
     },
     "metadata": {},
     "output_type": "display_data"
    },
    {
     "name": "stdout",
     "output_type": "stream",
     "text": [
      "Best k\n",
      "Recall:  10\n",
      "Precision:  10\n",
      "F1-Score:  10\n"
     ]
    }
   ],
   "source": [
    "best_k_cv = cross_validation_test(15, X, y, k_folds=10)"
   ]
  },
  {
   "cell_type": "markdown",
   "metadata": {},
   "source": [
    "Como se pode observar, o k=10 é o obtem melhores resultados na classificação dos modelos. Assim, o modelo será novamente re-treinado utilizando este valor"
   ]
  },
  {
   "cell_type": "code",
   "execution_count": 35,
   "metadata": {},
   "outputs": [],
   "source": [
    "# TODO: verificar como re-treinar o modelo"
   ]
  },
  {
   "cell_type": "markdown",
   "metadata": {},
   "source": [
    "KNN - com um K pequeno, o modelo fica mais sensivel a ruido e a overfitting\n",
    "Quando usamos um K grande, fica pouco sensivel\n",
    "\n",
    "Usar k impar sempre que temos um numero classes par "
   ]
  },
  {
   "cell_type": "markdown",
   "metadata": {},
   "source": [
    "## ReliefF - Ex.2.2"
   ]
  },
  {
   "cell_type": "code",
   "execution_count": 22,
   "metadata": {},
   "outputs": [],
   "source": [
    "from skfeature.function.similarity_based import fisher_score, reliefF"
   ]
  },
  {
   "cell_type": "code",
   "execution_count": 57,
   "metadata": {},
   "outputs": [],
   "source": [
    "def plot_elbow(f1_scores, k_model, metric, title=None):\n",
    "    f1_scores = [0] + f1_scores\n",
    "    plt.figure()\n",
    "    plt.plot(np.arange(len(f1_scores)), f1_scores, '*-')\n",
    "    plt.ylim(0, 1)\n",
    "    plt.xlim(0, len(f1_scores))\n",
    "    if title is not None:\n",
    "        plt.title(f'Plot with the features used, using the model KNN with k={k_model}, features ranked using {metric}')\n",
    "    else:\n",
    "        plt.title(title)\n",
    "    plt.ylabel(f'F1 score')\n",
    "    plt.xlabel(f'Nº features used')\n",
    "    plt.show()"
   ]
  },
  {
   "cell_type": "code",
   "execution_count": 24,
   "metadata": {},
   "outputs": [],
   "source": [
    "def order_features(x_train, y_train, metric='reliefF'):\n",
    "    if metric == 'reliefF':\n",
    "        # ReliefF\n",
    "        print('reliefF')\n",
    "        score = reliefF.reliefF(x_train.to_numpy(), y_train.to_numpy())\n",
    "    else:\n",
    "        # fisher\n",
    "        print('fisher')\n",
    "        score = fisher_score.fisher_score(x_train.to_numpy(), y_train.to_numpy())\n",
    "    \n",
    "    features_ranked = (-score).argsort()\n",
    "    features = x_train.columns\n",
    "\n",
    "    print(f'Features ranked by {metric}:')\n",
    "    print(list(features[features_ranked]))\n",
    "    print(f'Scores:')\n",
    "    print(score)\n",
    "\n",
    "    return list(features[features_ranked])"
   ]
  },
  {
   "cell_type": "code",
   "execution_count": 25,
   "metadata": {},
   "outputs": [],
   "source": [
    "def best_model_feature_and_k(x_train, x_val, y_train, y_val, features, function='ReliefF', plot=False):\n",
    "    df = pd.DataFrame()\n",
    "\n",
    "    max_score = 0\n",
    "    best_k = 0\n",
    "    best_n_features = 0\n",
    "\n",
    "    for k in range(15):\n",
    "        f1_scores = []\n",
    "        for n_features in range(1, len(features)+1):\n",
    "            features_to_use = features[:n_features]\n",
    "            model = KNeighborsClassifier(n_neighbors=k+1)\n",
    "            model.fit(x_train[features_to_use], y_train)\n",
    "            y_pred = model.predict(x_val[features_to_use])\n",
    "            f1 = calculate_f1(y_val, y_pred,  'weighted')\n",
    "            if f1 > max_score:\n",
    "                max_score = f1\n",
    "                best_k = k+1\n",
    "                best_n_features = n_features\n",
    "            f1_scores.append(f1)\n",
    "        df[f'K{k+1}'] = pd.Series(np.array(f1_scores))\n",
    "        if plot:\n",
    "            plot_elbow(f1_scores, k+1, function)\n",
    "    df = df.set_index(np.arange(1, len(features)+1))\n",
    "    print('Max f1-score: ', max_score)\n",
    "    print('Model used: ', best_k)\n",
    "    print('Best number features:', best_n_features)\n",
    "    return df, best_k, best_n_features"
   ]
  },
  {
   "cell_type": "code",
   "execution_count": 16,
   "metadata": {},
   "outputs": [
    {
     "ename": "NameError",
     "evalue": "name 'X' is not defined",
     "output_type": "error",
     "traceback": [
      "\u001b[1;31m---------------------------------------------------------------------------\u001b[0m",
      "\u001b[1;31mNameError\u001b[0m                                 Traceback (most recent call last)",
      "Cell \u001b[1;32mIn [16], line 1\u001b[0m\n\u001b[1;32m----> 1\u001b[0m x_train, x_val, x_test, y_train, y_val, y_test \u001b[39m=\u001b[39m split_train_test_validation(X, y)\n",
      "\u001b[1;31mNameError\u001b[0m: name 'X' is not defined"
     ]
    }
   ],
   "source": [
    "x_train, x_val, x_test, y_train, y_val, y_test = split_train_test_validation(X, y)"
   ]
  },
  {
   "cell_type": "code",
   "execution_count": 41,
   "metadata": {},
   "outputs": [
    {
     "name": "stdout",
     "output_type": "stream",
     "text": [
      "reliefF\n",
      "Features ranked by reliefF:\n",
      "['petal length (cm)', 'petal width (cm)', 'sepal length (cm)', 'sepal width (cm)']\n",
      "Scores:\n",
      "[188.54409091  89.84818182 575.7025     248.48818182]\n"
     ]
    }
   ],
   "source": [
    "relieff_features = order_features(x_train, y_train)"
   ]
  },
  {
   "cell_type": "code",
   "execution_count": 42,
   "metadata": {},
   "outputs": [
    {
     "name": "stdout",
     "output_type": "stream",
     "text": [
      "Max f1-score:  0.9777530589543938\n",
      "Model used:  2\n",
      "Best number features: 2\n"
     ]
    }
   ],
   "source": [
    "results, best_k, best_n_features_relief = best_model_feature_and_k(x_train, x_val, y_train, y_val, relieff_features, plot=False)"
   ]
  },
  {
   "cell_type": "code",
   "execution_count": 43,
   "metadata": {},
   "outputs": [
    {
     "data": {
      "text/html": [
       "<div>\n",
       "<style scoped>\n",
       "    .dataframe tbody tr th:only-of-type {\n",
       "        vertical-align: middle;\n",
       "    }\n",
       "\n",
       "    .dataframe tbody tr th {\n",
       "        vertical-align: top;\n",
       "    }\n",
       "\n",
       "    .dataframe thead th {\n",
       "        text-align: right;\n",
       "    }\n",
       "</style>\n",
       "<table border=\"1\" class=\"dataframe\">\n",
       "  <thead>\n",
       "    <tr style=\"text-align: right;\">\n",
       "      <th></th>\n",
       "      <th>K1</th>\n",
       "      <th>K2</th>\n",
       "      <th>K3</th>\n",
       "      <th>K4</th>\n",
       "      <th>K5</th>\n",
       "      <th>K6</th>\n",
       "      <th>K7</th>\n",
       "      <th>K8</th>\n",
       "      <th>K9</th>\n",
       "      <th>K10</th>\n",
       "      <th>K11</th>\n",
       "      <th>K12</th>\n",
       "      <th>K13</th>\n",
       "      <th>K14</th>\n",
       "      <th>K15</th>\n",
       "    </tr>\n",
       "  </thead>\n",
       "  <tbody>\n",
       "    <tr>\n",
       "      <th>1</th>\n",
       "      <td>0.909502</td>\n",
       "      <td>0.910714</td>\n",
       "      <td>0.932660</td>\n",
       "      <td>0.932660</td>\n",
       "      <td>0.932660</td>\n",
       "      <td>0.932660</td>\n",
       "      <td>0.932660</td>\n",
       "      <td>0.932660</td>\n",
       "      <td>0.932660</td>\n",
       "      <td>0.932660</td>\n",
       "      <td>0.932660</td>\n",
       "      <td>0.932660</td>\n",
       "      <td>0.932660</td>\n",
       "      <td>0.977753</td>\n",
       "      <td>0.932660</td>\n",
       "    </tr>\n",
       "    <tr>\n",
       "      <th>2</th>\n",
       "      <td>0.955357</td>\n",
       "      <td>0.977753</td>\n",
       "      <td>0.977753</td>\n",
       "      <td>0.977753</td>\n",
       "      <td>0.977753</td>\n",
       "      <td>0.955556</td>\n",
       "      <td>0.955556</td>\n",
       "      <td>0.955556</td>\n",
       "      <td>0.977753</td>\n",
       "      <td>0.955556</td>\n",
       "      <td>0.977753</td>\n",
       "      <td>0.955556</td>\n",
       "      <td>0.977753</td>\n",
       "      <td>0.977753</td>\n",
       "      <td>0.977753</td>\n",
       "    </tr>\n",
       "    <tr>\n",
       "      <th>3</th>\n",
       "      <td>0.955357</td>\n",
       "      <td>0.977753</td>\n",
       "      <td>0.955357</td>\n",
       "      <td>0.955357</td>\n",
       "      <td>0.955357</td>\n",
       "      <td>0.977753</td>\n",
       "      <td>0.955357</td>\n",
       "      <td>0.977753</td>\n",
       "      <td>0.955357</td>\n",
       "      <td>0.977753</td>\n",
       "      <td>0.977753</td>\n",
       "      <td>0.977753</td>\n",
       "      <td>0.977753</td>\n",
       "      <td>0.955556</td>\n",
       "      <td>0.933259</td>\n",
       "    </tr>\n",
       "    <tr>\n",
       "      <th>4</th>\n",
       "      <td>0.955357</td>\n",
       "      <td>0.955357</td>\n",
       "      <td>0.955357</td>\n",
       "      <td>0.933259</td>\n",
       "      <td>0.955357</td>\n",
       "      <td>0.955556</td>\n",
       "      <td>0.977753</td>\n",
       "      <td>0.977753</td>\n",
       "      <td>0.955357</td>\n",
       "      <td>0.977753</td>\n",
       "      <td>0.955357</td>\n",
       "      <td>0.977753</td>\n",
       "      <td>0.932660</td>\n",
       "      <td>0.933259</td>\n",
       "      <td>0.932660</td>\n",
       "    </tr>\n",
       "  </tbody>\n",
       "</table>\n",
       "</div>"
      ],
      "text/plain": [
       "         K1        K2        K3        K4        K5        K6        K7  \\\n",
       "1  0.909502  0.910714  0.932660  0.932660  0.932660  0.932660  0.932660   \n",
       "2  0.955357  0.977753  0.977753  0.977753  0.977753  0.955556  0.955556   \n",
       "3  0.955357  0.977753  0.955357  0.955357  0.955357  0.977753  0.955357   \n",
       "4  0.955357  0.955357  0.955357  0.933259  0.955357  0.955556  0.977753   \n",
       "\n",
       "         K8        K9       K10       K11       K12       K13       K14  \\\n",
       "1  0.932660  0.932660  0.932660  0.932660  0.932660  0.932660  0.977753   \n",
       "2  0.955556  0.977753  0.955556  0.977753  0.955556  0.977753  0.977753   \n",
       "3  0.977753  0.955357  0.977753  0.977753  0.977753  0.977753  0.955556   \n",
       "4  0.977753  0.955357  0.977753  0.955357  0.977753  0.932660  0.933259   \n",
       "\n",
       "        K15  \n",
       "1  0.932660  \n",
       "2  0.977753  \n",
       "3  0.933259  \n",
       "4  0.932660  "
      ]
     },
     "execution_count": 43,
     "metadata": {},
     "output_type": "execute_result"
    }
   ],
   "source": [
    "results"
   ]
  },
  {
   "cell_type": "markdown",
   "metadata": {},
   "source": [
    "#### retrain best model"
   ]
  },
  {
   "cell_type": "code",
   "execution_count": 44,
   "metadata": {},
   "outputs": [],
   "source": [
    "x_train_total = pd.concat([x_train, x_val], ignore_index=True)\n",
    "y_train_total = pd.concat([y_train, y_val], ignore_index=True)"
   ]
  },
  {
   "cell_type": "code",
   "execution_count": 45,
   "metadata": {},
   "outputs": [],
   "source": [
    "features_to_use = relieff_features[:best_n_features_relief]\n",
    "model = KNeighborsClassifier(n_neighbors=best_k)\n",
    "model.fit(x_train_total[features_to_use], y_train_total)\n",
    "y_pred = model.predict(x_test[features_to_use])"
   ]
  },
  {
   "cell_type": "code",
   "execution_count": 46,
   "metadata": {},
   "outputs": [
    {
     "name": "stdout",
     "output_type": "stream",
     "text": [
      "Recall: 0.9777777777777777\n",
      "Precision: 0.9793650793650793\n",
      "F-Score: 0.9777448559670783\n"
     ]
    },
    {
     "data": {
      "text/plain": [
       "<Figure size 640x480 with 0 Axes>"
      ]
     },
     "metadata": {},
     "output_type": "display_data"
    },
    {
     "data": {
      "image/png": "[encoded data removed]",
      "text/plain": [
       "<Figure size 640x480 with 2 Axes>"
      ]
     },
     "metadata": {},
     "output_type": "display_data"
    },
    {
     "data": {
      "text/plain": [
       "array([[19,  0,  0],\n",
       "       [ 0, 13,  0],\n",
       "       [ 0,  1, 12]], dtype=int64)"
      ]
     },
     "execution_count": 46,
     "metadata": {},
     "output_type": "execute_result"
    }
   ],
   "source": [
    "print('Recall:', calculate_recall(y_test, y_pred, 'weighted'))\n",
    "print('Precision:', calculate_precision(y_test, y_pred, 'weighted'))\n",
    "print('F-Score:', calculate_f1(y_test, y_pred, 'weighted'))\n",
    "calculate_confusion_matrix(y_test, y_pred, title=f'Confusion matrix for KNN with k={best_k} and features from ReliefF: {features_to_use}')"
   ]
  },
  {
   "cell_type": "markdown",
   "metadata": {},
   "source": [
    "## Fisher Score - Ex.2.3"
   ]
  },
  {
   "cell_type": "code",
   "execution_count": 47,
   "metadata": {},
   "outputs": [],
   "source": [
    "x_train, x_val, x_test, y_train, y_val, y_test = split_train_test_validation(X, y)"
   ]
  },
  {
   "cell_type": "code",
   "execution_count": 48,
   "metadata": {},
   "outputs": [
    {
     "name": "stdout",
     "output_type": "stream",
     "text": [
      "fisher\n",
      "Features ranked by fisher:\n",
      "['petal length (cm)', 'petal width (cm)', 'sepal length (cm)', 'sepal width (cm)']\n",
      "Scores:\n",
      "[ 1.48085274  0.71441594 18.63261689 12.71434843]\n"
     ]
    }
   ],
   "source": [
    "fisher_features = order_features(x_train, y_train, 'fisher')"
   ]
  },
  {
   "cell_type": "code",
   "execution_count": 49,
   "metadata": {},
   "outputs": [
    {
     "name": "stdout",
     "output_type": "stream",
     "text": [
      "Max f1-score:  0.9778760192553295\n",
      "Model used:  4\n",
      "Best number features: 2\n"
     ]
    }
   ],
   "source": [
    "results, best_k, best_n_features_fisher = best_model_feature_and_k(x_train, x_val, y_train, y_val, fisher_features, plot=False)"
   ]
  },
  {
   "cell_type": "code",
   "execution_count": 50,
   "metadata": {},
   "outputs": [
    {
     "data": {
      "text/html": [
       "<div>\n",
       "<style scoped>\n",
       "    .dataframe tbody tr th:only-of-type {\n",
       "        vertical-align: middle;\n",
       "    }\n",
       "\n",
       "    .dataframe tbody tr th {\n",
       "        vertical-align: top;\n",
       "    }\n",
       "\n",
       "    .dataframe thead th {\n",
       "        text-align: right;\n",
       "    }\n",
       "</style>\n",
       "<table border=\"1\" class=\"dataframe\">\n",
       "  <thead>\n",
       "    <tr style=\"text-align: right;\">\n",
       "      <th></th>\n",
       "      <th>K1</th>\n",
       "      <th>K2</th>\n",
       "      <th>K3</th>\n",
       "      <th>K4</th>\n",
       "      <th>K5</th>\n",
       "      <th>K6</th>\n",
       "      <th>K7</th>\n",
       "      <th>K8</th>\n",
       "      <th>K9</th>\n",
       "      <th>K10</th>\n",
       "      <th>K11</th>\n",
       "      <th>K12</th>\n",
       "      <th>K13</th>\n",
       "      <th>K14</th>\n",
       "      <th>K15</th>\n",
       "    </tr>\n",
       "  </thead>\n",
       "  <tbody>\n",
       "    <tr>\n",
       "      <th>1</th>\n",
       "      <td>0.955867</td>\n",
       "      <td>0.909809</td>\n",
       "      <td>0.866667</td>\n",
       "      <td>0.909809</td>\n",
       "      <td>0.932912</td>\n",
       "      <td>0.909809</td>\n",
       "      <td>0.932912</td>\n",
       "      <td>0.932912</td>\n",
       "      <td>0.955867</td>\n",
       "      <td>0.932912</td>\n",
       "      <td>0.932912</td>\n",
       "      <td>0.932912</td>\n",
       "      <td>0.932912</td>\n",
       "      <td>0.932912</td>\n",
       "      <td>0.932912</td>\n",
       "    </tr>\n",
       "    <tr>\n",
       "      <th>2</th>\n",
       "      <td>0.933628</td>\n",
       "      <td>0.907744</td>\n",
       "      <td>0.955867</td>\n",
       "      <td>0.977876</td>\n",
       "      <td>0.977876</td>\n",
       "      <td>0.955556</td>\n",
       "      <td>0.955867</td>\n",
       "      <td>0.955867</td>\n",
       "      <td>0.955867</td>\n",
       "      <td>0.932912</td>\n",
       "      <td>0.955867</td>\n",
       "      <td>0.955867</td>\n",
       "      <td>0.955867</td>\n",
       "      <td>0.955867</td>\n",
       "      <td>0.955867</td>\n",
       "    </tr>\n",
       "    <tr>\n",
       "      <th>3</th>\n",
       "      <td>0.911111</td>\n",
       "      <td>0.911111</td>\n",
       "      <td>0.955867</td>\n",
       "      <td>0.955867</td>\n",
       "      <td>0.955867</td>\n",
       "      <td>0.955867</td>\n",
       "      <td>0.955867</td>\n",
       "      <td>0.955867</td>\n",
       "      <td>0.955867</td>\n",
       "      <td>0.955867</td>\n",
       "      <td>0.955867</td>\n",
       "      <td>0.955867</td>\n",
       "      <td>0.933856</td>\n",
       "      <td>0.933856</td>\n",
       "      <td>0.933856</td>\n",
       "    </tr>\n",
       "    <tr>\n",
       "      <th>4</th>\n",
       "      <td>0.911735</td>\n",
       "      <td>0.932912</td>\n",
       "      <td>0.955867</td>\n",
       "      <td>0.977876</td>\n",
       "      <td>0.955867</td>\n",
       "      <td>0.955867</td>\n",
       "      <td>0.955867</td>\n",
       "      <td>0.955867</td>\n",
       "      <td>0.955867</td>\n",
       "      <td>0.955867</td>\n",
       "      <td>0.933856</td>\n",
       "      <td>0.955867</td>\n",
       "      <td>0.933856</td>\n",
       "      <td>0.933856</td>\n",
       "      <td>0.933856</td>\n",
       "    </tr>\n",
       "  </tbody>\n",
       "</table>\n",
       "</div>"
      ],
      "text/plain": [
       "         K1        K2        K3        K4        K5        K6        K7  \\\n",
       "1  0.955867  0.909809  0.866667  0.909809  0.932912  0.909809  0.932912   \n",
       "2  0.933628  0.907744  0.955867  0.977876  0.977876  0.955556  0.955867   \n",
       "3  0.911111  0.911111  0.955867  0.955867  0.955867  0.955867  0.955867   \n",
       "4  0.911735  0.932912  0.955867  0.977876  0.955867  0.955867  0.955867   \n",
       "\n",
       "         K8        K9       K10       K11       K12       K13       K14  \\\n",
       "1  0.932912  0.955867  0.932912  0.932912  0.932912  0.932912  0.932912   \n",
       "2  0.955867  0.955867  0.932912  0.955867  0.955867  0.955867  0.955867   \n",
       "3  0.955867  0.955867  0.955867  0.955867  0.955867  0.933856  0.933856   \n",
       "4  0.955867  0.955867  0.955867  0.933856  0.955867  0.933856  0.933856   \n",
       "\n",
       "        K15  \n",
       "1  0.932912  \n",
       "2  0.955867  \n",
       "3  0.933856  \n",
       "4  0.933856  "
      ]
     },
     "execution_count": 50,
     "metadata": {},
     "output_type": "execute_result"
    }
   ],
   "source": [
    "results"
   ]
  },
  {
   "cell_type": "markdown",
   "metadata": {},
   "source": [
    "#### retrain best model"
   ]
  },
  {
   "cell_type": "code",
   "execution_count": 51,
   "metadata": {},
   "outputs": [],
   "source": [
    "x_train_total = pd.concat([x_train, x_val], ignore_index=True)\n",
    "y_train_total = pd.concat([y_train, y_val], ignore_index=True)"
   ]
  },
  {
   "cell_type": "code",
   "execution_count": 52,
   "metadata": {},
   "outputs": [],
   "source": [
    "features_to_use = fisher_features[:best_n_features_fisher]\n",
    "model = KNeighborsClassifier(n_neighbors=best_k)\n",
    "model.fit(x_train_total[features_to_use], y_train_total)\n",
    "y_pred = model.predict(x_test[features_to_use])"
   ]
  },
  {
   "cell_type": "code",
   "execution_count": 53,
   "metadata": {},
   "outputs": [
    {
     "name": "stdout",
     "output_type": "stream",
     "text": [
      "Recall: 1.0\n",
      "Precision: 1.0\n",
      "F-Score: 1.0\n"
     ]
    },
    {
     "data": {
      "text/plain": [
       "<Figure size 640x480 with 0 Axes>"
      ]
     },
     "metadata": {},
     "output_type": "display_data"
    },
    {
     "data": {
      "image/png": "[encoded data removed]",
      "text/plain": [
       "<Figure size 640x480 with 2 Axes>"
      ]
     },
     "metadata": {},
     "output_type": "display_data"
    },
    {
     "data": {
      "text/plain": [
       "array([[19,  0,  0],\n",
       "       [ 0, 13,  0],\n",
       "       [ 0,  0, 13]], dtype=int64)"
      ]
     },
     "execution_count": 53,
     "metadata": {},
     "output_type": "execute_result"
    }
   ],
   "source": [
    "print('Recall:', calculate_recall(y_test, y_pred, 'weighted'))\n",
    "print('Precision:', calculate_precision(y_test, y_pred, 'weighted'))\n",
    "print('F-Score:', calculate_f1(y_test, y_pred, 'weighted'))\n",
    "calculate_confusion_matrix(y_test, y_pred, title=f'Confusion matrix for KNN with k={best_k} and features from Fisher Score: {features_to_use}')"
   ]
  },
  {
   "cell_type": "markdown",
   "metadata": {},
   "source": [
    "## Ex 2.4 - restrict classes"
   ]
  },
  {
   "cell_type": "code",
   "execution_count": 83,
   "metadata": {},
   "outputs": [],
   "source": [
    "indexes_setosa = pd.Series(y[y==0].index)\n",
    "indexes_versicolor = pd.Series(y[y == 1].index).sample(30)\n",
    "indexes_virginica = pd.Series(y[y==2].index).sample(10)"
   ]
  },
  {
   "cell_type": "code",
   "execution_count": 84,
   "metadata": {},
   "outputs": [],
   "source": [
    "new_X = pd.concat([X.loc[indexes_setosa], X.loc[indexes_versicolor], X.loc[indexes_virginica]], ignore_index=True)\n",
    "new_y = pd.concat([y[indexes_setosa], y[indexes_versicolor], y[indexes_virginica]], ignore_index=True)"
   ]
  },
  {
   "cell_type": "code",
   "execution_count": 85,
   "metadata": {},
   "outputs": [],
   "source": [
    "x_train, x_val, x_test, y_train, y_val, y_test = split_train_test_validation(new_X, new_y)"
   ]
  },
  {
   "cell_type": "code",
   "execution_count": 86,
   "metadata": {},
   "outputs": [
    {
     "name": "stdout",
     "output_type": "stream",
     "text": [
      "fisher\n",
      "Features ranked by fisher:\n",
      "['petal length (cm)', 'petal width (cm)', 'sepal length (cm)', 'sepal width (cm)']\n",
      "Scores:\n",
      "[ 2.13430458  0.48559808 40.45606818 18.16360235]\n"
     ]
    }
   ],
   "source": [
    "fisher_features = order_features(x_train, y_train, 'fisher')"
   ]
  },
  {
   "cell_type": "code",
   "execution_count": 87,
   "metadata": {},
   "outputs": [
    {
     "name": "stdout",
     "output_type": "stream",
     "text": [
      "Max f1-score:  1.0\n",
      "Model used:  1\n",
      "Best number features: 2\n"
     ]
    }
   ],
   "source": [
    "results, best_k, best_n_features = best_model_feature_and_k(x_train, x_val, y_train, y_val, fisher_features, plot=False)"
   ]
  },
  {
   "cell_type": "code",
   "execution_count": 88,
   "metadata": {},
   "outputs": [
    {
     "data": {
      "text/html": [
       "<div>\n",
       "<style scoped>\n",
       "    .dataframe tbody tr th:only-of-type {\n",
       "        vertical-align: middle;\n",
       "    }\n",
       "\n",
       "    .dataframe tbody tr th {\n",
       "        vertical-align: top;\n",
       "    }\n",
       "\n",
       "    .dataframe thead th {\n",
       "        text-align: right;\n",
       "    }\n",
       "</style>\n",
       "<table border=\"1\" class=\"dataframe\">\n",
       "  <thead>\n",
       "    <tr style=\"text-align: right;\">\n",
       "      <th></th>\n",
       "      <th>K1</th>\n",
       "      <th>K2</th>\n",
       "      <th>K3</th>\n",
       "      <th>K4</th>\n",
       "      <th>K5</th>\n",
       "      <th>K6</th>\n",
       "      <th>K7</th>\n",
       "      <th>K8</th>\n",
       "      <th>K9</th>\n",
       "      <th>K10</th>\n",
       "      <th>K11</th>\n",
       "      <th>K12</th>\n",
       "      <th>K13</th>\n",
       "      <th>K14</th>\n",
       "      <th>K15</th>\n",
       "    </tr>\n",
       "  </thead>\n",
       "  <tbody>\n",
       "    <tr>\n",
       "      <th>1</th>\n",
       "      <td>0.963931</td>\n",
       "      <td>0.925926</td>\n",
       "      <td>0.963931</td>\n",
       "      <td>0.961292</td>\n",
       "      <td>0.961292</td>\n",
       "      <td>0.961292</td>\n",
       "      <td>0.961292</td>\n",
       "      <td>0.791246</td>\n",
       "      <td>0.791246</td>\n",
       "      <td>0.791246</td>\n",
       "      <td>0.791246</td>\n",
       "      <td>0.791246</td>\n",
       "      <td>0.791246</td>\n",
       "      <td>0.791246</td>\n",
       "      <td>0.791246</td>\n",
       "    </tr>\n",
       "    <tr>\n",
       "      <th>2</th>\n",
       "      <td>1.000000</td>\n",
       "      <td>1.000000</td>\n",
       "      <td>1.000000</td>\n",
       "      <td>0.961292</td>\n",
       "      <td>0.961292</td>\n",
       "      <td>0.961292</td>\n",
       "      <td>0.961292</td>\n",
       "      <td>0.791246</td>\n",
       "      <td>0.791246</td>\n",
       "      <td>0.791246</td>\n",
       "      <td>0.791246</td>\n",
       "      <td>0.791246</td>\n",
       "      <td>0.791246</td>\n",
       "      <td>0.791246</td>\n",
       "      <td>0.791246</td>\n",
       "    </tr>\n",
       "    <tr>\n",
       "      <th>3</th>\n",
       "      <td>0.963931</td>\n",
       "      <td>0.925926</td>\n",
       "      <td>0.963931</td>\n",
       "      <td>1.000000</td>\n",
       "      <td>1.000000</td>\n",
       "      <td>0.917284</td>\n",
       "      <td>0.917284</td>\n",
       "      <td>0.791246</td>\n",
       "      <td>0.791246</td>\n",
       "      <td>0.791246</td>\n",
       "      <td>0.791246</td>\n",
       "      <td>0.791246</td>\n",
       "      <td>0.791246</td>\n",
       "      <td>0.791246</td>\n",
       "      <td>0.791246</td>\n",
       "    </tr>\n",
       "    <tr>\n",
       "      <th>4</th>\n",
       "      <td>0.963931</td>\n",
       "      <td>0.925926</td>\n",
       "      <td>0.963931</td>\n",
       "      <td>0.961292</td>\n",
       "      <td>0.961292</td>\n",
       "      <td>0.863492</td>\n",
       "      <td>0.863492</td>\n",
       "      <td>0.791246</td>\n",
       "      <td>0.791246</td>\n",
       "      <td>0.791246</td>\n",
       "      <td>0.791246</td>\n",
       "      <td>0.791246</td>\n",
       "      <td>0.791246</td>\n",
       "      <td>0.791246</td>\n",
       "      <td>0.791246</td>\n",
       "    </tr>\n",
       "  </tbody>\n",
       "</table>\n",
       "</div>"
      ],
      "text/plain": [
       "         K1        K2        K3        K4        K5        K6        K7  \\\n",
       "1  0.963931  0.925926  0.963931  0.961292  0.961292  0.961292  0.961292   \n",
       "2  1.000000  1.000000  1.000000  0.961292  0.961292  0.961292  0.961292   \n",
       "3  0.963931  0.925926  0.963931  1.000000  1.000000  0.917284  0.917284   \n",
       "4  0.963931  0.925926  0.963931  0.961292  0.961292  0.863492  0.863492   \n",
       "\n",
       "         K8        K9       K10       K11       K12       K13       K14  \\\n",
       "1  0.791246  0.791246  0.791246  0.791246  0.791246  0.791246  0.791246   \n",
       "2  0.791246  0.791246  0.791246  0.791246  0.791246  0.791246  0.791246   \n",
       "3  0.791246  0.791246  0.791246  0.791246  0.791246  0.791246  0.791246   \n",
       "4  0.791246  0.791246  0.791246  0.791246  0.791246  0.791246  0.791246   \n",
       "\n",
       "        K15  \n",
       "1  0.791246  \n",
       "2  0.791246  \n",
       "3  0.791246  \n",
       "4  0.791246  "
      ]
     },
     "execution_count": 88,
     "metadata": {},
     "output_type": "execute_result"
    }
   ],
   "source": [
    "results"
   ]
  },
  {
   "cell_type": "markdown",
   "metadata": {},
   "source": [
    "#### retrain best model"
   ]
  },
  {
   "cell_type": "code",
   "execution_count": 89,
   "metadata": {},
   "outputs": [],
   "source": [
    "x_train_total = pd.concat([x_train, x_val], ignore_index=True)\n",
    "y_train_total = pd.concat([y_train, y_val], ignore_index=True)"
   ]
  },
  {
   "cell_type": "code",
   "execution_count": 90,
   "metadata": {},
   "outputs": [],
   "source": [
    "features_to_use = fisher_features[:best_n_features]\n",
    "model = KNeighborsClassifier(n_neighbors=best_k)\n",
    "model.fit(x_train_total[features_to_use], y_train_total)\n",
    "y_pred = model.predict(x_test[features_to_use])"
   ]
  },
  {
   "cell_type": "code",
   "execution_count": 91,
   "metadata": {},
   "outputs": [
    {
     "name": "stdout",
     "output_type": "stream",
     "text": [
      "Recall: 0.9629629629629629\n",
      "Precision: 0.9753086419753086\n",
      "F-Score: 0.9655773420479302\n"
     ]
    },
    {
     "data": {
      "text/plain": [
       "<Figure size 640x480 with 0 Axes>"
      ]
     },
     "metadata": {},
     "output_type": "display_data"
    },
    {
     "data": {
      "image/png": "[encoded data removed]",
      "text/plain": [
       "<Figure size 640x480 with 2 Axes>"
      ]
     },
     "metadata": {},
     "output_type": "display_data"
    },
    {
     "data": {
      "text/plain": [
       "array([[16,  0,  0],\n",
       "       [ 0,  8,  1],\n",
       "       [ 0,  0,  2]], dtype=int64)"
      ]
     },
     "execution_count": 91,
     "metadata": {},
     "output_type": "execute_result"
    }
   ],
   "source": [
    "print('Recall:', calculate_recall(y_test, y_pred, 'weighted'))\n",
    "print('Precision:', calculate_precision(y_test, y_pred, 'weighted'))\n",
    "print('F-Score:', calculate_f1(y_test, y_pred, 'weighted'))\n",
    "calculate_confusion_matrix(y_test, y_pred, title=f'Confusion matrix for KNN with k={best_k} and features from Fisher Score: {features_to_use}')"
   ]
  },
  {
   "cell_type": "markdown",
   "metadata": {},
   "source": [
    "Verifica-se que pertubar as percentagens de cada tipo de flor, a performance do modelo diminui."
   ]
  },
  {
   "cell_type": "markdown",
   "metadata": {},
   "source": [
    "## Ex 3 - test models with human activities dataset"
   ]
  },
  {
   "cell_type": "code",
   "execution_count": 42,
   "metadata": {},
   "outputs": [],
   "source": [
    "features_path = os.path.join('results', 'extracted_features.csv')"
   ]
  },
  {
   "cell_type": "code",
   "execution_count": 43,
   "metadata": {},
   "outputs": [],
   "source": [
    "X = pd.read_csv(features_path)\n",
    "y = X.pop('activity')"
   ]
  },
  {
   "cell_type": "code",
   "execution_count": 44,
   "metadata": {},
   "outputs": [
    {
     "data": {
      "text/plain": [
       "1     1830\n",
       "5     1550\n",
       "4     1541\n",
       "6      996\n",
       "3      952\n",
       "2      946\n",
       "7      499\n",
       "13      85\n",
       "8       64\n",
       "10      62\n",
       "11      61\n",
       "9       58\n",
       "14      40\n",
       "12      39\n",
       "15      21\n",
       "16      19\n",
       "Name: activity, dtype: int64"
      ]
     },
     "execution_count": 44,
     "metadata": {},
     "output_type": "execute_result"
    }
   ],
   "source": [
    "y.value_counts()"
   ]
  },
  {
   "cell_type": "markdown",
   "metadata": {},
   "source": [
    "Como se pode aboservar, não existe uma distribuição uniforme das atividades, algumas atividades existem em mais abundância que outras, podendo prever já há partida que o modelo terá dificildade em classificar as atividades."
   ]
  },
  {
   "cell_type": "code",
   "execution_count": 45,
   "metadata": {},
   "outputs": [],
   "source": [
    "x_train, x_val, x_test, y_train, y_val, y_test = split_train_test_validation(X, y)"
   ]
  },
  {
   "cell_type": "code",
   "execution_count": 46,
   "metadata": {},
   "outputs": [
    {
     "name": "stdout",
     "output_type": "stream",
     "text": [
      "reliefF\n",
      "Features ranked by reliefF:\n",
      "['are', 'magnetometer_y_energy', 'magnetometer_z_energy', 'gyroscope_y_energy', 'gyroscope_x_energy', 'gyroscope_z_energy', 'accelerometer_z_energy', 'magnetometer_x_energy', 'accelerometer_y_energy', 'accelerometer_x_energy', 'aae', 'gyroscope_x_variance', 'gyroscope_y_variance', 'gyroscope_z_variance', 'avg', 'gyroscope_x_df', 'gyroscope_y_df', 'gyroscope_z_df', 'gyroscope_y_interquantile', 'gyroscope_x_interquantile', 'gyroscope_y_rms', 'accelerometer_x_df', 'gyroscope_x_std', 'gyroscope_y_std', 'gyroscope_x_rms', 'accelerometer_z_df', 'gyroscope_y_median', 'accelerometer_z_mean_crossing_rate', 'gyroscope_y_mean', 'accelerometer_y_mean_crossing_rate', 'magnetometer_z_mean_crossing_rate', 'magnetometer_x_mean_crossing_rate', 'gyroscope_z_mean_crossing_rate', 'gyroscope_z_interquantile', 'gyroscope_x_mean_crossing_rate', 'gyroscope_y_mean_crossing_rate', 'magnetometer_y_mean_crossing_rate', 'accelerometer_x_mean_crossing_rate', 'magnetometer_x_df', 'gyroscope_z_rms', 'gyroscope_z_std', 'gyroscope_y_non_crossing_rate', 'accelerometer_x_non_crossing_rate', 'gyroscope_x_median', 'accelerometer_z_non_crossing_rate', 'aratg', 'gyroscope_x_mean', 'gyroscope_x_non_crossing_rate', 'eva_1', 'gyroscope_z_non_crossing_rate', 'accelerometer_y_variance', 'vi', 'magnetometer_z_df', 'gyroscope_z_median', 'gyroscope_z_mean', 'accelerometer_z_variance', 'accelerometer_z_median', 'accelerometer_y_kurtosis', 'accelerometer_z_mean', 'eva_2', 'accelerometer_x_kurtosis', 'accelerometer_z_rms', 'accelerometer_y_mean', 'accelerometer_y_rms', 'magnetometer_x_non_crossing_rate', 'accelerometer_y_median', 'accelerometer_z_kurtosis', 'gyroscope_y_kurtosis', 'accelerometer_x_variance', 'gyroscope_z_kurtosis', 'accelerometer_z_interquantile', 'gyroscope_x_kurtosis', 'magnetometer_x_kurtosis', 'accelerometer_y_interquantile', 'magnetometer_y_kurtosis', 'accelerometer_y_std', 'magnetometer_z_kurtosis', 'magnetometer_z_non_crossing_rate', 'avh', 'accelerometer_z_std', 'accelerometer_x_median', 'accelerometer_x_mean', 'accelerometer_y_skewness', 'accelerometer_x_interquantile', 'gyroscope_z_skewness', 'accelerometer_x_std', 'accelerometer_z_skewness', 'accelerometer_x_rms', 'accelerometer_y_non_crossing_rate', 'accelerometer_x_skewness', 'gyroscope_x_skewness', 'gyroscope_y_skewness', 'magnetometer_x_skewness', 'magnetometer_z_median', 'magnetometer_z_skewness', 'magnetometer_z_mean', 'magnetometer_y_skewness', 'corr_magnetometer_y_magnetometer_z', 'magnetometer_y_df', 'corr_accelerometer_z_magnetometer_y', 'magnetometer_y_median', 'magnetometer_y_mean', 'corr_gyroscope_x_gyroscope_z', 'gyroscope_y_avg_derivatives', 'corr_magnetometer_x_magnetometer_z', 'gyroscope_x_avg_derivatives', 'corr_magnetometer_x_magnetometer_y', 'corr_accelerometer_z_magnetometer_x', 'corr_accelerometer_y_magnetometer_y', 'corr_accelerometer_y_accelerometer_z', 'corr_gyroscope_y_gyroscope_z', 'corr_accelerometer_x_accelerometer_z', 'corr_accelerometer_z_magnetometer_z', 'magnetometer_x_median', 'corr_gyroscope_x_magnetometer_x', 'magnetometer_x_mean', 'corr_gyroscope_x_gyroscope_y', 'corr_gyroscope_y_magnetometer_z', 'corr_gyroscope_z_magnetometer_y', 'magnetometer_z_rms', 'corr_accelerometer_y_magnetometer_x', 'corr_gyroscope_y_magnetometer_y', 'corr_gyroscope_z_magnetometer_z', 'magnetometer_y_non_crossing_rate', 'corr_accelerometer_x_magnetometer_y', 'corr_accelerometer_x_accelerometer_y', 'corr_accelerometer_z_gyroscope_z', 'corr_accelerometer_y_gyroscope_z', 'corr_accelerometer_x_magnetometer_z', 'corr_gyroscope_y_magnetometer_x', 'corr_accelerometer_x_magnetometer_x', 'corr_gyroscope_z_magnetometer_x', 'corr_accelerometer_y_magnetometer_z', 'corr_accelerometer_z_gyroscope_y', 'corr_accelerometer_y_gyroscope_x', 'ai', 'corr_gyroscope_x_magnetometer_z', 'corr_accelerometer_x_gyroscope_z', 'corr_accelerometer_x_gyroscope_x', 'cagh', 'magnetometer_x_spectral_entropy', 'magnetometer_x_rms', 'magnetometer_z_spectral_entropy', 'corr_accelerometer_x_gyroscope_y', 'magnetometer_z_interquantile', 'corr_accelerometer_y_gyroscope_y', 'magnetometer_y_spectral_entropy', 'corr_accelerometer_z_gyroscope_x', 'magnetometer_x_interquantile', 'accelerometer_z_spectral_entropy', 'magnetometer_y_interquantile', 'corr_gyroscope_x_magnetometer_y', 'gyroscope_z_avg_derivatives', 'gyroscope_x_spectral_entropy', 'accelerometer_y_spectral_entropy', 'gyroscope_z_spectral_entropy', 'magnetometer_y_rms', 'magnetometer_z_std', 'gyroscope_y_spectral_entropy', 'magnetometer_y_std', 'accelerometer_y_df', 'magnetometer_x_std', 'accelerometer_x_spectral_entropy', 'magnetometer_y_variance', 'magnetometer_z_variance', 'magnetometer_x_variance', 'accelerometer_y_avg_derivatives', 'accelerometer_z_avg_derivatives', 'accelerometer_x_avg_derivatives', 'magnetometer_z_avg_derivatives', 'magnetometer_y_avg_derivatives', 'magnetometer_x_avg_derivatives']\n",
      "Scores:\n",
      "[6.47726641e+06 6.62309297e+06 5.35719842e+06 1.44914304e+07\n",
      " 5.11075059e+06 1.18965774e+05 4.70890993e+06 1.88285802e+07\n",
      " 6.07050491e+06 7.07193879e+07 8.96267994e+07 6.76973620e+05\n",
      " 1.69485057e+07 1.66064866e+07 7.55958868e+06 3.24627553e+07\n",
      " 1.67535682e+07 1.83246605e+05 6.20828136e+06 2.42950318e+07\n",
      " 8.81973844e+06 4.71056216e+06 1.07310549e+08 9.06885289e+05\n",
      " 2.34961963e+07 2.52289323e+07 6.70654180e+06 2.63124087e+07\n",
      " 1.77231059e+07 1.58971591e+05 5.33665508e+06 1.52862943e+07\n",
      " 1.13948070e+07 6.05452315e+07 1.25767362e+08 1.25604438e+06\n",
      " 5.73241496e+07 6.79338569e+07 1.69908573e+08 1.52843528e+10\n",
      " 1.61409890e+08 2.75669493e+06 4.68431955e+06 1.07189224e+07\n",
      " 2.13732922e+08 5.08883520e+07 9.58486586e+07 1.07363656e+06\n",
      " 1.25601658e+08 1.27024918e+08 1.64945408e+08 1.27490693e+10\n",
      " 1.87733489e+08 2.98318440e+06 4.33351771e+06 1.50093056e+07\n",
      " 2.31217367e+08 7.20521835e+07 9.39716305e+07 7.88671674e+05\n",
      " 2.77394804e+07 2.79471291e+07 7.43226727e+07 2.79426246e+09\n",
      " 7.52102705e+07 1.11966147e+06 5.39485631e+06 1.39165047e+07\n",
      " 9.64860787e+07 4.45180550e+07 9.66542836e+07 8.69556144e+05\n",
      " 2.08063265e+06 2.22691881e+06 7.46189171e+05 3.31428820e+05\n",
      " 1.39597583e+06 1.63674834e+04 4.30677138e+06 1.01264241e+07\n",
      " 1.26471782e+06 1.66806781e+07 9.69693209e+07 1.40889452e+06\n",
      " 3.28540300e+06 3.36217676e+06 7.73863997e+05 4.12123887e+05\n",
      " 8.08209873e+05 1.71670701e+04 4.04934840e+06 8.01070629e+06\n",
      " 1.25407458e+06 1.85570194e+06 9.14970798e+07 1.29889118e+06\n",
      " 4.15655222e+06 4.23791748e+06 8.00780823e+05 3.39165756e+05\n",
      " 1.94866699e+06 1.85604978e+04 4.21019479e+06 7.15830421e+06\n",
      " 1.36042371e+06 7.14105502e+06 1.06545739e+08 1.38822438e+06\n",
      " 1.80865684e+06 2.27498611e+06 1.46677571e+06 1.37996891e+06\n",
      " 1.47404689e+06 1.64630072e+06 1.84559128e+06 1.70525248e+06\n",
      " 2.41452964e+06 1.58216435e+06 1.30837093e+06 1.70573716e+06\n",
      " 1.86985372e+06 2.42192994e+06 1.63707201e+06 1.27786416e+06\n",
      " 1.62379725e+06 1.71240810e+06 2.47359501e+06 3.42108065e+06\n",
      " 2.23808638e+06 2.07437034e+06 3.10729385e+06 2.20633877e+06\n",
      " 1.13656126e+06 1.49708028e+06 2.34638179e+06 1.67730953e+06\n",
      " 1.85808431e+06 1.97516836e+06 1.63708363e+06 1.97407237e+06\n",
      " 1.85693982e+06 2.61100840e+06 2.96749592e+06 3.70489401e+06\n",
      " 1.69998654e+08 2.70647626e+11 7.70822785e+05 2.70647626e+11\n",
      " 1.44360922e+08 2.70647626e+11 3.23095174e+08 2.70647626e+11\n",
      " 3.01581282e+08 2.70647626e+11 2.75961573e+08 2.70647626e+11\n",
      " 8.16706305e+07 2.70647626e+11 3.46428632e+06 2.70647626e+11\n",
      " 2.83455397e+07 2.70647626e+11 1.56772609e+06 3.05733320e+07\n",
      " 4.77085234e+07 2.05421708e+07 1.45672855e+06 6.79180750e+06\n",
      " 9.85302622e+08 5.73241496e+07 2.70647626e+11 2.70647626e+11]\n",
      "CPU times: total: 35.5 s\n",
      "Wall time: 1min\n"
     ]
    }
   ],
   "source": [
    "%%time\n",
    "relieff_features = order_features(x_train, y_train)"
   ]
  },
  {
   "cell_type": "code",
   "execution_count": 47,
   "metadata": {},
   "outputs": [
    {
     "name": "stdout",
     "output_type": "stream",
     "text": [
      "Max f1-score:  0.5912253891682612\n",
      "Model used:  8\n",
      "Best number features: 48\n",
      "CPU times: total: 30min 7s\n",
      "Wall time: 11min 59s\n"
     ]
    }
   ],
   "source": [
    "%%time\n",
    "results, best_k, best_n_features = best_model_feature_and_k(x_train, x_val, y_train, y_val, relieff_features, plot=False)"
   ]
  },
  {
   "cell_type": "code",
   "execution_count": 48,
   "metadata": {},
   "outputs": [
    {
     "data": {
      "text/html": [
       "<div>\n",
       "<style scoped>\n",
       "    .dataframe tbody tr th:only-of-type {\n",
       "        vertical-align: middle;\n",
       "    }\n",
       "\n",
       "    .dataframe tbody tr th {\n",
       "        vertical-align: top;\n",
       "    }\n",
       "\n",
       "    .dataframe thead th {\n",
       "        text-align: right;\n",
       "    }\n",
       "</style>\n",
       "<table border=\"1\" class=\"dataframe\">\n",
       "  <thead>\n",
       "    <tr style=\"text-align: right;\">\n",
       "      <th></th>\n",
       "      <th>K1</th>\n",
       "      <th>K2</th>\n",
       "      <th>K3</th>\n",
       "      <th>K4</th>\n",
       "      <th>K5</th>\n",
       "      <th>K6</th>\n",
       "      <th>K7</th>\n",
       "      <th>K8</th>\n",
       "      <th>K9</th>\n",
       "      <th>K10</th>\n",
       "      <th>K11</th>\n",
       "      <th>K12</th>\n",
       "      <th>K13</th>\n",
       "      <th>K14</th>\n",
       "      <th>K15</th>\n",
       "    </tr>\n",
       "  </thead>\n",
       "  <tbody>\n",
       "    <tr>\n",
       "      <th>1</th>\n",
       "      <td>0.444972</td>\n",
       "      <td>0.445422</td>\n",
       "      <td>0.456973</td>\n",
       "      <td>0.468007</td>\n",
       "      <td>0.470853</td>\n",
       "      <td>0.472940</td>\n",
       "      <td>0.482984</td>\n",
       "      <td>0.481018</td>\n",
       "      <td>0.485018</td>\n",
       "      <td>0.490721</td>\n",
       "      <td>0.494194</td>\n",
       "      <td>0.493011</td>\n",
       "      <td>0.49090</td>\n",
       "      <td>0.484940</td>\n",
       "      <td>0.487815</td>\n",
       "    </tr>\n",
       "    <tr>\n",
       "      <th>2</th>\n",
       "      <td>0.444972</td>\n",
       "      <td>0.445422</td>\n",
       "      <td>0.456973</td>\n",
       "      <td>0.468007</td>\n",
       "      <td>0.470853</td>\n",
       "      <td>0.472940</td>\n",
       "      <td>0.482984</td>\n",
       "      <td>0.481018</td>\n",
       "      <td>0.485018</td>\n",
       "      <td>0.490721</td>\n",
       "      <td>0.494194</td>\n",
       "      <td>0.493011</td>\n",
       "      <td>0.49090</td>\n",
       "      <td>0.484940</td>\n",
       "      <td>0.487815</td>\n",
       "    </tr>\n",
       "    <tr>\n",
       "      <th>3</th>\n",
       "      <td>0.444972</td>\n",
       "      <td>0.445422</td>\n",
       "      <td>0.456973</td>\n",
       "      <td>0.468007</td>\n",
       "      <td>0.470853</td>\n",
       "      <td>0.472940</td>\n",
       "      <td>0.482984</td>\n",
       "      <td>0.481018</td>\n",
       "      <td>0.485018</td>\n",
       "      <td>0.490721</td>\n",
       "      <td>0.494194</td>\n",
       "      <td>0.493011</td>\n",
       "      <td>0.49090</td>\n",
       "      <td>0.484940</td>\n",
       "      <td>0.487815</td>\n",
       "    </tr>\n",
       "    <tr>\n",
       "      <th>4</th>\n",
       "      <td>0.444972</td>\n",
       "      <td>0.445422</td>\n",
       "      <td>0.456973</td>\n",
       "      <td>0.468007</td>\n",
       "      <td>0.470853</td>\n",
       "      <td>0.472940</td>\n",
       "      <td>0.482984</td>\n",
       "      <td>0.481018</td>\n",
       "      <td>0.485018</td>\n",
       "      <td>0.490721</td>\n",
       "      <td>0.494194</td>\n",
       "      <td>0.493011</td>\n",
       "      <td>0.49090</td>\n",
       "      <td>0.484940</td>\n",
       "      <td>0.487815</td>\n",
       "    </tr>\n",
       "    <tr>\n",
       "      <th>5</th>\n",
       "      <td>0.444972</td>\n",
       "      <td>0.445422</td>\n",
       "      <td>0.456973</td>\n",
       "      <td>0.468007</td>\n",
       "      <td>0.470853</td>\n",
       "      <td>0.472940</td>\n",
       "      <td>0.482984</td>\n",
       "      <td>0.481018</td>\n",
       "      <td>0.485018</td>\n",
       "      <td>0.490721</td>\n",
       "      <td>0.494194</td>\n",
       "      <td>0.493011</td>\n",
       "      <td>0.49090</td>\n",
       "      <td>0.484940</td>\n",
       "      <td>0.487815</td>\n",
       "    </tr>\n",
       "    <tr>\n",
       "      <th>...</th>\n",
       "      <td>...</td>\n",
       "      <td>...</td>\n",
       "      <td>...</td>\n",
       "      <td>...</td>\n",
       "      <td>...</td>\n",
       "      <td>...</td>\n",
       "      <td>...</td>\n",
       "      <td>...</td>\n",
       "      <td>...</td>\n",
       "      <td>...</td>\n",
       "      <td>...</td>\n",
       "      <td>...</td>\n",
       "      <td>...</td>\n",
       "      <td>...</td>\n",
       "      <td>...</td>\n",
       "    </tr>\n",
       "    <tr>\n",
       "      <th>168</th>\n",
       "      <td>0.567549</td>\n",
       "      <td>0.571033</td>\n",
       "      <td>0.576169</td>\n",
       "      <td>0.585551</td>\n",
       "      <td>0.580962</td>\n",
       "      <td>0.575573</td>\n",
       "      <td>0.589040</td>\n",
       "      <td>0.588522</td>\n",
       "      <td>0.586662</td>\n",
       "      <td>0.583779</td>\n",
       "      <td>0.586259</td>\n",
       "      <td>0.589620</td>\n",
       "      <td>0.58681</td>\n",
       "      <td>0.584502</td>\n",
       "      <td>0.585899</td>\n",
       "    </tr>\n",
       "    <tr>\n",
       "      <th>169</th>\n",
       "      <td>0.567549</td>\n",
       "      <td>0.571033</td>\n",
       "      <td>0.576169</td>\n",
       "      <td>0.585551</td>\n",
       "      <td>0.580962</td>\n",
       "      <td>0.575573</td>\n",
       "      <td>0.589040</td>\n",
       "      <td>0.588522</td>\n",
       "      <td>0.586662</td>\n",
       "      <td>0.583779</td>\n",
       "      <td>0.586259</td>\n",
       "      <td>0.589620</td>\n",
       "      <td>0.58681</td>\n",
       "      <td>0.584502</td>\n",
       "      <td>0.585899</td>\n",
       "    </tr>\n",
       "    <tr>\n",
       "      <th>170</th>\n",
       "      <td>0.567549</td>\n",
       "      <td>0.571033</td>\n",
       "      <td>0.576169</td>\n",
       "      <td>0.585551</td>\n",
       "      <td>0.580962</td>\n",
       "      <td>0.575573</td>\n",
       "      <td>0.589040</td>\n",
       "      <td>0.588522</td>\n",
       "      <td>0.586662</td>\n",
       "      <td>0.583779</td>\n",
       "      <td>0.586259</td>\n",
       "      <td>0.589620</td>\n",
       "      <td>0.58681</td>\n",
       "      <td>0.584502</td>\n",
       "      <td>0.585899</td>\n",
       "    </tr>\n",
       "    <tr>\n",
       "      <th>171</th>\n",
       "      <td>0.567549</td>\n",
       "      <td>0.571033</td>\n",
       "      <td>0.576169</td>\n",
       "      <td>0.585551</td>\n",
       "      <td>0.580962</td>\n",
       "      <td>0.575573</td>\n",
       "      <td>0.589040</td>\n",
       "      <td>0.588522</td>\n",
       "      <td>0.586662</td>\n",
       "      <td>0.583779</td>\n",
       "      <td>0.586259</td>\n",
       "      <td>0.589620</td>\n",
       "      <td>0.58681</td>\n",
       "      <td>0.584502</td>\n",
       "      <td>0.585899</td>\n",
       "    </tr>\n",
       "    <tr>\n",
       "      <th>172</th>\n",
       "      <td>0.567549</td>\n",
       "      <td>0.571033</td>\n",
       "      <td>0.576169</td>\n",
       "      <td>0.585551</td>\n",
       "      <td>0.580962</td>\n",
       "      <td>0.575573</td>\n",
       "      <td>0.589040</td>\n",
       "      <td>0.588522</td>\n",
       "      <td>0.586662</td>\n",
       "      <td>0.583779</td>\n",
       "      <td>0.586259</td>\n",
       "      <td>0.589620</td>\n",
       "      <td>0.58681</td>\n",
       "      <td>0.584502</td>\n",
       "      <td>0.585899</td>\n",
       "    </tr>\n",
       "  </tbody>\n",
       "</table>\n",
       "<p>172 rows × 15 columns</p>\n",
       "</div>"
      ],
      "text/plain": [
       "           K1        K2        K3        K4        K5        K6        K7  \\\n",
       "1    0.444972  0.445422  0.456973  0.468007  0.470853  0.472940  0.482984   \n",
       "2    0.444972  0.445422  0.456973  0.468007  0.470853  0.472940  0.482984   \n",
       "3    0.444972  0.445422  0.456973  0.468007  0.470853  0.472940  0.482984   \n",
       "4    0.444972  0.445422  0.456973  0.468007  0.470853  0.472940  0.482984   \n",
       "5    0.444972  0.445422  0.456973  0.468007  0.470853  0.472940  0.482984   \n",
       "..        ...       ...       ...       ...       ...       ...       ...   \n",
       "168  0.567549  0.571033  0.576169  0.585551  0.580962  0.575573  0.589040   \n",
       "169  0.567549  0.571033  0.576169  0.585551  0.580962  0.575573  0.589040   \n",
       "170  0.567549  0.571033  0.576169  0.585551  0.580962  0.575573  0.589040   \n",
       "171  0.567549  0.571033  0.576169  0.585551  0.580962  0.575573  0.589040   \n",
       "172  0.567549  0.571033  0.576169  0.585551  0.580962  0.575573  0.589040   \n",
       "\n",
       "           K8        K9       K10       K11       K12      K13       K14  \\\n",
       "1    0.481018  0.485018  0.490721  0.494194  0.493011  0.49090  0.484940   \n",
       "2    0.481018  0.485018  0.490721  0.494194  0.493011  0.49090  0.484940   \n",
       "3    0.481018  0.485018  0.490721  0.494194  0.493011  0.49090  0.484940   \n",
       "4    0.481018  0.485018  0.490721  0.494194  0.493011  0.49090  0.484940   \n",
       "5    0.481018  0.485018  0.490721  0.494194  0.493011  0.49090  0.484940   \n",
       "..        ...       ...       ...       ...       ...      ...       ...   \n",
       "168  0.588522  0.586662  0.583779  0.586259  0.589620  0.58681  0.584502   \n",
       "169  0.588522  0.586662  0.583779  0.586259  0.589620  0.58681  0.584502   \n",
       "170  0.588522  0.586662  0.583779  0.586259  0.589620  0.58681  0.584502   \n",
       "171  0.588522  0.586662  0.583779  0.586259  0.589620  0.58681  0.584502   \n",
       "172  0.588522  0.586662  0.583779  0.586259  0.589620  0.58681  0.584502   \n",
       "\n",
       "          K15  \n",
       "1    0.487815  \n",
       "2    0.487815  \n",
       "3    0.487815  \n",
       "4    0.487815  \n",
       "5    0.487815  \n",
       "..        ...  \n",
       "168  0.585899  \n",
       "169  0.585899  \n",
       "170  0.585899  \n",
       "171  0.585899  \n",
       "172  0.585899  \n",
       "\n",
       "[172 rows x 15 columns]"
      ]
     },
     "execution_count": 48,
     "metadata": {},
     "output_type": "execute_result"
    }
   ],
   "source": [
    "results"
   ]
  },
  {
   "cell_type": "markdown",
   "metadata": {},
   "source": [
    "#### retrain best model"
   ]
  },
  {
   "cell_type": "code",
   "execution_count": 49,
   "metadata": {},
   "outputs": [],
   "source": [
    "x_train_total = pd.concat([x_train, x_val], ignore_index=True)\n",
    "y_train_total = pd.concat([y_train, y_val], ignore_index=True)"
   ]
  },
  {
   "cell_type": "code",
   "execution_count": 50,
   "metadata": {},
   "outputs": [],
   "source": [
    "features_to_use = relieff_features[:best_n_features]\n",
    "model = KNeighborsClassifier(n_neighbors=best_k)\n",
    "model.fit(x_train_total[features_to_use], y_train_total)\n",
    "y_pred = model.predict(x_test[features_to_use])"
   ]
  },
  {
   "cell_type": "code",
   "execution_count": 51,
   "metadata": {},
   "outputs": [
    {
     "name": "stdout",
     "output_type": "stream",
     "text": [
      "Recall: 0.599087105363256\n",
      "Precision: 0.5598269819454456\n",
      "F-Score: 0.576534570909447\n"
     ]
    },
    {
     "name": "stderr",
     "output_type": "stream",
     "text": [
      "c:\\Users\\joana\\anaconda3\\envs\\cl_human_activities\\lib\\site-packages\\sklearn\\metrics\\_classification.py:1334: UndefinedMetricWarning: Precision is ill-defined and being set to 0.0 in labels with no predicted samples. Use `zero_division` parameter to control this behavior.\n",
      "  _warn_prf(average, modifier, msg_start, len(result))\n"
     ]
    },
    {
     "data": {
      "text/plain": [
       "<Figure size 640x480 with 0 Axes>"
      ]
     },
     "metadata": {},
     "output_type": "display_data"
    },
    {
     "data": {
      "image/png": "[encoded data removed]",
      "text/plain": [
       "<Figure size 640x480 with 2 Axes>"
      ]
     },
     "metadata": {},
     "output_type": "display_data"
    },
    {
     "data": {
      "text/plain": [
       "array([[548,   5,   2,   5,   4,   0,   0,   4,   1,   1,   1,   0,   0,\n",
       "          0,   0,   0],\n",
       "       [  6, 240,   7,   0,   0,   0,   0,   0,   0,   1,   0,   0,   0,\n",
       "          0,   0,   0],\n",
       "       [ 22,   1, 255,   0,   0,   0,   0,   0,   1,   0,   0,   0,   0,\n",
       "          0,   0,   0],\n",
       "       [ 19,   0,   0, 217, 138,  84,  12,   0,   2,   3,   0,   0,   0,\n",
       "          0,   0,   0],\n",
       "       [  9,   0,   0, 221, 189,  46,  15,   0,   0,   1,   0,   0,   0,\n",
       "          0,   0,   0],\n",
       "       [  0,   0,   0,  74,  74, 120,  18,   0,   0,   0,   0,   0,   0,\n",
       "          0,   0,   0],\n",
       "       [  1,   0,   0,  44,  29,  67,   5,   0,   0,   0,   0,   0,   0,\n",
       "          0,   0,   0],\n",
       "       [  5,   5,   6,   0,   2,   0,   0,   0,   3,   0,   0,   0,   0,\n",
       "          0,   0,   0],\n",
       "       [ 11,   2,   1,   2,   0,   0,   0,   2,   1,   0,   1,   0,   0,\n",
       "          0,   0,   0],\n",
       "       [  9,   1,   1,   0,   1,   0,   0,   0,   1,   0,   1,   0,   0,\n",
       "          0,   0,   0],\n",
       "       [ 10,   0,   0,   0,   0,   0,   0,   1,   5,   1,   0,   0,   0,\n",
       "          0,   0,   0],\n",
       "       [  1,   0,   0,   4,   6,   0,   0,   0,   1,   0,   1,   0,   0,\n",
       "          0,   0,   0],\n",
       "       [ 26,   0,   1,   0,   0,   0,   0,   0,   0,   0,   0,   0,   0,\n",
       "          0,   0,   0],\n",
       "       [  0,   0,   0,   6,   5,   2,   1,   0,   0,   0,   0,   0,   0,\n",
       "          0,   0,   0],\n",
       "       [  0,   0,   0,   2,   0,   0,   0,   0,   0,   0,   0,   0,   0,\n",
       "          0,   0,   0],\n",
       "       [  0,   0,   0,   2,   4,   2,   1,   0,   0,   0,   0,   0,   0,\n",
       "          0,   0,   0]], dtype=int64)"
      ]
     },
     "execution_count": 51,
     "metadata": {},
     "output_type": "execute_result"
    }
   ],
   "source": [
    "print('Recall:', calculate_recall(y_test, y_pred, 'weighted'))\n",
    "print('Precision:', calculate_precision(y_test, y_pred, 'weighted'))\n",
    "print('F-Score:', calculate_f1(y_test, y_pred, 'weighted'))\n",
    "calculate_confusion_matrix(y_test, y_pred, title=f'Confusion matrix for KNN with k={best_k} and features selected by the ReliefF')"
   ]
  },
  {
   "cell_type": "markdown",
   "metadata": {},
   "source": [
    "## Ex.4 - Neural Network"
   ]
  },
  {
   "cell_type": "code",
   "execution_count": 52,
   "metadata": {},
   "outputs": [],
   "source": [
    "from sklearn.neural_network import MLPClassifier"
   ]
  },
  {
   "cell_type": "code",
   "execution_count": 53,
   "metadata": {},
   "outputs": [
    {
     "name": "stdout",
     "output_type": "stream",
     "text": [
      "CPU times: total: 0 ns\n",
      "Wall time: 0 ns\n"
     ]
    }
   ],
   "source": [
    "%%time\n",
    "#relieff_features = order_features(x_train, y_train)"
   ]
  },
  {
   "cell_type": "code",
   "execution_count": 54,
   "metadata": {},
   "outputs": [],
   "source": [
    "def best_model(x_train, x_val, y_train, y_val, features, function='ReliefF', plot=False):\n",
    "    max_score = 0\n",
    "    best_k = 0\n",
    "    for units in range(10, 3*len(features),10):\n",
    "        model = MLPClassifier(hidden_layer_sizes=(units,), activation='logistic', learning_rate='constant', max_iter=500)\n",
    "        model.fit(x_train[features], y_train)\n",
    "        y_pred = model.predict(x_val[features])\n",
    "        f1 = calculate_f1(y_val, y_pred,  'weighted')\n",
    "        if f1 > max_score:\n",
    "            max_score = f1\n",
    "            best_k = units\n",
    "    print('Max f1-score: ', max_score)\n",
    "    print('Model used: ', best_k)\n",
    "    return  best_k"
   ]
  },
  {
   "cell_type": "code",
   "execution_count": 55,
   "metadata": {},
   "outputs": [
    {
     "name": "stdout",
     "output_type": "stream",
     "text": [
      "Max f1-score:  0.3421035354944654\n",
      "Model used:  90\n",
      "CPU times: total: 27.2 s\n",
      "Wall time: 1min 23s\n"
     ]
    },
    {
     "data": {
      "text/plain": [
       "90"
      ]
     },
     "execution_count": 55,
     "metadata": {},
     "output_type": "execute_result"
    }
   ],
   "source": [
    "%%time\n",
    "best_model(x_train, x_val, y_train, y_val, relieff_features[:best_n_features])"
   ]
  }
 ],
 "metadata": {
  "kernelspec": {
   "display_name": "Python 3.10.4 ('cl_human_activities')",
   "language": "python",
   "name": "python3"
  },
  "language_info": {
   "codemirror_mode": {
    "name": "ipython",
    "version": 3
   },
   "file_extension": ".py",
   "mimetype": "text/x-python",
   "name": "python",
   "nbconvert_exporter": "python",
   "pygments_lexer": "ipython3",
   "version": "3.10.4"
  },
  "orig_nbformat": 4,
  "vscode": {
   "interpreter": {
    "hash": "7a9f9ed5e1328a2fd495f8decae32ad28d76e976d8070cefb87ceda6704ce235"
   }
  }
 },
 "nbformat": 4,
 "nbformat_minor": 2
}
