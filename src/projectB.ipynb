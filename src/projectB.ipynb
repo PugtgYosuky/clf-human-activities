{
 "cells": [
  {
   "cell_type": "markdown",
   "metadata": {},
   "source": [
    "# Project - Classification of Human Activities\n",
    "\n",
    "Disciplina de Tópicos de Ciência de Dados\n",
    "\n",
    "Joana Simões, nº 2019217013"
   ]
  },
  {
   "cell_type": "code",
   "execution_count": 1,
   "metadata": {},
   "outputs": [],
   "source": [
    "# imports \n",
    "from sklearn.model_selection import train_test_split, KFold\n",
    "import numpy as np\n",
    "import matplotlib.pyplot as plt\n",
    "from sklearn.metrics import confusion_matrix, ConfusionMatrixDisplay\n",
    "from sklearn.metrics import recall_score, precision_score, f1_score"
   ]
  },
  {
   "cell_type": "markdown",
   "metadata": {},
   "source": [
    "## Exercise 1.1"
   ]
  },
  {
   "cell_type": "code",
   "execution_count": 2,
   "metadata": {},
   "outputs": [],
   "source": [
    "def split_train_test(X, y, percentage_test=0.3):\n",
    "    x_train, x_test, y_train, y_test = train_test_split(X, y, test_size=percentage_test, random_state=42)\n",
    "    return x_train, x_test, y_train, y_test"
   ]
  },
  {
   "cell_type": "code",
   "execution_count": 3,
   "metadata": {},
   "outputs": [],
   "source": [
    "def split_k_fold(X, y, k_folds):\n",
    "    x_train = []\n",
    "    x_test = []\n",
    "    y_train = []\n",
    "    y_test = []\n",
    "\n",
    "    k_fold = KFold(n_splits=k_folds, random_state=42, shuffle=True)\n",
    "\n",
    "    for train_index, test_index in k_fold.split(X):\n",
    "        x_train.append(X.loc[train_index])\n",
    "        y_train.append(y[train_index])\n",
    "        x_test.append(X.loc[test_index])\n",
    "        y_test.append(y[test_index])\n",
    "\n",
    "    return x_train, x_test, y_train, y_test"
   ]
  },
  {
   "cell_type": "markdown",
   "metadata": {},
   "source": [
    "## Exercise 1.2"
   ]
  },
  {
   "cell_type": "code",
   "execution_count": 4,
   "metadata": {},
   "outputs": [],
   "source": [
    "def display_confusion_matrix(cm, labels):\n",
    "    display = ConfusionMatrixDisplay(cm, display_labels=labels)\n",
    "    display.plot()\n",
    "    plt.show()"
   ]
  },
  {
   "cell_type": "code",
   "execution_count": 5,
   "metadata": {},
   "outputs": [],
   "source": [
    "def calculate_confusion_matrix(y, y_pred, labels=None, display=True):\n",
    "    cm = confusion_matrix(y, y_pred, labels=labels)\n",
    "    if display:\n",
    "        display_confusion_matrix(cm, labels)\n",
    "    return cm"
   ]
  },
  {
   "cell_type": "code",
   "execution_count": 6,
   "metadata": {},
   "outputs": [],
   "source": [
    "def calculate_recall(y, y_pred, metric=None):\n",
    "    score = recall_score(y, y_pred, average=metric)\n",
    "    return score"
   ]
  },
  {
   "cell_type": "code",
   "execution_count": 7,
   "metadata": {},
   "outputs": [],
   "source": [
    "def calculate_precision(y, y_pred, metric=None):\n",
    "    return precision_score(y, y_pred, average=metric)"
   ]
  },
  {
   "cell_type": "code",
   "execution_count": 8,
   "metadata": {},
   "outputs": [],
   "source": [
    "def calculate_f1(y, y_pred, metric=None):\n",
    "    return f1_score(y, y_pred, average=metric)"
   ]
  },
  {
   "cell_type": "code",
   "execution_count": 9,
   "metadata": {},
   "outputs": [],
   "source": [
    "def measure_performance(y, y_pred, labels=None):\n",
    "    print(calculate_confusion_matrix(y, y_pred, labels))\n",
    "    print(calculate_recall(y, y_pred))\n",
    "    print(calculate_precision(y, y_pred))\n",
    "    print(calculate_f1(y, y_pred))"
   ]
  },
  {
   "cell_type": "code",
   "execution_count": 10,
   "metadata": {},
   "outputs": [],
   "source": [
    "y = np.array([1,2,1, 3, 2, 1, 1])\n",
    "y_pred = np.array([1, 1, 1, 3, 2, 2, 1])"
   ]
  },
  {
   "cell_type": "code",
   "execution_count": 11,
   "metadata": {},
   "outputs": [
    {
     "data": {
      "image/png": "[encoded data removed]",
      "text/plain": [
       "<Figure size 640x480 with 2 Axes>"
      ]
     },
     "metadata": {},
     "output_type": "display_data"
    },
    {
     "data": {
      "text/plain": [
       "array([[3, 1, 0],\n",
       "       [1, 1, 0],\n",
       "       [0, 0, 1]], dtype=int64)"
      ]
     },
     "execution_count": 11,
     "metadata": {},
     "output_type": "execute_result"
    }
   ],
   "source": [
    "calculate_confusion_matrix(y, y_pred, labels=[1, 2, 3])"
   ]
  },
  {
   "cell_type": "code",
   "execution_count": 12,
   "metadata": {},
   "outputs": [
    {
     "data": {
      "text/plain": [
       "array([0.75, 0.5 , 1.  ])"
      ]
     },
     "execution_count": 12,
     "metadata": {},
     "output_type": "execute_result"
    }
   ],
   "source": [
    "calculate_f1(y, y_pred)"
   ]
  },
  {
   "cell_type": "markdown",
   "metadata": {},
   "source": [
    "## Exercise 2"
   ]
  },
  {
   "cell_type": "code",
   "execution_count": 13,
   "metadata": {},
   "outputs": [],
   "source": [
    "from sklearn import datasets\n",
    "from sklearn.neighbors import KNeighborsClassifier"
   ]
  },
  {
   "cell_type": "code",
   "execution_count": 14,
   "metadata": {},
   "outputs": [],
   "source": [
    "def load_dataset():\n",
    "    iris_dataset = datasets.load_iris(as_frame=True)\n",
    "    X = iris_dataset.data\n",
    "    y = iris_dataset.target\n",
    "    return X, y"
   ]
  },
  {
   "cell_type": "code",
   "execution_count": 15,
   "metadata": {},
   "outputs": [],
   "source": [
    "X, y = load_dataset()"
   ]
  },
  {
   "cell_type": "code",
   "execution_count": 16,
   "metadata": {},
   "outputs": [
    {
     "data": {
      "text/plain": [
       "(150, 4)"
      ]
     },
     "execution_count": 16,
     "metadata": {},
     "output_type": "execute_result"
    }
   ],
   "source": [
    "X.shape"
   ]
  },
  {
   "cell_type": "markdown",
   "metadata": {},
   "source": [
    "### Train-only : k=1"
   ]
  },
  {
   "cell_type": "code",
   "execution_count": 17,
   "metadata": {},
   "outputs": [],
   "source": [
    "model = KNeighborsClassifier(n_neighbors = 1)\n",
    "model.fit(X,  y)\n",
    "y_pred = model.predict(X)"
   ]
  },
  {
   "cell_type": "code",
   "execution_count": 18,
   "metadata": {},
   "outputs": [
    {
     "name": "stdout",
     "output_type": "stream",
     "text": [
      "Recall: 1.0\n",
      "Precision: 1.0\n",
      "F1 score: 1.0\n"
     ]
    },
    {
     "data": {
      "image/png": "[encoded data removed]",
      "text/plain": [
       "<Figure size 640x480 with 2 Axes>"
      ]
     },
     "metadata": {},
     "output_type": "display_data"
    },
    {
     "data": {
      "text/plain": [
       "array([[50,  0,  0],\n",
       "       [ 0, 50,  0],\n",
       "       [ 0,  0, 50]], dtype=int64)"
      ]
     },
     "execution_count": 18,
     "metadata": {},
     "output_type": "execute_result"
    }
   ],
   "source": [
    "print('Recall:', calculate_recall(y, y_pred, 'weighted'))\n",
    "print('Precision:',calculate_precision(y, y_pred, 'weighted'))\n",
    "print('F1 score:',calculate_f1(y, y_pred, 'weighted'))\n",
    "calculate_confusion_matrix(y, y_pred)"
   ]
  },
  {
   "cell_type": "markdown",
   "metadata": {},
   "source": [
    "### Train-test 70-30 - k=1"
   ]
  },
  {
   "cell_type": "code",
   "execution_count": 19,
   "metadata": {},
   "outputs": [],
   "source": [
    "x_train, x_test, y_train, y_test = split_train_test(X, y, 0.3)"
   ]
  },
  {
   "cell_type": "code",
   "execution_count": 20,
   "metadata": {},
   "outputs": [
    {
     "name": "stdout",
     "output_type": "stream",
     "text": [
      "Recall: 1.0\n",
      "Precision: 1.0\n",
      "F1 score: 1.0\n"
     ]
    },
    {
     "data": {
      "image/png": "[encoded data removed]",
      "text/plain": [
       "<Figure size 640x480 with 2 Axes>"
      ]
     },
     "metadata": {},
     "output_type": "display_data"
    },
    {
     "data": {
      "text/plain": [
       "array([[19,  0,  0],\n",
       "       [ 0, 13,  0],\n",
       "       [ 0,  0, 13]], dtype=int64)"
      ]
     },
     "execution_count": 20,
     "metadata": {},
     "output_type": "execute_result"
    }
   ],
   "source": [
    "model = KNeighborsClassifier(n_neighbors=1)\n",
    "model.fit(x_train, y_train)\n",
    "y_pred = model.predict(x_test)\n",
    "print('Recall:', calculate_recall(y_test, y_pred, 'weighted'))\n",
    "print('Precision:',calculate_precision(y_test, y_pred, 'weighted'))\n",
    "print('F1 score:',calculate_f1(y_test, y_pred, 'weighted'))\n",
    "calculate_confusion_matrix(y_test, y_pred)"
   ]
  },
  {
   "cell_type": "markdown",
   "metadata": {},
   "source": [
    "### 10CV - k=1"
   ]
  },
  {
   "cell_type": "code",
   "execution_count": 21,
   "metadata": {},
   "outputs": [],
   "source": [
    "x_train, x_test, y_train, y_test = split_k_fold(X, y, 10)"
   ]
  },
  {
   "cell_type": "code",
   "execution_count": 22,
   "metadata": {},
   "outputs": [],
   "source": [
    "recalls = []\n",
    "precisions = []\n",
    "f1_scores = []\n",
    "confusion_matrices = []\n",
    "for i in range(len(x_train)):\n",
    "    model = KNeighborsClassifier(n_neighbors=1)\n",
    "    model.fit(x_train[i], y_train[i])\n",
    "    y_pred = model.predict(x_test[i])\n",
    "\n",
    "    recalls.append(calculate_recall(y_test[i], y_pred))\n",
    "    precisions.append(calculate_precision(y_test[i], y_pred))\n",
    "    f1_scores.append(calculate_f1(y_test[i], y_pred))\n",
    "    confusion_matrices.append(calculate_confusion_matrix(y_test[i], y_pred, display=False))"
   ]
  },
  {
   "cell_type": "code",
   "execution_count": 23,
   "metadata": {},
   "outputs": [
    {
     "name": "stdout",
     "output_type": "stream",
     "text": [
      "Averages\n",
      "Recall: 0.9607936507936509\n",
      "Precision: 0.9615079365079366\n",
      "F1 Score: 0.9588337588337589\n"
     ]
    }
   ],
   "source": [
    "print('Averages')\n",
    "print('Recall:', np.mean(recalls))\n",
    "print('Precision:',np.mean(precisions))\n",
    "print('F1 Score:',np.mean(f1_scores))\n",
    "avg_confusion_matrix(confusion_matrices)"
   ]
  },
  {
   "cell_type": "code",
   "execution_count": 56,
   "metadata": {},
   "outputs": [],
   "source": [
    "def avg_confusion_matrix(confusion_matrices, display=True):\n",
    "    avg_cm = confusion_matrices[0]\n",
    "    for i in range(1, len(confusion_matrices)):\n",
    "        avg_cm += confusion_matrices[i]\n",
    "    avg_cm = avg_cm / len(confusion_matrices)\n",
    "    if display:\n",
    "        display_confusion_matrix(avg_cm, None)\n",
    "    return avg_cm"
   ]
  },
  {
   "cell_type": "code",
   "execution_count": 25,
   "metadata": {},
   "outputs": [
    {
     "data": {
      "image/png": "[encoded data removed]",
      "text/plain": [
       "<Figure size 640x480 with 2 Axes>"
      ]
     },
     "metadata": {},
     "output_type": "display_data"
    }
   ],
   "source": [
    "avg_confusion_matrix(confusion_matrices)"
   ]
  },
  {
   "cell_type": "markdown",
   "metadata": {},
   "source": [
    "### Train only - multiple k values"
   ]
  },
  {
   "cell_type": "code",
   "execution_count": 26,
   "metadata": {},
   "outputs": [],
   "source": [
    "recalls = []\n",
    "precisions = []\n",
    "f1_scores = []\n",
    "confusion_matrices = []"
   ]
  },
  {
   "cell_type": "code",
   "execution_count": 27,
   "metadata": {},
   "outputs": [],
   "source": [
    "for i in range(15):\n",
    "    model = KNeighborsClassifier(n_neighbors = i+1)\n",
    "    model.fit(X, y)\n",
    "    y_pred = model.predict(X)\n",
    "    recalls.append(calculate_recall(y, y_pred))\n",
    "    precisions.append(calculate_precision(y, y_pred))\n",
    "    f1_scores.append(calculate_f1(y, y_pred))\n",
    "    confusion_matrices.append(calculate_confusion_matrix(y, y_pred, display=False))\n",
    "    "
   ]
  },
  {
   "cell_type": "code",
   "execution_count": 28,
   "metadata": {},
   "outputs": [
    {
     "name": "stdout",
     "output_type": "stream",
     "text": [
      "Averages\n",
      "Recall: 0.9768888888888887\n",
      "Precision: 0.9770552807157372\n",
      "F1 Score: 0.9768859540877917\n"
     ]
    }
   ],
   "source": [
    "print('Averages')\n",
    "print('Recall:', np.mean(recalls))\n",
    "print('Precision:',np.mean(precisions))\n",
    "print('F1 Score:',np.mean(f1_scores))"
   ]
  },
  {
   "cell_type": "code",
   "execution_count": 29,
   "metadata": {},
   "outputs": [
    {
     "data": {
      "image/png": "[encoded data removed]",
      "text/plain": [
       "<Figure size 640x480 with 2 Axes>"
      ]
     },
     "metadata": {},
     "output_type": "display_data"
    }
   ],
   "source": [
    "avg_confusion_matrix(confusion_matrices)"
   ]
  },
  {
   "cell_type": "markdown",
   "metadata": {},
   "source": [
    "### TVT 40-30-30 - multiple k values"
   ]
  },
  {
   "cell_type": "code",
   "execution_count": null,
   "metadata": {},
   "outputs": [],
   "source": [
    "x_train_total, x_test, y_train_total, y_test = split_train_test(X, y, 0.3)\n",
    "x_train, x_val, y_train, y_val = split_train_test(x_train_total, y_train_total, 0.3)"
   ]
  },
  {
   "cell_type": "code",
   "execution_count": null,
   "metadata": {},
   "outputs": [],
   "source": [
    "recalls = []\n",
    "precisions = []\n",
    "f1_scores = []\n",
    "confusion_matrices = []"
   ]
  },
  {
   "cell_type": "code",
   "execution_count": null,
   "metadata": {},
   "outputs": [],
   "source": [
    "for i in range(15):\n",
    "    model = KNeighborsClassifier(n_neighbors=i+1)\n",
    "    model.fit(x_train, y_train)\n",
    "    y_pred = model.predict(x_val)\n",
    "    recalls.append(calculate_recall(y_val, y_pred, 'weighted'))\n",
    "    precisions.append(calculate_precision(y_val, y_pred,  'weighted'))\n",
    "    f1_scores.append(calculate_f1(y_val, y_pred,  'weighted'))\n",
    "    confusion_matrices.append(calculate_confusion_matrix(y_val, y_pred, display=False))"
   ]
  },
  {
   "cell_type": "code",
   "execution_count": null,
   "metadata": {},
   "outputs": [
    {
     "name": "stdout",
     "output_type": "stream",
     "text": [
      "Averages\n",
      "Recall: 0.9291666666666667\n",
      "Precision: 0.9391127622377621\n",
      "F1 Score: 0.9288535815824146\n"
     ]
    },
    {
     "data": {
      "image/png": "[encoded data removed]",
      "text/plain": [
       "<Figure size 640x480 with 2 Axes>"
      ]
     },
     "metadata": {},
     "output_type": "display_data"
    }
   ],
   "source": [
    "print('Averages')\n",
    "print('Recall:', np.mean(recalls))\n",
    "print('Precision:',np.mean(precisions))\n",
    "print('F1 Score:',np.mean(f1_scores))\n",
    "avg_confusion_matrix(confusion_matrices)\n"
   ]
  },
  {
   "cell_type": "code",
   "execution_count": null,
   "metadata": {},
   "outputs": [
    {
     "name": "stdout",
     "output_type": "stream",
     "text": [
      "Best k\n",
      "Recall:  3\n",
      "Precision:  3\n",
      "F1-Score:  3\n"
     ]
    }
   ],
   "source": [
    "print('Best k')\n",
    "print('Recall: ', np.argmax(recalls)+1)\n",
    "print('Precision: ', np.argmax(precisions)+1)\n",
    "print('F1-Score: ', np.argmax(f1_scores)+1)"
   ]
  },
  {
   "cell_type": "code",
   "execution_count": null,
   "metadata": {},
   "outputs": [],
   "source": [
    "# retrain the model using the best k, k=3\n",
    "model = KNeighborsClassifier(n_neighbors=3)\n",
    "model.fit(x_train_total, y_train_total)\n",
    "y_pred = model.predict(x_test)"
   ]
  },
  {
   "cell_type": "code",
   "execution_count": null,
   "metadata": {},
   "outputs": [
    {
     "name": "stdout",
     "output_type": "stream",
     "text": [
      "Recall: 1.0\n",
      "Precision: 1.0\n",
      "F-Score: 1.0\n"
     ]
    },
    {
     "data": {
      "image/png": "[encoded data removed]",
      "text/plain": [
       "<Figure size 640x480 with 2 Axes>"
      ]
     },
     "metadata": {},
     "output_type": "display_data"
    },
    {
     "data": {
      "text/plain": [
       "array([[19,  0,  0],\n",
       "       [ 0, 13,  0],\n",
       "       [ 0,  0, 13]], dtype=int64)"
      ]
     },
     "metadata": {},
     "output_type": "display_data"
    }
   ],
   "source": [
    "print('Recall:', calculate_recall(y_test, y_pred, 'weighted'))\n",
    "print('Precision:', calculate_precision(y_test, y_pred, 'weighted'))\n",
    "print('F-Score:', calculate_f1(y_test, y_pred, 'weighted'))\n",
    "calculate_confusion_matrix(y_test, y_pred)"
   ]
  },
  {
   "cell_type": "code",
   "execution_count": null,
   "metadata": {},
   "outputs": [
    {
     "data": {
      "text/plain": [
       "0    19\n",
       "1    13\n",
       "2    13\n",
       "Name: target, dtype: int64"
      ]
     },
     "metadata": {},
     "output_type": "display_data"
    }
   ],
   "source": [
    "y_test.value_counts()"
   ]
  },
  {
   "cell_type": "markdown",
   "metadata": {},
   "source": [
    "### 10 CV - multiple k values"
   ]
  },
  {
   "cell_type": "code",
   "execution_count": 57,
   "metadata": {},
   "outputs": [],
   "source": [
    "recalls = []\n",
    "precisions = []\n",
    "f1_scores = []\n",
    "confusion_matrices = []"
   ]
  },
  {
   "cell_type": "code",
   "execution_count": 58,
   "metadata": {},
   "outputs": [],
   "source": [
    "x_train, x_test, y_train, y_test = split_k_fold(X, y, 10)"
   ]
  },
  {
   "cell_type": "code",
   "execution_count": 59,
   "metadata": {},
   "outputs": [],
   "source": [
    "for i in range(15):\n",
    "    recalls_avg = []\n",
    "    precision_avg = []\n",
    "    f1_avg = []\n",
    "    confusions_avg = []\n",
    "    for j in range(len(x_train)):\n",
    "        model = KNeighborsClassifier(n_neighbors=i+1)\n",
    "        model.fit(x_train[j], y_train[j])\n",
    "        y_pred = model.predict(x_test[j])\n",
    "        recalls_avg.append(calculate_recall(y_pred, y_test[j]))\n",
    "        precision_avg.append(calculate_precision(y_pred, y_test[j]))\n",
    "        f1_avg.append(calculate_f1(y_pred, y_test[j]))\n",
    "        confusions_avg.append(calculate_confusion_matrix(y_pred, y_test[j], display=False))\n",
    "    recalls.append(np.mean(recalls_avg))\n",
    "    precisions.append(np.mean(precision_avg))\n",
    "    f1_scores.append(np.mean(f1_avg))\n",
    "    confusion_matrices.append(avg_confusion_matrix(confusions_avg, display=False))"
   ]
  },
  {
   "cell_type": "code",
   "execution_count": 60,
   "metadata": {},
   "outputs": [
    {
     "name": "stdout",
     "output_type": "stream",
     "text": [
      "Averages\n",
      "Recall: 0.9727248677248678\n",
      "Precision: 0.969089947089947\n",
      "F1 Score: 0.9671913025246359\n"
     ]
    },
    {
     "data": {
      "image/png": "[encoded data removed]",
      "text/plain": [
       "<Figure size 640x480 with 2 Axes>"
      ]
     },
     "metadata": {},
     "output_type": "display_data"
    },
    {
     "data": {
      "text/plain": [
       "array([[5.        , 0.        , 0.        ],\n",
       "       [0.        , 4.76      , 0.23333333],\n",
       "       [0.        , 0.24      , 4.76666667]])"
      ]
     },
     "execution_count": 60,
     "metadata": {},
     "output_type": "execute_result"
    }
   ],
   "source": [
    "print('Averages')\n",
    "print('Recall:', np.mean(recalls))\n",
    "print('Precision:',np.mean(precisions))\n",
    "print('F1 Score:',np.mean(f1_scores))\n",
    "avg_confusion_matrix(confusion_matrices)"
   ]
  },
  {
   "cell_type": "code",
   "execution_count": 61,
   "metadata": {},
   "outputs": [
    {
     "name": "stdout",
     "output_type": "stream",
     "text": [
      "Best k\n",
      "Recall:  10\n",
      "Precision:  10\n",
      "F1-Score:  10\n"
     ]
    }
   ],
   "source": [
    "print('Best k')\n",
    "print('Recall: ', np.argmax(recalls)+1)\n",
    "print('Precision: ', np.argmax(precisions)+1)\n",
    "print('F1-Score: ', np.argmax(f1_scores)+1)"
   ]
  },
  {
   "cell_type": "markdown",
   "metadata": {},
   "source": [
    "Como se pode observar, o k=10 é o obtem melhores resultados na classificação dos modelos. Assim, o modelo será novamente re-treinado utilizando este valor"
   ]
  },
  {
   "cell_type": "code",
   "execution_count": 66,
   "metadata": {},
   "outputs": [],
   "source": [
    "recalls = []\n",
    "precisions = []\n",
    "f1_scores = []\n",
    "confusion_matrices = []"
   ]
  },
  {
   "cell_type": "code",
   "execution_count": 67,
   "metadata": {},
   "outputs": [],
   "source": [
    "for i in range(len(x_train)):\n",
    "    model = KNeighborsClassifier(n_neighbors=10)\n",
    "    model.fit(x_train[i], y_train[i])\n",
    "    y_pred = model.predict(x_test[i])\n",
    "\n",
    "    recalls.append(calculate_recall(y_test[i], y_pred))\n",
    "    precisions.append(calculate_precision(y_test[i], y_pred))\n",
    "    f1_scores.append(calculate_f1(y_test[i], y_pred))\n",
    "    confusion_matrices.append(calculate_confusion_matrix(y_test[i], y_pred, display=False))"
   ]
  },
  {
   "cell_type": "code",
   "execution_count": 68,
   "metadata": {},
   "outputs": [
    {
     "name": "stdout",
     "output_type": "stream",
     "text": [
      "Averages\n",
      "Recall: 0.9802380952380952\n",
      "Precision: 0.9838095238095239\n",
      "F1 Score: 0.9801383801383802\n"
     ]
    },
    {
     "data": {
      "image/png": "[encoded data removed]",
      "text/plain": [
       "<Figure size 640x480 with 2 Axes>"
      ]
     },
     "metadata": {},
     "output_type": "display_data"
    },
    {
     "data": {
      "text/plain": [
       "array([[5. , 0. , 0. ],\n",
       "       [0. , 4.9, 0.1],\n",
       "       [0. , 0.2, 4.8]])"
      ]
     },
     "execution_count": 68,
     "metadata": {},
     "output_type": "execute_result"
    }
   ],
   "source": [
    "print('Averages')\n",
    "print('Recall:', np.mean(recalls))\n",
    "print('Precision:',np.mean(precisions))\n",
    "print('F1 Score:',np.mean(f1_scores))\n",
    "avg_confusion_matrix(confusion_matrices)"
   ]
  }
 ],
 "metadata": {
  "kernelspec": {
   "display_name": "Python 3.10.4 ('cl_human_activities')",
   "language": "python",
   "name": "python3"
  },
  "language_info": {
   "codemirror_mode": {
    "name": "ipython",
    "version": 3
   },
   "file_extension": ".py",
   "mimetype": "text/x-python",
   "name": "python",
   "nbconvert_exporter": "python",
   "pygments_lexer": "ipython3",
   "version": "3.10.4"
  },
  "orig_nbformat": 4,
  "vscode": {
   "interpreter": {
    "hash": "7a9f9ed5e1328a2fd495f8decae32ad28d76e976d8070cefb87ceda6704ce235"
   }
  }
 },
 "nbformat": 4,
 "nbformat_minor": 2
}
