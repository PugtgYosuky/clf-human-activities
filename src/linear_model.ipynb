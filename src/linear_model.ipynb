{
 "cells": [
  {
   "cell_type": "markdown",
   "metadata": {},
   "source": [
    "https://towardsdatascience.com/the-complete-guide-to-linear-regression-in-python-3d3f8f06bf8"
   ]
  },
  {
   "cell_type": "code",
   "execution_count": 5,
   "metadata": {},
   "outputs": [],
   "source": [
    "import numpy as np\n",
    "import matplotlib.pyplot as plt"
   ]
  },
  {
   "cell_type": "code",
   "execution_count": 6,
   "metadata": {},
   "outputs": [],
   "source": [
    "array = np.arange(100) +1"
   ]
  },
  {
   "cell_type": "code",
   "execution_count": 7,
   "metadata": {},
   "outputs": [],
   "source": [
    "p = 5"
   ]
  },
  {
   "cell_type": "code",
   "execution_count": 8,
   "metadata": {},
   "outputs": [
    {
     "data": {
      "text/plain": [
       "array([ 96,  97,  98,  99, 100])"
      ]
     },
     "execution_count": 8,
     "metadata": {},
     "output_type": "execute_result"
    }
   ],
   "source": [
    "array[len(array)-p:]"
   ]
  },
  {
   "cell_type": "code",
   "execution_count": 9,
   "metadata": {},
   "outputs": [],
   "source": [
    "def calculate_alphas(data, p):\n",
    "    y = data[p:]\n",
    "    rows = len(data) - p\n",
    "    cols = p + 1\n",
    "    x = np.ones((rows, cols))\n",
    "    for i in range(rows):\n",
    "        x[i, 1:] = data[i:p+i][::-1]\n",
    "    \n",
    "    x_plus = np.linalg.pinv(x)\n",
    "    a = x_plus.dot(y)\n",
    "    \n",
    "    return a"
   ]
  },
  {
   "cell_type": "code",
   "execution_count": 10,
   "metadata": {},
   "outputs": [],
   "source": [
    "p = 3"
   ]
  },
  {
   "cell_type": "code",
   "execution_count": 11,
   "metadata": {},
   "outputs": [],
   "source": [
    "size = len(array)"
   ]
  },
  {
   "cell_type": "code",
   "execution_count": 12,
   "metadata": {},
   "outputs": [],
   "source": [
    "values = array[size-p:]"
   ]
  },
  {
   "cell_type": "code",
   "execution_count": 13,
   "metadata": {},
   "outputs": [],
   "source": [
    "a = calculate_alphas(values, p)"
   ]
  },
  {
   "cell_type": "code",
   "execution_count": 14,
   "metadata": {},
   "outputs": [
    {
     "data": {
      "text/plain": [
       "array([0., 0., 0., 0.])"
      ]
     },
     "execution_count": 14,
     "metadata": {},
     "output_type": "execute_result"
    }
   ],
   "source": [
    "a"
   ]
  },
  {
   "cell_type": "code",
   "execution_count": 15,
   "metadata": {},
   "outputs": [
    {
     "ename": "NameError",
     "evalue": "name 'x' is not defined",
     "output_type": "error",
     "traceback": [
      "\u001b[1;31m---------------------------------------------------------------------------\u001b[0m",
      "\u001b[1;31mNameError\u001b[0m                                 Traceback (most recent call last)",
      "Cell \u001b[1;32mIn [15], line 1\u001b[0m\n\u001b[1;32m----> 1\u001b[0m x\n",
      "\u001b[1;31mNameError\u001b[0m: name 'x' is not defined"
     ]
    }
   ],
   "source": [
    "x"
   ]
  },
  {
   "cell_type": "code",
   "execution_count": null,
   "metadata": {},
   "outputs": [],
   "source": [
    "def predict(data, p):\n",
    "    \"\"\" receives only the previous points and returns the predicted value based on the previous p points\"\"\"\n",
    "    size = len(data)\n",
    "    a = calculate_alphas(data, p)\n",
    "    prev_values = np.ones(p+1)\n",
    "    prev_values[1:] = data[:size-p-1:-1]\n",
    "    y_pred = prev_values.dot(a)\n",
    "    return y_pred"
   ]
  },
  {
   "cell_type": "code",
   "execution_count": null,
   "metadata": {},
   "outputs": [],
   "source": [
    "def plot_results(data, p):\n",
    "    print('Real value:', data[-1])\n",
    "    y_pred = predict(data[:-1], p)\n",
    "    print('Predicted value:', y_pred)\n",
    "    x_axis = np.arange(len(data))\n",
    "    plt.scatter(x_axis, data, label='real values')\n",
    "    x_axis_pred = len(data)\n",
    "    plt.scatter(x_axis_pred, y_pred, color='r', label='predicted values')\n",
    "    plt.legend()\n",
    "    plt.show()"
   ]
  },
  {
   "cell_type": "code",
   "execution_count": null,
   "metadata": {},
   "outputs": [
    {
     "data": {
      "text/plain": [
       "100"
      ]
     },
     "execution_count": 135,
     "metadata": {},
     "output_type": "execute_result"
    }
   ],
   "source": [
    "array[-1]"
   ]
  },
  {
   "cell_type": "code",
   "execution_count": null,
   "metadata": {},
   "outputs": [
    {
     "name": "stdout",
     "output_type": "stream",
     "text": [
      "Real value: 100\n",
      "Predicted value: 99.99999999999994\n"
     ]
    },
    {
     "data": {
      "image/png": "[encoded data removed]",
      "text/plain": [
       "<Figure size 640x480 with 1 Axes>"
      ]
     },
     "metadata": {},
     "output_type": "display_data"
    }
   ],
   "source": [
    "plot_results(array, 5)"
   ]
  },
  {
   "cell_type": "markdown",
   "metadata": {},
   "source": [
    "### Linear regression based on prev and pots values"
   ]
  },
  {
   "cell_type": "code",
   "execution_count": null,
   "metadata": {},
   "outputs": [],
   "source": [
    "index = 50"
   ]
  },
  {
   "cell_type": "code",
   "execution_count": null,
   "metadata": {},
   "outputs": [
    {
     "data": {
      "text/plain": [
       "51"
      ]
     },
     "execution_count": 144,
     "metadata": {},
     "output_type": "execute_result"
    }
   ],
   "source": [
    "real_value = array[index]\n",
    "real_value"
   ]
  },
  {
   "cell_type": "code",
   "execution_count": null,
   "metadata": {},
   "outputs": [
    {
     "data": {
      "text/plain": [
       "array([ 1,  2,  3,  4,  5,  6,  7,  8,  9, 10, 11, 12, 13, 14, 15, 16, 17,\n",
       "       18, 19, 20, 21, 22, 23, 24, 25, 26, 27, 28, 29, 30, 31, 32, 33, 34,\n",
       "       35, 36, 37, 38, 39, 40, 41, 42, 43, 44, 45, 46, 47, 48, 49, 50])"
      ]
     },
     "execution_count": 140,
     "metadata": {},
     "output_type": "execute_result"
    }
   ],
   "source": [
    "prev_data = array[:index]\n",
    "prev_data"
   ]
  },
  {
   "cell_type": "code",
   "execution_count": null,
   "metadata": {},
   "outputs": [
    {
     "data": {
      "text/plain": [
       "array([ 52,  53,  54,  55,  56,  57,  58,  59,  60,  61,  62,  63,  64,\n",
       "        65,  66,  67,  68,  69,  70,  71,  72,  73,  74,  75,  76,  77,\n",
       "        78,  79,  80,  81,  82,  83,  84,  85,  86,  87,  88,  89,  90,\n",
       "        91,  92,  93,  94,  95,  96,  97,  98,  99, 100])"
      ]
     },
     "execution_count": 143,
     "metadata": {},
     "output_type": "execute_result"
    }
   ],
   "source": [
    "post_data = array[index+1:]\n",
    "post_data"
   ]
  },
  {
   "cell_type": "code",
   "execution_count": null,
   "metadata": {},
   "outputs": [],
   "source": [
    "p_value = 5"
   ]
  },
  {
   "cell_type": "code",
   "execution_count": null,
   "metadata": {},
   "outputs": [
    {
     "data": {
      "text/plain": [
       "51.0"
      ]
     },
     "execution_count": 149,
     "metadata": {},
     "output_type": "execute_result"
    }
   ],
   "source": [
    "prev_pred = predict(prev_data, p_value)\n",
    "prev_pred"
   ]
  },
  {
   "cell_type": "code",
   "execution_count": null,
   "metadata": {},
   "outputs": [
    {
     "data": {
      "text/plain": [
       "50.999999999999936"
      ]
     },
     "execution_count": 151,
     "metadata": {},
     "output_type": "execute_result"
    }
   ],
   "source": [
    "post_pred = predict(post_data[::-1], p_value)\n",
    "post_pred"
   ]
  },
  {
   "cell_type": "code",
   "execution_count": null,
   "metadata": {},
   "outputs": [
    {
     "data": {
      "text/plain": [
       "50.99999999999997"
      ]
     },
     "execution_count": 153,
     "metadata": {},
     "output_type": "execute_result"
    }
   ],
   "source": [
    "predicted_value = (prev_pred + post_pred) / 2\n",
    "predicted_value"
   ]
  },
  {
   "cell_type": "code",
   "execution_count": null,
   "metadata": {},
   "outputs": [],
   "source": [
    "def predict_in_the_middle(data_all, p, split_index):\n",
    "    if split_index == len(data_all)-1:\n",
    "        # predict the last index of the data\n",
    "        return predict(data_all[:-1], p)\n",
    "    if split_index == 0:\n",
    "        # predict the first index of the data\n",
    "        return predict(data_all[1:][::-1], p)\n",
    "    if len(data_all) - split_index - 1< p + 1 or split_index < p + 1:\n",
    "        print('Invalid split index')\n",
    "        return None\n",
    "\n",
    "    prev_data = data_all[:split_index]\n",
    "    post_data = data_all[split_index+1:]\n",
    "\n",
    "    prev_pred = predict(prev_data, p_value)\n",
    "    post_pred = predict(post_data[::-1], p_value)\n",
    "\n",
    "    return (prev_pred + post_pred) / 2 # mean of the two predictions\n"
   ]
  },
  {
   "cell_type": "code",
   "execution_count": null,
   "metadata": {},
   "outputs": [
    {
     "name": "stdout",
     "output_type": "stream",
     "text": [
      "Invalid split index\n"
     ]
    }
   ],
   "source": [
    "predict_in_the_middle(array, 5, 3)"
   ]
  },
  {
   "cell_type": "code",
   "execution_count": null,
   "metadata": {},
   "outputs": [],
   "source": [
    "def rmse (y_real, y_pred):\n",
    "    \"\"\"https://www.askpython.com/python/examples/rmse-root-mean-square-error\"\"\"\n",
    "    mse = np.square(y_real - y_pred).mean()\n",
    "    return np.sqrt(mse)"
   ]
  },
  {
   "cell_type": "code",
   "execution_count": 17,
   "metadata": {},
   "outputs": [],
   "source": [
    "def define_best_p_value(data, index_first_outlier, min_p_value= 2, max_step=90, step=10):\n",
    "    \"\"\"Leave one-out technique to determine the best number of previous values to predict a value\"\"\"\n",
    "    p_possible_values = range(min_p_value, max_step, step)\n",
    "    real_value = data[index_first_outlier]\n",
    "    errors = []\n",
    "    for p in p_possible_values:\n",
    "        y_pred = predict(data[:index_first_outlier], p)\n",
    "        print('P: ', p)\n",
    "        print('Real: ', real_value)\n",
    "        print('Pred: ', y_pred)\n",
    "        errors.append(rmse(real_value, y_pred))\n",
    "\n",
    "    \n",
    "    plt.figure()\n",
    "    plt.plot(p_possible_values, errors, '*')\n",
    "    plt.xlabel('Previous p values')\n",
    "    plt.ylabel('RMSE')\n",
    "    plt.title('Errors obtained with RMSE using the Leave-one-out technique to determine the best p value')\n",
    "    plt.show()\n",
    "    "
   ]
  },
  {
   "cell_type": "code",
   "execution_count": 18,
   "metadata": {},
   "outputs": [
    {
     "ename": "NameError",
     "evalue": "name 'predict' is not defined",
     "output_type": "error",
     "traceback": [
      "\u001b[1;31m---------------------------------------------------------------------------\u001b[0m",
      "\u001b[1;31mNameError\u001b[0m                                 Traceback (most recent call last)",
      "Cell \u001b[1;32mIn [18], line 1\u001b[0m\n\u001b[1;32m----> 1\u001b[0m define_best_p_value(array, \u001b[39m98\u001b[39m)\n",
      "Cell \u001b[1;32mIn [17], line 7\u001b[0m, in \u001b[0;36mdefine_best_p_value\u001b[1;34m(data, index_first_outlier, min_p_value, max_step, step)\u001b[0m\n\u001b[0;32m      5\u001b[0m errors \u001b[39m=\u001b[39m []\n\u001b[0;32m      6\u001b[0m \u001b[39mfor\u001b[39;00m p \u001b[39min\u001b[39;00m p_possible_values:\n\u001b[1;32m----> 7\u001b[0m     y_pred \u001b[39m=\u001b[39m predict(data[:index_first_outlier], p)\n\u001b[0;32m      8\u001b[0m     \u001b[39mprint\u001b[39m(\u001b[39m'\u001b[39m\u001b[39mP: \u001b[39m\u001b[39m'\u001b[39m, p)\n\u001b[0;32m      9\u001b[0m     \u001b[39mprint\u001b[39m(\u001b[39m'\u001b[39m\u001b[39mReal: \u001b[39m\u001b[39m'\u001b[39m, real_value)\n",
      "\u001b[1;31mNameError\u001b[0m: name 'predict' is not defined"
     ]
    }
   ],
   "source": [
    "define_best_p_value(array, 98)"
   ]
  }
 ],
 "metadata": {
  "kernelspec": {
   "display_name": "Python 3 (ipykernel)",
   "language": "python",
   "name": "python3"
  },
  "language_info": {
   "codemirror_mode": {
    "name": "ipython",
    "version": 3
   },
   "file_extension": ".py",
   "mimetype": "text/x-python",
   "name": "python",
   "nbconvert_exporter": "python",
   "pygments_lexer": "ipython3",
   "version": "3.10.4"
  },
  "vscode": {
   "interpreter": {
    "hash": "7a9f9ed5e1328a2fd495f8decae32ad28d76e976d8070cefb87ceda6704ce235"
   }
  }
 },
 "nbformat": 4,
 "nbformat_minor": 4
}
