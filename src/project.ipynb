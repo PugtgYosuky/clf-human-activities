{
 "cells": [
  {
   "cell_type": "markdown",
   "id": "a90c1b96-6be3-4198-998c-c490bed8547e",
   "metadata": {},
   "source": [
    "# Project"
   ]
  },
  {
   "cell_type": "code",
   "execution_count": 1,
   "id": "5d0c50c3-6f7b-49aa-b43e-a14140de5490",
   "metadata": {},
   "outputs": [],
   "source": [
    "import numpy as np\n",
    "import matplotlib.pyplot as plt\n",
    "import scipy\n",
    "import os\n",
    "import pandas as pd"
   ]
  },
  {
   "cell_type": "code",
   "execution_count": 2,
   "id": "9be883a3-0832-4800-8c1c-09c41c685320",
   "metadata": {},
   "outputs": [],
   "source": [
    "DATA_PATH = 'data'"
   ]
  },
  {
   "cell_type": "code",
   "execution_count": 3,
   "id": "5b72db32-3182-48b9-9ef2-8d411475beee",
   "metadata": {},
   "outputs": [],
   "source": [
    "def get_user_data(user_id):\n",
    "    folder_path = f'part{user_id}'\n",
    "    path = os.path.join(DATA_PATH, folder_path)\n",
    "    files_names = os.listdir(path)\n",
    "    data_array = []\n",
    "    for i in range(1, len(files_names)):\n",
    "        if files_names[i].startswith('part'):\n",
    "            data_path = os.path.join(path, files_names[i])\n",
    "            aux = np.genfromtxt(data_path, delimiter=',')\n",
    "            data_array += [aux]\n",
    "            print(files_names[i], aux.shape)\n",
    "    data = data_array[0]\n",
    "    for i in range(1, len(data_array)):\n",
    "        data = np.concatenate((data, data_array[i]), axis=0)\n",
    "    return data"
   ]
  },
  {
   "cell_type": "code",
   "execution_count": 4,
   "id": "e197677f-e1f0-4b12-abb9-47e636113dd0",
   "metadata": {},
   "outputs": [
    {
     "name": "stdout",
     "output_type": "stream",
     "text": [
      "part0dev1.csv (53120, 12)\n",
      "part0dev2.csv (52864, 12)\n",
      "part0dev3.csv (53120, 12)\n",
      "part0dev4.csv (53120, 12)\n",
      "part0dev5.csv (53120, 12)\n"
     ]
    }
   ],
   "source": [
    "data = get_user_data(0)"
   ]
  },
  {
   "cell_type": "code",
   "execution_count": 65,
   "id": "7bc5869f-4c30-4d7a-8e5d-2c4dc01dae7c",
   "metadata": {},
   "outputs": [
    {
     "data": {
      "text/plain": [
       "(265344, 12)"
      ]
     },
     "execution_count": 65,
     "metadata": {},
     "output_type": "execute_result"
    }
   ],
   "source": [
    "array.shape"
   ]
  },
  {
   "cell_type": "code",
   "execution_count": 66,
   "id": "f932209a-4bcf-49d9-a131-61624dbaf5ec",
   "metadata": {},
   "outputs": [
    {
     "data": {
      "text/plain": [
       "array([[ 1.0000e+00, -1.8650e+00,  9.3890e+00, ...,  1.0134e+00,\n",
       "         5.0589e+02,  1.0000e+00],\n",
       "       [ 1.0000e+00, -1.7963e+00,  9.3742e+00, ...,  1.0000e+00,\n",
       "         5.2542e+02,  1.0000e+00],\n",
       "       [ 1.0000e+00, -1.8696e+00,  9.3000e+00, ...,  1.0156e+00,\n",
       "         5.4495e+02,  1.0000e+00],\n",
       "       ...,\n",
       "       [ 5.0000e+00, -4.9463e-01,  9.4428e+00, ...,  7.1739e-02,\n",
       "         1.0380e+06,  1.0000e+00],\n",
       "       [ 5.0000e+00, -4.7013e-01,  9.4553e+00, ...,  8.4783e-02,\n",
       "         1.0381e+06,  1.0000e+00],\n",
       "       [ 5.0000e+00, -4.9427e-01,  9.4431e+00, ...,  7.8261e-02,\n",
       "         1.0381e+06,  1.0000e+00]])"
      ]
     },
     "execution_count": 66,
     "metadata": {},
     "output_type": "execute_result"
    }
   ],
   "source": [
    "array"
   ]
  }
 ],
 "metadata": {
  "kernelspec": {
   "display_name": "cl_human_activities",
   "language": "python",
   "name": "cl_human_activities"
  },
  "language_info": {
   "codemirror_mode": {
    "name": "ipython",
    "version": 3
   },
   "file_extension": ".py",
   "mimetype": "text/x-python",
   "name": "python",
   "nbconvert_exporter": "python",
   "pygments_lexer": "ipython3",
   "version": "3.10.4"
  }
 },
 "nbformat": 4,
 "nbformat_minor": 5
}
