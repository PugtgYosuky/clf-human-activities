{
 "cells": [
  {
   "cell_type": "markdown",
   "id": "a90c1b96-6be3-4198-998c-c490bed8547e",
   "metadata": {},
   "source": [
    "# Project"
   ]
  },
  {
   "cell_type": "markdown",
   "id": "ba24629e",
   "metadata": {},
   "source": [
    "## Imports"
   ]
  },
  {
   "cell_type": "code",
   "execution_count": 1,
   "id": "5d0c50c3-6f7b-49aa-b43e-a14140de5490",
   "metadata": {},
   "outputs": [],
   "source": [
    "import numpy as np\n",
    "import matplotlib.pyplot as plt\n",
    "import scipy\n",
    "import os\n",
    "import pandas as pd\n",
    "import plotly.io as pio\n",
    "%matplotlib inline"
   ]
  },
  {
   "cell_type": "code",
   "execution_count": 2,
   "id": "5bc2af98",
   "metadata": {},
   "outputs": [],
   "source": [
    "from utils import *\n",
    "from handle_dataset import *\n",
    "from density import * \n",
    "from zscore import *\n",
    "from plots import * \n",
    "from kmeans import *"
   ]
  },
  {
   "cell_type": "code",
   "execution_count": 3,
   "id": "9be883a3-0832-4800-8c1c-09c41c685320",
   "metadata": {},
   "outputs": [],
   "source": [
    "DATA_PATH = 'data'"
   ]
  },
  {
   "cell_type": "code",
   "execution_count": 4,
   "id": "f7b9c700",
   "metadata": {},
   "outputs": [],
   "source": [
    "activities_labels = {\n",
    "    1 : 'STAND',\n",
    "    2 : 'SIT',\n",
    "    3 : 'SIT&TALK',\n",
    "    4 : 'WALK',\n",
    "    5 : 'WALK&TALK',\n",
    "    6 : 'CLIMB_STAIRS',\n",
    "    7 : 'CLIMB_STAIRS&TALK',\n",
    "    8 : 'STAND_TO_SIT',\n",
    "    9 : 'SIT_TO_STAND',\n",
    "    10: 'STAND_TO_SIT&TALK',\n",
    "    11: 'SIT&TALK_TO_STAND',\n",
    "    12: 'STAND_TO_WALK', \n",
    "    13: 'WALK_TO_STAND', \n",
    "    14: 'STAND_TO_CLIMB_STAIRS',\n",
    "    15: 'CLIMB_STAIRS_TO_WALK',\n",
    "    16: 'CLIMB_STAIRS&TALK_TO_WALK&TALK', \n",
    "\n",
    "}"
   ]
  },
  {
   "cell_type": "code",
   "execution_count": 5,
   "id": "5b922d05",
   "metadata": {},
   "outputs": [],
   "source": [
    "labels = [\n",
    "    'STAND',\n",
    "    'SIT',\n",
    "    'SIT&TALK',\n",
    "    'WALK',\n",
    "    'WALK&TALK',\n",
    "    'CLIMB_STAIRS',\n",
    "    'CLIMB_STAIRS&TALK',\n",
    "    'STAND_TO_SIT',\n",
    "    'SIT_TO_STAND',\n",
    "    'STAND_TO_SIT&TALK',\n",
    "    'SIT&TALK_TO_STAND',\n",
    "    'STAND_TO_WALK', \n",
    "    'WALK_TO_STAND', \n",
    "    'STAND_TO_CLIMB_STAIRS',\n",
    "    'CLIMB_STAIRS_TO_WALK',\n",
    "    'CLIMB_STAIRS&TALK_TO_WALK&TALK', \n",
    "\n",
    "]"
   ]
  },
  {
   "cell_type": "markdown",
   "id": "355713f4",
   "metadata": {},
   "source": [
    "## Exercise 2 - Import dataset"
   ]
  },
  {
   "cell_type": "code",
   "execution_count": 6,
   "id": "e197677f-e1f0-4b12-abb9-47e636113dd0",
   "metadata": {},
   "outputs": [],
   "source": [
    "# data_user_0 = get_user_data(path=DATA_PATH, user_id=0)"
   ]
  },
  {
   "cell_type": "code",
   "execution_count": 7,
   "id": "eb75f09c",
   "metadata": {},
   "outputs": [],
   "source": [
    "# data_user_0.shape"
   ]
  },
  {
   "cell_type": "code",
   "execution_count": 8,
   "id": "520eb838",
   "metadata": {},
   "outputs": [],
   "source": [
    "dataset = get_all_data(DATA_PATH)"
   ]
  },
  {
   "cell_type": "code",
   "execution_count": 9,
   "id": "98babfd9",
   "metadata": {},
   "outputs": [],
   "source": [
    "# dataset.shape"
   ]
  },
  {
   "cell_type": "code",
   "execution_count": 10,
   "id": "229b9b76",
   "metadata": {},
   "outputs": [],
   "source": [
    "# type(dataset)"
   ]
  },
  {
   "cell_type": "markdown",
   "id": "82fb6880",
   "metadata": {},
   "source": [
    "## Explore data"
   ]
  },
  {
   "cell_type": "code",
   "execution_count": 11,
   "id": "316977e8",
   "metadata": {},
   "outputs": [
    {
     "data": {
      "text/html": [
       "<div>\n",
       "<style scoped>\n",
       "    .dataframe tbody tr th:only-of-type {\n",
       "        vertical-align: middle;\n",
       "    }\n",
       "\n",
       "    .dataframe tbody tr th {\n",
       "        vertical-align: top;\n",
       "    }\n",
       "\n",
       "    .dataframe thead th {\n",
       "        text-align: right;\n",
       "    }\n",
       "</style>\n",
       "<table border=\"1\" class=\"dataframe\">\n",
       "  <thead>\n",
       "    <tr style=\"text-align: right;\">\n",
       "      <th></th>\n",
       "      <th>device_id</th>\n",
       "      <th>accelerometer_x</th>\n",
       "      <th>accelerometer_y</th>\n",
       "      <th>accelerometer_z</th>\n",
       "      <th>gyroscope_x</th>\n",
       "      <th>gyroscope_y</th>\n",
       "      <th>gyroscope_z</th>\n",
       "      <th>magnetometer_x</th>\n",
       "      <th>magnetometer_y</th>\n",
       "      <th>magnetometer_z</th>\n",
       "      <th>timestamp</th>\n",
       "      <th>activity</th>\n",
       "    </tr>\n",
       "  </thead>\n",
       "  <tbody>\n",
       "    <tr>\n",
       "      <th>count</th>\n",
       "      <td>3.242728e+06</td>\n",
       "      <td>3.242728e+06</td>\n",
       "      <td>3.242728e+06</td>\n",
       "      <td>3.242728e+06</td>\n",
       "      <td>3.242728e+06</td>\n",
       "      <td>3.242728e+06</td>\n",
       "      <td>3.242728e+06</td>\n",
       "      <td>3.242728e+06</td>\n",
       "      <td>3.242728e+06</td>\n",
       "      <td>3.242728e+06</td>\n",
       "      <td>3.242728e+06</td>\n",
       "      <td>3.242728e+06</td>\n",
       "    </tr>\n",
       "    <tr>\n",
       "      <th>mean</th>\n",
       "      <td>3.429246e+00</td>\n",
       "      <td>7.717793e-01</td>\n",
       "      <td>8.451621e+00</td>\n",
       "      <td>1.520613e+00</td>\n",
       "      <td>-1.691060e-01</td>\n",
       "      <td>1.890623e+00</td>\n",
       "      <td>3.556803e-01</td>\n",
       "      <td>-1.450031e-02</td>\n",
       "      <td>6.034252e-01</td>\n",
       "      <td>4.014632e-01</td>\n",
       "      <td>5.555476e+05</td>\n",
       "      <td>4.032846e+00</td>\n",
       "    </tr>\n",
       "    <tr>\n",
       "      <th>std</th>\n",
       "      <td>1.188858e+00</td>\n",
       "      <td>2.494840e+00</td>\n",
       "      <td>3.743438e+00</td>\n",
       "      <td>3.747458e+00</td>\n",
       "      <td>3.592437e+01</td>\n",
       "      <td>5.289265e+01</td>\n",
       "      <td>4.621969e+01</td>\n",
       "      <td>4.767157e-01</td>\n",
       "      <td>4.752627e-01</td>\n",
       "      <td>6.953205e-01</td>\n",
       "      <td>3.720966e+05</td>\n",
       "      <td>2.582780e+00</td>\n",
       "    </tr>\n",
       "    <tr>\n",
       "      <th>min</th>\n",
       "      <td>1.000000e+00</td>\n",
       "      <td>-2.489000e+01</td>\n",
       "      <td>-2.324600e+01</td>\n",
       "      <td>-2.502500e+01</td>\n",
       "      <td>-5.088600e+02</td>\n",
       "      <td>-5.071500e+02</td>\n",
       "      <td>-4.077900e+02</td>\n",
       "      <td>-2.002100e+00</td>\n",
       "      <td>-1.438800e+00</td>\n",
       "      <td>-1.658700e+00</td>\n",
       "      <td>2.612300e+01</td>\n",
       "      <td>1.000000e+00</td>\n",
       "    </tr>\n",
       "    <tr>\n",
       "      <th>25%</th>\n",
       "      <td>2.000000e+00</td>\n",
       "      <td>-5.244600e-01</td>\n",
       "      <td>8.352300e+00</td>\n",
       "      <td>-1.328500e+00</td>\n",
       "      <td>-2.967200e+00</td>\n",
       "      <td>-2.829200e+00</td>\n",
       "      <td>-1.415125e+00</td>\n",
       "      <td>-4.087100e-01</td>\n",
       "      <td>5.211000e-01</td>\n",
       "      <td>-1.977500e-01</td>\n",
       "      <td>2.720200e+05</td>\n",
       "      <td>2.000000e+00</td>\n",
       "    </tr>\n",
       "    <tr>\n",
       "      <th>50%</th>\n",
       "      <td>3.000000e+00</td>\n",
       "      <td>3.722300e-01</td>\n",
       "      <td>9.388200e+00</td>\n",
       "      <td>1.323900e+00</td>\n",
       "      <td>1.709100e-01</td>\n",
       "      <td>-1.321600e-01</td>\n",
       "      <td>-1.696150e-02</td>\n",
       "      <td>3.941900e-02</td>\n",
       "      <td>7.182500e-01</td>\n",
       "      <td>4.391300e-01</td>\n",
       "      <td>5.370900e+05</td>\n",
       "      <td>4.000000e+00</td>\n",
       "    </tr>\n",
       "    <tr>\n",
       "      <th>75%</th>\n",
       "      <td>4.000000e+00</td>\n",
       "      <td>2.006400e+00</td>\n",
       "      <td>9.801800e+00</td>\n",
       "      <td>3.299600e+00</td>\n",
       "      <td>5.930100e+00</td>\n",
       "      <td>8.948325e+00</td>\n",
       "      <td>5.541700e+00</td>\n",
       "      <td>3.250500e-01</td>\n",
       "      <td>8.825900e-01</td>\n",
       "      <td>9.627200e-01</td>\n",
       "      <td>8.008600e+05</td>\n",
       "      <td>5.000000e+00</td>\n",
       "    </tr>\n",
       "    <tr>\n",
       "      <th>max</th>\n",
       "      <td>5.000000e+00</td>\n",
       "      <td>2.538100e+01</td>\n",
       "      <td>2.598500e+01</td>\n",
       "      <td>2.529000e+01</td>\n",
       "      <td>5.061000e+02</td>\n",
       "      <td>5.035700e+02</td>\n",
       "      <td>4.741600e+02</td>\n",
       "      <td>1.606100e+00</td>\n",
       "      <td>2.988100e+00</td>\n",
       "      <td>3.085500e+00</td>\n",
       "      <td>2.825500e+06</td>\n",
       "      <td>1.600000e+01</td>\n",
       "    </tr>\n",
       "  </tbody>\n",
       "</table>\n",
       "</div>"
      ],
      "text/plain": [
       "          device_id  accelerometer_x  accelerometer_y  accelerometer_z  \\\n",
       "count  3.242728e+06     3.242728e+06     3.242728e+06     3.242728e+06   \n",
       "mean   3.429246e+00     7.717793e-01     8.451621e+00     1.520613e+00   \n",
       "std    1.188858e+00     2.494840e+00     3.743438e+00     3.747458e+00   \n",
       "min    1.000000e+00    -2.489000e+01    -2.324600e+01    -2.502500e+01   \n",
       "25%    2.000000e+00    -5.244600e-01     8.352300e+00    -1.328500e+00   \n",
       "50%    3.000000e+00     3.722300e-01     9.388200e+00     1.323900e+00   \n",
       "75%    4.000000e+00     2.006400e+00     9.801800e+00     3.299600e+00   \n",
       "max    5.000000e+00     2.538100e+01     2.598500e+01     2.529000e+01   \n",
       "\n",
       "        gyroscope_x   gyroscope_y   gyroscope_z  magnetometer_x  \\\n",
       "count  3.242728e+06  3.242728e+06  3.242728e+06    3.242728e+06   \n",
       "mean  -1.691060e-01  1.890623e+00  3.556803e-01   -1.450031e-02   \n",
       "std    3.592437e+01  5.289265e+01  4.621969e+01    4.767157e-01   \n",
       "min   -5.088600e+02 -5.071500e+02 -4.077900e+02   -2.002100e+00   \n",
       "25%   -2.967200e+00 -2.829200e+00 -1.415125e+00   -4.087100e-01   \n",
       "50%    1.709100e-01 -1.321600e-01 -1.696150e-02    3.941900e-02   \n",
       "75%    5.930100e+00  8.948325e+00  5.541700e+00    3.250500e-01   \n",
       "max    5.061000e+02  5.035700e+02  4.741600e+02    1.606100e+00   \n",
       "\n",
       "       magnetometer_y  magnetometer_z     timestamp      activity  \n",
       "count    3.242728e+06    3.242728e+06  3.242728e+06  3.242728e+06  \n",
       "mean     6.034252e-01    4.014632e-01  5.555476e+05  4.032846e+00  \n",
       "std      4.752627e-01    6.953205e-01  3.720966e+05  2.582780e+00  \n",
       "min     -1.438800e+00   -1.658700e+00  2.612300e+01  1.000000e+00  \n",
       "25%      5.211000e-01   -1.977500e-01  2.720200e+05  2.000000e+00  \n",
       "50%      7.182500e-01    4.391300e-01  5.370900e+05  4.000000e+00  \n",
       "75%      8.825900e-01    9.627200e-01  8.008600e+05  5.000000e+00  \n",
       "max      2.988100e+00    3.085500e+00  2.825500e+06  1.600000e+01  "
      ]
     },
     "execution_count": 11,
     "metadata": {},
     "output_type": "execute_result"
    }
   ],
   "source": [
    "dataset.describe()"
   ]
  },
  {
   "cell_type": "code",
   "execution_count": 12,
   "id": "8b0816dd",
   "metadata": {},
   "outputs": [],
   "source": [
    "# dataset.info()"
   ]
  },
  {
   "cell_type": "code",
   "execution_count": 13,
   "id": "047300db",
   "metadata": {},
   "outputs": [],
   "source": [
    "# dataset.columns"
   ]
  },
  {
   "cell_type": "markdown",
   "id": "40bc9c8f-b662-4fd4-9f93-82c92d33ef2b",
   "metadata": {},
   "source": [
    "## Append metrics"
   ]
  },
  {
   "cell_type": "code",
   "execution_count": 14,
   "id": "ea82769e",
   "metadata": {},
   "outputs": [],
   "source": [
    "data_with_features = append_metrics(dataset)"
   ]
  },
  {
   "cell_type": "code",
   "execution_count": 15,
   "id": "62a159ce",
   "metadata": {},
   "outputs": [
    {
     "data": {
      "text/html": [
       "<div>\n",
       "<style scoped>\n",
       "    .dataframe tbody tr th:only-of-type {\n",
       "        vertical-align: middle;\n",
       "    }\n",
       "\n",
       "    .dataframe tbody tr th {\n",
       "        vertical-align: top;\n",
       "    }\n",
       "\n",
       "    .dataframe thead th {\n",
       "        text-align: right;\n",
       "    }\n",
       "</style>\n",
       "<table border=\"1\" class=\"dataframe\">\n",
       "  <thead>\n",
       "    <tr style=\"text-align: right;\">\n",
       "      <th></th>\n",
       "      <th>device_id</th>\n",
       "      <th>accelerometer_x</th>\n",
       "      <th>accelerometer_y</th>\n",
       "      <th>accelerometer_z</th>\n",
       "      <th>gyroscope_x</th>\n",
       "      <th>gyroscope_y</th>\n",
       "      <th>gyroscope_z</th>\n",
       "      <th>magnetometer_x</th>\n",
       "      <th>magnetometer_y</th>\n",
       "      <th>magnetometer_z</th>\n",
       "      <th>timestamp</th>\n",
       "      <th>activity</th>\n",
       "      <th>accelerometer_module</th>\n",
       "      <th>gyroscope_module</th>\n",
       "      <th>magnetometer_module</th>\n",
       "    </tr>\n",
       "  </thead>\n",
       "  <tbody>\n",
       "    <tr>\n",
       "      <th>0</th>\n",
       "      <td>1</td>\n",
       "      <td>-1.8650</td>\n",
       "      <td>9.3890</td>\n",
       "      <td>2.58120</td>\n",
       "      <td>-1.141800</td>\n",
       "      <td>-1.18560</td>\n",
       "      <td>0.84998</td>\n",
       "      <td>-0.34476</td>\n",
       "      <td>0.59839</td>\n",
       "      <td>1.01340</td>\n",
       "      <td>505.89</td>\n",
       "      <td>1</td>\n",
       "      <td>9.914340</td>\n",
       "      <td>1.852517</td>\n",
       "      <td>1.226340</td>\n",
       "    </tr>\n",
       "    <tr>\n",
       "      <th>1</th>\n",
       "      <td>1</td>\n",
       "      <td>-1.7963</td>\n",
       "      <td>9.3742</td>\n",
       "      <td>2.44600</td>\n",
       "      <td>-1.561800</td>\n",
       "      <td>-0.66165</td>\n",
       "      <td>0.59730</td>\n",
       "      <td>-0.34274</td>\n",
       "      <td>0.57631</td>\n",
       "      <td>1.00000</td>\n",
       "      <td>525.42</td>\n",
       "      <td>1</td>\n",
       "      <td>9.853184</td>\n",
       "      <td>1.798268</td>\n",
       "      <td>1.203995</td>\n",
       "    </tr>\n",
       "    <tr>\n",
       "      <th>2</th>\n",
       "      <td>1</td>\n",
       "      <td>-1.8696</td>\n",
       "      <td>9.3000</td>\n",
       "      <td>2.35140</td>\n",
       "      <td>-1.187700</td>\n",
       "      <td>-1.28410</td>\n",
       "      <td>0.14212</td>\n",
       "      <td>-0.34476</td>\n",
       "      <td>0.59639</td>\n",
       "      <td>1.01560</td>\n",
       "      <td>544.95</td>\n",
       "      <td>1</td>\n",
       "      <td>9.773151</td>\n",
       "      <td>1.754919</td>\n",
       "      <td>1.227185</td>\n",
       "    </tr>\n",
       "    <tr>\n",
       "      <th>3</th>\n",
       "      <td>1</td>\n",
       "      <td>-1.7961</td>\n",
       "      <td>9.3624</td>\n",
       "      <td>2.45840</td>\n",
       "      <td>-0.583990</td>\n",
       "      <td>-2.03340</td>\n",
       "      <td>0.42912</td>\n",
       "      <td>-0.32863</td>\n",
       "      <td>0.62249</td>\n",
       "      <td>1.01560</td>\n",
       "      <td>564.48</td>\n",
       "      <td>1</td>\n",
       "      <td>9.845011</td>\n",
       "      <td>2.158681</td>\n",
       "      <td>1.235692</td>\n",
       "    </tr>\n",
       "    <tr>\n",
       "      <th>4</th>\n",
       "      <td>1</td>\n",
       "      <td>-1.6768</td>\n",
       "      <td>9.3506</td>\n",
       "      <td>2.46850</td>\n",
       "      <td>-0.370500</td>\n",
       "      <td>-1.36470</td>\n",
       "      <td>0.37194</td>\n",
       "      <td>-0.33669</td>\n",
       "      <td>0.62048</td>\n",
       "      <td>1.02450</td>\n",
       "      <td>584.01</td>\n",
       "      <td>1</td>\n",
       "      <td>9.815237</td>\n",
       "      <td>1.462196</td>\n",
       "      <td>1.244169</td>\n",
       "    </tr>\n",
       "    <tr>\n",
       "      <th>...</th>\n",
       "      <td>...</td>\n",
       "      <td>...</td>\n",
       "      <td>...</td>\n",
       "      <td>...</td>\n",
       "      <td>...</td>\n",
       "      <td>...</td>\n",
       "      <td>...</td>\n",
       "      <td>...</td>\n",
       "      <td>...</td>\n",
       "      <td>...</td>\n",
       "      <td>...</td>\n",
       "      <td>...</td>\n",
       "      <td>...</td>\n",
       "      <td>...</td>\n",
       "      <td>...</td>\n",
       "    </tr>\n",
       "    <tr>\n",
       "      <th>3242723</th>\n",
       "      <td>5</td>\n",
       "      <td>-1.0568</td>\n",
       "      <td>9.7161</td>\n",
       "      <td>0.37560</td>\n",
       "      <td>-0.158430</td>\n",
       "      <td>-0.88740</td>\n",
       "      <td>0.44327</td>\n",
       "      <td>0.12121</td>\n",
       "      <td>0.62675</td>\n",
       "      <td>0.36739</td>\n",
       "      <td>1061000.00</td>\n",
       "      <td>1</td>\n",
       "      <td>9.780619</td>\n",
       "      <td>1.004523</td>\n",
       "      <td>0.736534</td>\n",
       "    </tr>\n",
       "    <tr>\n",
       "      <th>3242724</th>\n",
       "      <td>5</td>\n",
       "      <td>-1.0565</td>\n",
       "      <td>9.6921</td>\n",
       "      <td>0.38826</td>\n",
       "      <td>0.112400</td>\n",
       "      <td>-0.59353</td>\n",
       "      <td>0.39687</td>\n",
       "      <td>0.11111</td>\n",
       "      <td>0.59880</td>\n",
       "      <td>0.36304</td>\n",
       "      <td>1061000.00</td>\n",
       "      <td>1</td>\n",
       "      <td>9.757240</td>\n",
       "      <td>0.722784</td>\n",
       "      <td>0.709017</td>\n",
       "    </tr>\n",
       "    <tr>\n",
       "      <th>3242725</th>\n",
       "      <td>5</td>\n",
       "      <td>-1.0566</td>\n",
       "      <td>9.6920</td>\n",
       "      <td>0.37607</td>\n",
       "      <td>-0.054114</td>\n",
       "      <td>-0.67227</td>\n",
       "      <td>0.36407</td>\n",
       "      <td>0.11717</td>\n",
       "      <td>0.58084</td>\n",
       "      <td>0.35217</td>\n",
       "      <td>1061100.00</td>\n",
       "      <td>1</td>\n",
       "      <td>9.756674</td>\n",
       "      <td>0.766435</td>\n",
       "      <td>0.689295</td>\n",
       "    </tr>\n",
       "    <tr>\n",
       "      <th>3242726</th>\n",
       "      <td>5</td>\n",
       "      <td>-1.0563</td>\n",
       "      <td>9.6801</td>\n",
       "      <td>0.38850</td>\n",
       "      <td>0.096447</td>\n",
       "      <td>-0.51923</td>\n",
       "      <td>0.16742</td>\n",
       "      <td>0.11717</td>\n",
       "      <td>0.61677</td>\n",
       "      <td>0.36304</td>\n",
       "      <td>1061100.00</td>\n",
       "      <td>1</td>\n",
       "      <td>9.745309</td>\n",
       "      <td>0.554014</td>\n",
       "      <td>0.725212</td>\n",
       "    </tr>\n",
       "    <tr>\n",
       "      <th>3242727</th>\n",
       "      <td>5</td>\n",
       "      <td>-1.0686</td>\n",
       "      <td>9.6920</td>\n",
       "      <td>0.38851</td>\n",
       "      <td>0.171850</td>\n",
       "      <td>-0.45506</td>\n",
       "      <td>0.36981</td>\n",
       "      <td>0.10909</td>\n",
       "      <td>0.62475</td>\n",
       "      <td>0.36957</td>\n",
       "      <td>1061100.00</td>\n",
       "      <td>1</td>\n",
       "      <td>9.758469</td>\n",
       "      <td>0.611041</td>\n",
       "      <td>0.734027</td>\n",
       "    </tr>\n",
       "  </tbody>\n",
       "</table>\n",
       "<p>3242728 rows × 15 columns</p>\n",
       "</div>"
      ],
      "text/plain": [
       "         device_id  accelerometer_x  accelerometer_y  accelerometer_z  \\\n",
       "0                1          -1.8650           9.3890          2.58120   \n",
       "1                1          -1.7963           9.3742          2.44600   \n",
       "2                1          -1.8696           9.3000          2.35140   \n",
       "3                1          -1.7961           9.3624          2.45840   \n",
       "4                1          -1.6768           9.3506          2.46850   \n",
       "...            ...              ...              ...              ...   \n",
       "3242723          5          -1.0568           9.7161          0.37560   \n",
       "3242724          5          -1.0565           9.6921          0.38826   \n",
       "3242725          5          -1.0566           9.6920          0.37607   \n",
       "3242726          5          -1.0563           9.6801          0.38850   \n",
       "3242727          5          -1.0686           9.6920          0.38851   \n",
       "\n",
       "         gyroscope_x  gyroscope_y  gyroscope_z  magnetometer_x  \\\n",
       "0          -1.141800     -1.18560      0.84998        -0.34476   \n",
       "1          -1.561800     -0.66165      0.59730        -0.34274   \n",
       "2          -1.187700     -1.28410      0.14212        -0.34476   \n",
       "3          -0.583990     -2.03340      0.42912        -0.32863   \n",
       "4          -0.370500     -1.36470      0.37194        -0.33669   \n",
       "...              ...          ...          ...             ...   \n",
       "3242723    -0.158430     -0.88740      0.44327         0.12121   \n",
       "3242724     0.112400     -0.59353      0.39687         0.11111   \n",
       "3242725    -0.054114     -0.67227      0.36407         0.11717   \n",
       "3242726     0.096447     -0.51923      0.16742         0.11717   \n",
       "3242727     0.171850     -0.45506      0.36981         0.10909   \n",
       "\n",
       "         magnetometer_y  magnetometer_z   timestamp  activity  \\\n",
       "0               0.59839         1.01340      505.89         1   \n",
       "1               0.57631         1.00000      525.42         1   \n",
       "2               0.59639         1.01560      544.95         1   \n",
       "3               0.62249         1.01560      564.48         1   \n",
       "4               0.62048         1.02450      584.01         1   \n",
       "...                 ...             ...         ...       ...   \n",
       "3242723         0.62675         0.36739  1061000.00         1   \n",
       "3242724         0.59880         0.36304  1061000.00         1   \n",
       "3242725         0.58084         0.35217  1061100.00         1   \n",
       "3242726         0.61677         0.36304  1061100.00         1   \n",
       "3242727         0.62475         0.36957  1061100.00         1   \n",
       "\n",
       "         accelerometer_module  gyroscope_module  magnetometer_module  \n",
       "0                    9.914340          1.852517             1.226340  \n",
       "1                    9.853184          1.798268             1.203995  \n",
       "2                    9.773151          1.754919             1.227185  \n",
       "3                    9.845011          2.158681             1.235692  \n",
       "4                    9.815237          1.462196             1.244169  \n",
       "...                       ...               ...                  ...  \n",
       "3242723              9.780619          1.004523             0.736534  \n",
       "3242724              9.757240          0.722784             0.709017  \n",
       "3242725              9.756674          0.766435             0.689295  \n",
       "3242726              9.745309          0.554014             0.725212  \n",
       "3242727              9.758469          0.611041             0.734027  \n",
       "\n",
       "[3242728 rows x 15 columns]"
      ]
     },
     "execution_count": 15,
     "metadata": {},
     "output_type": "execute_result"
    }
   ],
   "source": [
    "data_with_features"
   ]
  },
  {
   "cell_type": "markdown",
   "id": "991232ed",
   "metadata": {},
   "source": [
    "## Select only right wrist data"
   ]
  },
  {
   "cell_type": "markdown",
   "id": "2c3bf9f7-7728-4776-9e9b-b28793269131",
   "metadata": {},
   "source": [
    "Nos seguintes exercícios, apensa serão usados o dataset do pulso direito"
   ]
  },
  {
   "cell_type": "code",
   "execution_count": 16,
   "id": "9cdff17b",
   "metadata": {},
   "outputs": [],
   "source": [
    "def get_device_data(data, device_id):\n",
    "    return data[data['device_id'] == device_id]"
   ]
  },
  {
   "cell_type": "code",
   "execution_count": 17,
   "id": "fc384b92",
   "metadata": {},
   "outputs": [],
   "source": [
    "right_wrist_id = 2\n",
    "data = get_device_data(data_with_features, right_wrist_id)\n",
    "right_wrist_data = data[['accelerometer_module', 'gyroscope_module', 'magnetometer_module', 'activity']]\n",
    "right_features = right_wrist_data[['accelerometer_module','gyroscope_module', 'magnetometer_module']]"
   ]
  },
  {
   "cell_type": "markdown",
   "id": "c35b600b",
   "metadata": {},
   "source": [
    "## Exercise 3.1 - Boxplot of the vector modules grouped by activity"
   ]
  },
  {
   "cell_type": "code",
   "execution_count": 18,
   "id": "b55565b4",
   "metadata": {},
   "outputs": [],
   "source": [
    "# boxplot_features(data_with_features, 0)\n",
    "# boxplot_features(data_with_features, 1)\n",
    "# boxplot_features(data_with_features, 2)"
   ]
  },
  {
   "cell_type": "markdown",
   "id": "f4f243e6",
   "metadata": {},
   "source": [
    "Pelos boxplot dos módulos dos diferentes vetores podemore concluir que :\n",
    "    - as variáveis estão em ordens de grandeza muito diferentes\n",
    "    - existe muito quantidade de outliers, no entanto isto pode dever-se também a estarem a ser utilizados neste gráfico, todos os dispositivos de sensores, que impactam os resultados\n"
   ]
  },
  {
   "cell_type": "markdown",
   "id": "11cdeb6b",
   "metadata": {},
   "source": [
    "### Plotting boxplot of the modules by activity separated by devices"
   ]
  },
  {
   "cell_type": "markdown",
   "id": "6fcba0ad",
   "metadata": {},
   "source": [
    "![Boxplot core](./data/images/boxplot.png \"Boxplot - detect outliers\")"
   ]
  },
  {
   "cell_type": "markdown",
   "id": "b8a9dfd9",
   "metadata": {},
   "source": [
    "### Plot of the right wrist (id = 2)"
   ]
  },
  {
   "cell_type": "code",
   "execution_count": 19,
   "id": "7c82c02a",
   "metadata": {},
   "outputs": [],
   "source": [
    "# boxplot_features(right_wrist_data, 0, title='Right wrist')\n",
    "# boxplot_features(right_wrist_data, 1, title='Right wrist')\n",
    "# boxplot_features(right_wrist_data, 2, title='Right wrist')"
   ]
  },
  {
   "cell_type": "markdown",
   "id": "43f05f79",
   "metadata": {},
   "source": [
    "Ao utilizar os dados de apenas um dispositivo, é notório que a quantidade de outliers diminui consideravelmente. Verificando-se, no caso da variavel 'accelerometer_module' "
   ]
  },
  {
   "cell_type": "code",
   "execution_count": 20,
   "id": "33c2912e",
   "metadata": {},
   "outputs": [],
   "source": [
    "# right_wrist_data.describe()"
   ]
  },
  {
   "cell_type": "markdown",
   "id": "21907b38",
   "metadata": {},
   "source": [
    "## Exercise 3.2 - Outliers density"
   ]
  },
  {
   "cell_type": "code",
   "execution_count": 21,
   "id": "ba5fd95a",
   "metadata": {},
   "outputs": [],
   "source": [
    "# densities = calculate_density_by_activity(data, labels)\n",
    "# densities"
   ]
  },
  {
   "cell_type": "code",
   "execution_count": 22,
   "id": "4b19bd4c",
   "metadata": {},
   "outputs": [],
   "source": [
    "# plot_densities(densities)"
   ]
  },
  {
   "cell_type": "markdown",
   "id": "886555d9",
   "metadata": {},
   "source": [
    "Como se pode observar pelas densidades de outliers obtidas, o vetor de aceleração é o que apresenta maior quantidade de outliers. Isto poderá dever-se ao facto de ser o mais sensível a movimentos da pessoa. Pelo contrátrio, o vetor de variação do campo magnético, em algumas situações nem apresenta outliers. Outra conclusão que podemos retirar do gráfico, é que as atividades *Sit to stand* e *Sit and talk to stand* são as que apresentam maior quantidade de outliers nos três vetores, mostrando que o movimento de levantar gera muitas oscilações e perturbações nos sensores."
   ]
  },
  {
   "cell_type": "markdown",
   "id": "7e94b1d8",
   "metadata": {},
   "source": [
    "## Exercise 3.3 - Z-score test"
   ]
  },
  {
   "cell_type": "code",
   "execution_count": 23,
   "id": "9094b18a",
   "metadata": {},
   "outputs": [],
   "source": [
    "# plot_zscore_outliers(data,'accelerometer_module')\n",
    "# plot_zscore_outliers(data,'gyroscope_module')\n",
    "# # plot_zscore_outliers(data,'magnetometer_module')"
   ]
  },
  {
   "cell_type": "markdown",
   "id": "58413ae4",
   "metadata": {},
   "source": [
    "Pelos gráficos, podemos observar que à medida que o k aumenta, o número de pontos considerados outliers diminui. Mostra-se assim, que ao aumentar k, aumentamos a gama de valor válidos, sendo menos restrito a certos outliers"
   ]
  },
  {
   "cell_type": "markdown",
   "id": "ca873770",
   "metadata": {},
   "source": [
    "## Exercise 3.6 - K-means"
   ]
  },
  {
   "cell_type": "markdown",
   "id": "bd7f0922",
   "metadata": {},
   "source": [
    "Como se pode observar, segundo o método Elbow, k=9 parece ser o número de clusters ideal"
   ]
  },
  {
   "cell_type": "markdown",
   "id": "876ef40c",
   "metadata": {},
   "source": [
    "#### Plot by devices"
   ]
  },
  {
   "cell_type": "code",
   "execution_count": 24,
   "id": "bb2ec4f4",
   "metadata": {},
   "outputs": [],
   "source": [
    "# kmeans = KMeans(optimal_k)"
   ]
  },
  {
   "cell_type": "code",
   "execution_count": 25,
   "id": "f05f31a7",
   "metadata": {},
   "outputs": [],
   "source": [
    "# labels = kmeans.predict(right_features)"
   ]
  },
  {
   "cell_type": "code",
   "execution_count": 26,
   "id": "dd8549fb",
   "metadata": {},
   "outputs": [],
   "source": [
    "# plot_kmeans_clusters(kmeans.data, labels)"
   ]
  },
  {
   "cell_type": "code",
   "execution_count": 27,
   "id": "48833167",
   "metadata": {},
   "outputs": [],
   "source": [
    "# labels.to_csv('labels.csv', index=False)"
   ]
  },
  {
   "cell_type": "code",
   "execution_count": 28,
   "id": "bc4b6a89",
   "metadata": {},
   "outputs": [],
   "source": [
    "# plot_kmeans_clusters(kmeans.data, right_wrist_data['activity'] )"
   ]
  },
  {
   "cell_type": "code",
   "execution_count": 29,
   "id": "7628572d",
   "metadata": {},
   "outputs": [],
   "source": [
    "accelerometer_data = data[['accelerometer_x', 'accelerometer_y', 'accelerometer_z']]\n",
    "gyroscope_data = data[['gyroscope_x', 'gyroscope_y', 'gyroscope_z']]\n",
    "magnetometer_data = data[['magnetometer_x', 'magnetometer_y', 'magnetometer_z']]"
   ]
  },
  {
   "cell_type": "markdown",
   "id": "a4d9d60b",
   "metadata": {},
   "source": [
    "### Accelerometer"
   ]
  },
  {
   "cell_type": "code",
   "execution_count": 30,
   "id": "642aa23b",
   "metadata": {},
   "outputs": [],
   "source": [
    "# optimal_k_acc = best_number_clusters(normalize_data(accelerometer_data), threshold=0.90)\n",
    "# print('optimal k:', optimal_k_acc)"
   ]
  },
  {
   "cell_type": "code",
   "execution_count": 31,
   "id": "60021461",
   "metadata": {},
   "outputs": [],
   "source": [
    "# print('optimal k:', optimal_k_acc)"
   ]
  },
  {
   "cell_type": "code",
   "execution_count": 32,
   "id": "f9e78d58",
   "metadata": {},
   "outputs": [],
   "source": [
    "# %%time\n",
    "# kmeans_acc = KMeans(optimal_k_acc, max_iterations=150)\n",
    "# labels_acc = kmeans_acc.predict(accelerometer_data)"
   ]
  },
  {
   "cell_type": "code",
   "execution_count": 33,
   "id": "47bb9fdc",
   "metadata": {},
   "outputs": [],
   "source": [
    "# labels_acc.to_csv('labels_acc.csv', index=False)"
   ]
  },
  {
   "cell_type": "code",
   "execution_count": 34,
   "id": "13220c2e",
   "metadata": {},
   "outputs": [],
   "source": [
    "# kmeans_acc.get_distances().max()"
   ]
  },
  {
   "cell_type": "code",
   "execution_count": 35,
   "id": "b06bda50",
   "metadata": {},
   "outputs": [],
   "source": [
    "# labels_acc = kmeans_acc.get_labels_with_outliers(2.5)"
   ]
  },
  {
   "cell_type": "code",
   "execution_count": 36,
   "id": "1207b2d7",
   "metadata": {},
   "outputs": [],
   "source": [
    "# plot_kmeans_clusters(kmeans_acc.data, labels_acc, optimal_k_acc, 'accelerometer')"
   ]
  },
  {
   "cell_type": "markdown",
   "id": "4eaa84a3",
   "metadata": {},
   "source": [
    "### Gyroscope"
   ]
  },
  {
   "cell_type": "code",
   "execution_count": 37,
   "id": "4c91f904",
   "metadata": {},
   "outputs": [],
   "source": [
    "# optimal_k_gyro = best_number_clusters(gyroscope_data, threshold=0.90)\n",
    "# print('optimal k:', optimal_k_gyro)\n"
   ]
  },
  {
   "cell_type": "code",
   "execution_count": 38,
   "id": "19d6b72f",
   "metadata": {},
   "outputs": [],
   "source": [
    "# %%time\n",
    "# kmeans_gyro = KMeans(2)\n",
    "# labels_gyro = kmeans_gyro.predict(gyroscope_data)"
   ]
  },
  {
   "cell_type": "code",
   "execution_count": 39,
   "id": "ed29c8d3",
   "metadata": {},
   "outputs": [],
   "source": [
    "# labels_gyro = kmeans_gyro.get_labels_with_outliers(2.5)"
   ]
  },
  {
   "cell_type": "code",
   "execution_count": 40,
   "id": "68f0cd59",
   "metadata": {},
   "outputs": [],
   "source": [
    "# labels_gyro.to_csv('labels_gyro.csv', index=False)"
   ]
  },
  {
   "cell_type": "code",
   "execution_count": 41,
   "id": "ae28ada6",
   "metadata": {},
   "outputs": [],
   "source": [
    "# plot_kmeans_clusters(kmeans_gyro.data, labels_gyro, optimal_k_gyro, 'gyroscope')"
   ]
  },
  {
   "cell_type": "markdown",
   "id": "a560d56a",
   "metadata": {},
   "source": [
    "### Magnetometer"
   ]
  },
  {
   "cell_type": "code",
   "execution_count": 42,
   "id": "12643edb",
   "metadata": {},
   "outputs": [],
   "source": [
    "# optimal_k_mag = best_number_clusters(normalize_data(magnetometer_data), threshold=0.85)\n",
    "# print('optimal k:', optimal_k_mag)"
   ]
  },
  {
   "cell_type": "code",
   "execution_count": 43,
   "id": "5fd9be30",
   "metadata": {},
   "outputs": [],
   "source": [
    "# %%time\n",
    "# kmeans_mag = KMeans(2)\n",
    "# labels_mag = kmeans_mag.predict(magnetometer_data)"
   ]
  },
  {
   "cell_type": "code",
   "execution_count": 44,
   "id": "8e5f62fc",
   "metadata": {},
   "outputs": [],
   "source": [
    "# labels_mag = kmeans_mag.get_labels_with_outliers(2.5)"
   ]
  },
  {
   "cell_type": "code",
   "execution_count": 45,
   "id": "7d2a50aa",
   "metadata": {},
   "outputs": [],
   "source": [
    "# labels_mag.to_csv('labels_mag.csv', index=False)"
   ]
  },
  {
   "cell_type": "code",
   "execution_count": 46,
   "id": "d145e2d4",
   "metadata": {},
   "outputs": [],
   "source": [
    "# %%time\n",
    "# plot_kmeans_clusters(kmeans_mag.data, labels_mag, optimal_k_mag, 'magnetometer')"
   ]
  },
  {
   "cell_type": "markdown",
   "id": "91d51eca",
   "metadata": {},
   "source": [
    "### DBSCAN\n",
    "\n",
    "Foi elaborado um estudo semelhante ao anterior, mas agora utilizando o DBSCAN como algoritmo de *unsupervised learning*"
   ]
  },
  {
   "cell_type": "code",
   "execution_count": 47,
   "id": "41b7395b",
   "metadata": {},
   "outputs": [],
   "source": [
    "# from sklearn.cluster import DBSCAN"
   ]
  },
  {
   "cell_type": "code",
   "execution_count": 48,
   "id": "00c21c4a",
   "metadata": {},
   "outputs": [],
   "source": [
    "# acc_scan = DBSCAN(eps=1).fit(accelerometer_data)"
   ]
  },
  {
   "cell_type": "code",
   "execution_count": 49,
   "id": "94b5248d",
   "metadata": {},
   "outputs": [],
   "source": [
    "# acc_labels = acc_scan.labels_"
   ]
  },
  {
   "cell_type": "code",
   "execution_count": 50,
   "id": "1e294c52",
   "metadata": {},
   "outputs": [],
   "source": [
    "# def plot_3d(data, labels, title):\n",
    "#     fig = plt.figure(figsize = (15,15))\n",
    "#     ax = fig.add_subplot(111, projection='3d')\n",
    "#     for label in labels.unique():\n",
    "#         ax.scatter(data[labels == label][data.columns[0]],\n",
    "#             data[labels == label][data.columns[1]],\n",
    "#             data[labels== label][data.columns[2]],\n",
    "#             label=f'cluster {label}'\n",
    "#             )\n",
    "            \n",
    "#     ax.set_xlabel(data.columns[0])\n",
    "#     ax.set_ylabel(data.columns[1])\n",
    "#     ax.set_zlabel(data.columns[2])\n",
    "#     plt.title(title)\n",
    "#     ax.legend()\n",
    "#     plt.show()"
   ]
  },
  {
   "cell_type": "markdown",
   "id": "66475466",
   "metadata": {},
   "source": [
    "## Exercise 3.8 - Add outliers"
   ]
  },
  {
   "cell_type": "code",
   "execution_count": 51,
   "id": "4c1c9e85",
   "metadata": {},
   "outputs": [],
   "source": [
    "# def calculate_density(outliers):\n",
    "#     return outliers.sum() / len(outliers)"
   ]
  },
  {
   "cell_type": "code",
   "execution_count": 52,
   "id": "2d744eaf",
   "metadata": {},
   "outputs": [],
   "source": [
    "# def inject_outliers(quantity, data, outliers_indexes, k, mean, std, z=1):\n",
    "#     data = data.copy()\n",
    "#     non_outliers = data[outliers_indexes == False]\n",
    "#     indexes = non_outliers.sample(quantity, random_state=42).index\n",
    "#     data[indexes] = data[indexes].apply(lambda x :  (mean + k * random.choice([1, -1]) * (std + np.random.uniform(0, z))))\n",
    "#     return data"
   ]
  },
  {
   "cell_type": "code",
   "execution_count": 53,
   "id": "d5b1a453",
   "metadata": {},
   "outputs": [],
   "source": [
    "# def add_outliers(percentage, k, data):\n",
    "#     indexes = calculate_outliers_indexes(data, k)\n",
    "#     density = calculate_density(indexes)\n",
    "#     print('Density of outliers:', density * 100)\n",
    "#     mean = data.mean()\n",
    "#     std = data.std()\n",
    "#     if density < percentage:\n",
    "#         quantity = int((percentage - density) * len(data))\n",
    "#         data_with_outliers = inject_outliers(quantity, data, indexes, k, mean, std)\n",
    "#         return data_with_outliers, density"
   ]
  },
  {
   "cell_type": "code",
   "execution_count": 54,
   "id": "cd550064",
   "metadata": {},
   "outputs": [],
   "source": [
    "# k = 3\n",
    "# percentage = 0.1"
   ]
  },
  {
   "cell_type": "code",
   "execution_count": 55,
   "id": "3efa5535",
   "metadata": {},
   "outputs": [],
   "source": [
    "# plot_zscore_outliers(data, 'accelerometer_module', k_value=k )"
   ]
  },
  {
   "cell_type": "code",
   "execution_count": 56,
   "id": "835c92a1",
   "metadata": {},
   "outputs": [],
   "source": [
    "# series_with_outliers, original_density = add_outliers(percentage, k, data['accelerometer_module'])"
   ]
  },
  {
   "cell_type": "code",
   "execution_count": 57,
   "id": "e9982929",
   "metadata": {},
   "outputs": [],
   "source": [
    "# outliers_data = data.copy()\n",
    "# outliers_data['accelerometer_data'] = series_with_outliers"
   ]
  },
  {
   "cell_type": "code",
   "execution_count": 58,
   "id": "8fd214ed",
   "metadata": {},
   "outputs": [],
   "source": [
    "# outliers_data.to_csv('data_with_outliers.csv', index=False)"
   ]
  },
  {
   "cell_type": "code",
   "execution_count": 59,
   "id": "bb0b368a",
   "metadata": {},
   "outputs": [],
   "source": [
    "# data['accelerometer_module'].equals(series_with_outliers)"
   ]
  },
  {
   "cell_type": "code",
   "execution_count": 60,
   "id": "b8abeb13",
   "metadata": {},
   "outputs": [],
   "source": [
    "# diff_indexes = data['accelerometer_module'] != series_with_outliers"
   ]
  },
  {
   "cell_type": "code",
   "execution_count": 61,
   "id": "a5efac1a",
   "metadata": {},
   "outputs": [],
   "source": [
    "# percentage_added_outliers = (diff_indexes.sum() / len(data)) * 100\n",
    "# print('Percentage of added outliers:', percentage_added_outliers)"
   ]
  },
  {
   "cell_type": "code",
   "execution_count": 62,
   "id": "a0f8a693",
   "metadata": {},
   "outputs": [],
   "source": [
    "# round(original_density*100 + percentage_added_outliers)"
   ]
  },
  {
   "cell_type": "code",
   "execution_count": 63,
   "id": "4127437e",
   "metadata": {},
   "outputs": [],
   "source": [
    "# plot_zscore_outliers(outliers_data, 'accelerometer_module', k_value=k )"
   ]
  },
  {
   "cell_type": "markdown",
   "id": "25e8f91b",
   "metadata": {},
   "source": [
    "## Exercise 3.9 - Linear regression"
   ]
  },
  {
   "cell_type": "code",
   "execution_count": 64,
   "id": "787ad230",
   "metadata": {},
   "outputs": [],
   "source": [
    "# p_value = 100"
   ]
  },
  {
   "cell_type": "code",
   "execution_count": 65,
   "id": "3de8eeb4",
   "metadata": {},
   "outputs": [],
   "source": [
    "# def calculate_alphas(data, p):\n",
    "#     y = data[p:]\n",
    "#     rows = len(data) - p\n",
    "#     cols = p + 1\n",
    "#     x = np.ones((rows, cols))\n",
    "#     for i in range(rows):\n",
    "#         x[i, 1:] = data[i:p+i][::-1]\n",
    "\n",
    "#     x_plus = np.linalg.pinv(x)\n",
    "#     a = x_plus.dot(y)\n",
    "#     return a"
   ]
  },
  {
   "cell_type": "code",
   "execution_count": 66,
   "id": "6a96789f",
   "metadata": {},
   "outputs": [],
   "source": [
    "# def predict(data, p, a=None):\n",
    "#     \"\"\" receives only the previous points and returns the predicted value based on the previous p points\"\"\"\n",
    "#     size = len(data)\n",
    "#     if a is None:\n",
    "#         print('calculate_betas')\n",
    "#         a = calculate_alphas(data, p)\n",
    "#     prev_values = np.ones(p+1)\n",
    "#     prev_values[1:] = data[:size-p-1:-1]\n",
    "#     y_pred = prev_values.dot(a)\n",
    "#     return y_pred"
   ]
  },
  {
   "cell_type": "code",
   "execution_count": 67,
   "id": "5c70ff12",
   "metadata": {},
   "outputs": [],
   "source": [
    "# def plot_results(data, p):\n",
    "#     print('Real value:', data[-1])\n",
    "#     y_pred = predict(data[:-1], p)\n",
    "#     print('Predicted value:', y_pred)\n",
    "#     x_axis = np.arange(len(data))\n",
    "#     plt.scatter(x_axis, data, label='real values')\n",
    "#     x_axis_pred = len(data)\n",
    "#     plt.scatter(x_axis_pred, y_pred, color='r', label='predicted values')\n",
    "#     plt.legend()\n",
    "#     plt.show()"
   ]
  },
  {
   "cell_type": "code",
   "execution_count": 68,
   "id": "495f9969",
   "metadata": {},
   "outputs": [],
   "source": [
    "# data_with_linear_regression = outliers_data.copy()"
   ]
  },
  {
   "cell_type": "code",
   "execution_count": 69,
   "id": "25f94b7f",
   "metadata": {},
   "outputs": [],
   "source": [
    "# regressed_acc = data_with_linear_regression['accelerometer_data']"
   ]
  },
  {
   "cell_type": "code",
   "execution_count": 70,
   "id": "4bf6f984",
   "metadata": {},
   "outputs": [],
   "source": [
    "# outliers_indexes = calculate_outliers_indexes(outliers_data['accelerometer_module'], k)"
   ]
  },
  {
   "cell_type": "code",
   "execution_count": 71,
   "id": "8e4fc2d1",
   "metadata": {},
   "outputs": [],
   "source": [
    "# indexes = pd.Series(data_with_linear_regression[outliers_indexes].index)\n",
    "# len(indexes)"
   ]
  },
  {
   "cell_type": "code",
   "execution_count": 72,
   "id": "e8fdd3f0",
   "metadata": {},
   "outputs": [],
   "source": [
    "# first_outlier = indexes.min()\n",
    "# first_outlier"
   ]
  },
  {
   "cell_type": "code",
   "execution_count": 73,
   "id": "15915974",
   "metadata": {},
   "outputs": [],
   "source": [
    "# a = calculate_alphas(regressed_acc.loc[:first_outlier-1], p_value)\n",
    "# a"
   ]
  },
  {
   "cell_type": "code",
   "execution_count": 74,
   "id": "fd32db47",
   "metadata": {},
   "outputs": [],
   "source": [
    "# regressed_acc[indexes] = indexes.apply(lambda x: predict(regressed_acc[:x], p_value, a))"
   ]
  },
  {
   "cell_type": "code",
   "execution_count": 75,
   "id": "b625419a",
   "metadata": {},
   "outputs": [],
   "source": [
    "# regressed_acc.equals(data_with_linear_regression['accelerometer_data'])"
   ]
  },
  {
   "cell_type": "code",
   "execution_count": 76,
   "id": "163c058b",
   "metadata": {},
   "outputs": [],
   "source": [
    "# data_with_linear_regression['accelerometer_data'] = regressed_acc"
   ]
  },
  {
   "cell_type": "code",
   "execution_count": 77,
   "id": "f734af3b",
   "metadata": {},
   "outputs": [],
   "source": [
    "# data_with_linear_regression.to_csv('data_linear_regression.csv', index=False)"
   ]
  },
  {
   "cell_type": "code",
   "execution_count": 78,
   "id": "28783d32",
   "metadata": {},
   "outputs": [],
   "source": [
    "# plot_zscore_outliers(data_with_linear_regression, 'accelerometer_module', k_value=k )"
   ]
  },
  {
   "cell_type": "markdown",
   "id": "29e7140e",
   "metadata": {},
   "source": [
    "## Exercise 4.1 - Statistical significance - control the risk"
   ]
  },
  {
   "cell_type": "code",
   "execution_count": 79,
   "id": "fc425139-79e9-441f-8d6e-ceff32335faf",
   "metadata": {},
   "outputs": [],
   "source": [
    "from scipy.stats import kstest\n",
    "from scipy.stats import norm"
   ]
  },
  {
   "cell_type": "markdown",
   "id": "8c8db492-f244-4d68-8fb0-9143fa39938c",
   "metadata": {},
   "source": [
    "Nos resultados apresentados a seguir, foi utilizado um *threshold* the 5% no teste de Kolgomorov-Smirov para que o p-value de forma a aceitar a distribuição das variáveis como normal."
   ]
  },
  {
   "cell_type": "code",
   "execution_count": 80,
   "id": "f9ba5be6-7d64-4c72-95d3-c5add83d476f",
   "metadata": {},
   "outputs": [],
   "source": [
    "# def ks_test(data, variable, threshold=0.05):\n",
    "#     # check if the activities have a normal (gaussian distribution)\n",
    "#     # https://www.statology.org/plot-normal-distribution-python/\n",
    "#     plt.figure()\n",
    "#     plt.title(f'{variable} distribution')\n",
    "#     for activity in data['activity'].unique():\n",
    "#         #divide data by activitis to check the normallity\n",
    "#         activity_data = data[data['activity'] == activity][variable]\n",
    "#         statistics, p_value = kstest(activity_data, norm.cdf)\n",
    "#         if p_value < threshold:\n",
    "#             print(f'Variable {variable} - activitiy {activities_labels[activity]}: Reject normal distributions | p-value={p_value}')\n",
    "#         else:\n",
    "#             print(f'Variable {variable} - activitiy {activities_labels[activity]}: Normal distribution | p-value={p_value}')\n",
    "#         activity_data.hist(alpha=0.4, label=activities_labels[activity])\n",
    "        \n",
    "#     plt.legend(bbox_to_anchor=(1.04, 1), loc=\"upper left\")\n",
    "#     plt.show()\n",
    "                             "
   ]
  },
  {
   "cell_type": "code",
   "execution_count": 81,
   "id": "177fb083-1576-42f4-b353-5b6755338a80",
   "metadata": {},
   "outputs": [],
   "source": [
    "# accelerometer_mod_data = right_wrist_data[['accelerometer_module', 'activity']]\n",
    "# gyroscope_mod_data = right_wrist_data[['gyroscope_module', 'activity']]\n",
    "# magnetometer_mod_data = right_wrist_data[['magnetometer_module', 'activity']]"
   ]
  },
  {
   "cell_type": "code",
   "execution_count": 82,
   "id": "e601f03b-703a-49a1-ade3-daa9c4937b1a",
   "metadata": {},
   "outputs": [],
   "source": [
    "# ks_test(accelerometer_mod_data, 'accelerometer_module')"
   ]
  },
  {
   "cell_type": "markdown",
   "id": "479921ef-f8e8-4290-9b1a-1040ec3a1c3d",
   "metadata": {},
   "source": [
    "Como se pode observar, apesar de histogramas do módulo do vetor de aceleração parecerem seguir uma distribuição normal, todos têm p-value inferior ao minimo necessário para aceitar a hipótese nula, logo não segue uma distribuição normal."
   ]
  },
  {
   "cell_type": "code",
   "execution_count": 83,
   "id": "fdb17782-1498-456d-bfd9-4669142861c6",
   "metadata": {},
   "outputs": [],
   "source": [
    "# ks_test(gyroscope_mod_data, 'gyroscope_module')"
   ]
  },
  {
   "cell_type": "markdown",
   "id": "9555a8b0-dbc1-4792-ad97-09014e81e7e5",
   "metadata": {},
   "source": [
    "Como se pode observar pela distribuição e pelo p-value, o módulo do vetor giroscópio não segue uma distribuição gaussiana."
   ]
  },
  {
   "cell_type": "code",
   "execution_count": 84,
   "id": "107bbba6-807a-444c-956d-70edfcb02521",
   "metadata": {},
   "outputs": [],
   "source": [
    "# ks_test(magnetometer_mod_data, 'magnetometer_module')"
   ]
  },
  {
   "cell_type": "markdown",
   "id": "090cd3d9-4950-4c0d-a730-9709670d574d",
   "metadata": {},
   "source": [
    "Pela observação so gráfico e pelo valor obtido no p-value concluí-mos que o módulo do vetor do magnómetro não segue uma distribuição normal."
   ]
  },
  {
   "cell_type": "markdown",
   "id": "fd88921f-10a1-4d09-a6ea-d1c76600450b",
   "metadata": {},
   "source": [
    "Em todas as variáveis, notou-se o que valor resultante do p-value usando o teste de Kolmogorov-Smirnov é nulo, ou perto disso. Assim, conclí-mos que nenhum dos vetores segue uma distribuição normal.\n",
    "\n",
    "Em suma:\n",
    "\n",
    "- os módulos dos vetores não seguem uma distribuição normal/gaussiana pelo que temos de escolher um teste não-paramétrico (apesar de termos um dimensão bastante elevada de valores de input)\n",
    "- temos 3 variáveis (x, y, e, z de cada vetor) numéricas como valor de input que estão emparelhadas entre si\n",
    " \n",
    "Assim, segundo o *Choosing Statistical Tests* (https://www.ncbi.nlm.nih.gov/pmc/articles/PMC2881615/), escolhemos o teste de Friedman para calcular a significância estatística das variáveis."
   ]
  },
  {
   "cell_type": "code",
   "execution_count": 85,
   "id": "04c7fe8f",
   "metadata": {},
   "outputs": [],
   "source": [
    "from scipy.stats import friedmanchisquare"
   ]
  },
  {
   "cell_type": "code",
   "execution_count": 86,
   "id": "d9bb6e99",
   "metadata": {},
   "outputs": [],
   "source": [
    "# def friedman_test(data, variables, threshold=0.05):\n",
    "#     # https://www.statology.org/friedman-test-python/\n",
    "#     # https://docs.scipy.org/doc/scipy/reference/generated/scipy.stats.friedmanchisquare.html\n",
    "\n",
    "#     # null-hypothesis: all variables have the same probability (mean)\n",
    "#     # at least one variable has a different probability\n",
    "\n",
    "#     x = data[variables[0]]\n",
    "#     y = data[variables[1]]\n",
    "#     z = data[variables[2]]\n",
    "\n",
    "#     for activity in data['activity'].unique():\n",
    "#         act_x = x[data['activity'] == activity]\n",
    "#         act_y = y[data['activity'] == activity]\n",
    "#         act_z = z[data['activity'] == activity]\n",
    "\n",
    "#         statistic, pvalue = friedmanchisquare(act_x, act_y, act_z)\n",
    "\n",
    "#         if pvalue < threshold:\n",
    "#             print(f\"Activity {activities_labels[activity]} - Samples don't have the same distribution | p-value={pvalue}\")\n",
    "#         else:\n",
    "#             print(f\"Activity {activities_labels[activity]} - Samples have the same distribution | p-value={pvalue}\")\n"
   ]
  },
  {
   "cell_type": "code",
   "execution_count": 87,
   "id": "0eea1d67",
   "metadata": {},
   "outputs": [],
   "source": [
    "# var = 'accelerometer'\n",
    "# friedman_test(data[[f'{var}_x', f'{var}_y', f'{var}_z', 'activity']], [f'{var}_x', f'{var}_y', f'{var}_z'])"
   ]
  },
  {
   "cell_type": "code",
   "execution_count": 88,
   "id": "42cbbbac",
   "metadata": {},
   "outputs": [],
   "source": [
    "# var = 'gyroscope'\n",
    "# friedman_test(data[[f'{var}_x', f'{var}_y', f'{var}_z', 'activity']], [f'{var}_x', f'{var}_y', f'{var}_z'])"
   ]
  },
  {
   "cell_type": "code",
   "execution_count": 89,
   "id": "85eeea01",
   "metadata": {},
   "outputs": [],
   "source": [
    "# var = 'magnetometer'\n",
    "# friedman_test(data[[f'{var}_x', f'{var}_y', f'{var}_z', 'activity']], [f'{var}_x', f'{var}_y', f'{var}_z'])"
   ]
  },
  {
   "cell_type": "markdown",
   "id": "0dc4b7ea",
   "metadata": {},
   "source": [
    "Como se pode observar, p-value, resultante do teste de Friedman para todas os vetores e actividades, é sempre nulo, pelo que rejeitamos a hipótese de que os dados seguem a mesma distribuição "
   ]
  },
  {
   "cell_type": "markdown",
   "id": "d720c995",
   "metadata": {},
   "source": [
    "## Exercise 4.2 - feature extraction"
   ]
  },
  {
   "cell_type": "code",
   "execution_count": 90,
   "id": "274c511f-c46f-4490-a830-90bd339aebbe",
   "metadata": {},
   "outputs": [],
   "source": [
    "sensors_columns = [\n",
    "    'accelerometer_x', 'accelerometer_y', 'accelerometer_z',\n",
    "    'gyroscope_x', 'gyroscope_y', 'gyroscope_z',\n",
    "    'magnetometer_x', 'magnetometer_y', 'magnetometer_z',\n",
    "]"
   ]
  },
  {
   "cell_type": "code",
   "execution_count": 91,
   "id": "6fd651c8-19ae-4b74-9bc6-c4736715f739",
   "metadata": {
    "tags": []
   },
   "outputs": [],
   "source": [
    "# select rows\n",
    "sensors_data = data[sensors_columns]"
   ]
  },
  {
   "cell_type": "markdown",
   "id": "304c9328-6820-408b-a191-d7091e620a1f",
   "metadata": {},
   "source": [
    "### Frequencia a utilizar\n",
    "Segundo o README do dataset, as amostas foram recolhidas a uma frequencia de amostraggem de 51.2 Hz"
   ]
  },
  {
   "cell_type": "code",
   "execution_count": 324,
   "id": "7b79666f-67cb-4c1d-a389-c5f4930104db",
   "metadata": {},
   "outputs": [],
   "source": [
    "fs = 51.2\n",
    "t = 1 / fs"
   ]
  },
  {
   "cell_type": "markdown",
   "id": "d83a32ba-8463-4fe9-92b7-1f8f5d2c5c80",
   "metadata": {},
   "source": [
    "### Tamanho da janela e sobreposição\n",
    "\n",
    "De forma a evitar o aliasing, iremos calcular as features por janela, sendo que iremos usar um tamanho de janela de 3 periodos e uma sobreposição de 60%"
   ]
  },
  {
   "cell_type": "code",
   "execution_count": 325,
   "id": "4b555989-b0c3-4173-bd4d-ac9a4ac4c8ea",
   "metadata": {},
   "outputs": [],
   "source": [
    "window_periods = 3\n",
    "window_size = int(window_periods / t)\n",
    "overlap = 0.6\n",
    "step = int(window_size * overlap)"
   ]
  },
  {
   "cell_type": "code",
   "execution_count": 326,
   "id": "649eaed1",
   "metadata": {},
   "outputs": [],
   "source": [
    "from scipy import stats"
   ]
  },
  {
   "cell_type": "code",
   "execution_count": 327,
   "id": "df9110d8",
   "metadata": {},
   "outputs": [],
   "source": [
    "def extract_statistical_features(data):\n",
    "    df = pd.DataFrame()\n",
    "    for column in data.columns:\n",
    "        df[f'{column}_mean'] = [data[column].mean()]\n",
    "        # mean\n",
    "        # median\n",
    "        df[f'{column}_median'] = [data[column].median()]\n",
    "        # Std\n",
    "        df[f'{column}_std'] = [data[column].std()]\n",
    "        # variance\n",
    "        df[f'{column}_variance'] = [data[column].var()]\n",
    "        # Root mean square\n",
    "        df[f'{column}_rms'] = [np.sqrt((data[column] ** 2).mean())]\n",
    "        # average derivatives\n",
    "        # Skewness\n",
    "        df[f'{column}_skewness'] = [data[column].skew()]\n",
    "        # kurtosis\n",
    "        df[f'{column}_kurtosis'] = [data[column].kurtosis()]\n",
    "        # Interquartile range\n",
    "        df[f'{column}_interquantile'] = [stats.iqr(data[column])]\n",
    "        # zero crossing rate\n",
    "        df[f'{column}_non_crossing_rate'] = [len(np.nonzero(np.diff(data[column] > 0))[0])] # https://www.folkstalk.com/tech/zero-crossing-rate-python-with-code-examples/\n",
    "        # mean crossing rate\n",
    "        aux = data[column] - data[column].mean() # to centre in zero\n",
    "        df[f'{column}_mean_crossing_rate'] = [len(np.nonzero(np.diff(aux > 0))[0])]\n",
    "        # TODO: pairwise correlation\n",
    "        # TODO: spectral entropy\n",
    "    return df"
   ]
  },
  {
   "cell_type": "code",
   "execution_count": 328,
   "id": "f88d834b-6610-463e-b2ed-8af42f865b9f",
   "metadata": {},
   "outputs": [],
   "source": [
    "from scipy.fft import fft"
   ]
  },
  {
   "cell_type": "code",
   "execution_count": 329,
   "id": "db9241df-c7d0-4991-bb3c-c8346f4635b4",
   "metadata": {},
   "outputs": [],
   "source": [
    "def mi(data):\n",
    "    return np.sqrt((data**2).sum(axis=1))\n",
    "\n",
    "def ai(mi_data):\n",
    "    return mi_data.mean()\n",
    "\n",
    "def vi(mi_data):\n",
    "    return mi_data.var()\n",
    "\n",
    "def sma(data):\n",
    "    return np.sum(data.abs().sum()) / len(data)\n",
    "\n",
    "def eva(data):\n",
    "    cov_data = data.cov()\n",
    "    eigenvalues, _ = np.linalg.eig(cov_data)\n",
    "    return eigenvalues[0], eigenvalues[1]\n",
    "\n",
    "def cagh(data):\n",
    "    \"\"\"Accelemeter data\"\"\"\n",
    "    norm = np.sqrt((data ** 2).sum(axis=1))\n",
    "    coef = np.corrcoef(data['accelerometer_x'], norm)\n",
    "    #print(coef)\n",
    "    # print(coef[0,1])\n",
    "    return coef[0, 1]\n",
    "\n",
    "def avh(data, time):\n",
    "    \"\"\"Accelemeter data\"\"\"\n",
    "    velo_y = data['accelerometer_y'].mean() * time\n",
    "    velo_z = data['accelerometer_z'].mean() * time\n",
    "    return np.sqrt(velo_y **2 + velo_z**2)\n",
    "\n",
    "def avg(data):\n",
    "    \"\"\"Accelemeter data\"\"\"\n",
    "    return np.trapz(data['accelerometer_x'])\n",
    "\n",
    "def aratg(data):\n",
    "    \"\"\"Gyroscope data \"\"\"\n",
    "    aux = data['gyroscope_x'].sum() / len(data)\n",
    "    # print('aratg')\n",
    "    # print(aux)\n",
    "    # print(type(aux))\n",
    "    return aux\n",
    "\n",
    "def dominant_frequency(data):\n",
    "    return np.argmax(fft(data.to_numpy())**2)\n",
    "\n",
    "def energy(data):\n",
    "    return np.sum(np.abs(fft(data.to_numpy()))**2) / len(data)"
   ]
  },
  {
   "cell_type": "code",
   "execution_count": 330,
   "id": "154b18d4-bb97-41f7-a942-6b8f41c2da1b",
   "metadata": {},
   "outputs": [],
   "source": [
    "def extract_physical_all(data):\n",
    "    \"\"\" data has acc, gyro, mag, xyz values \"\"\"\n",
    "    df = pd.DataFrame()\n",
    "    for column in data.columns:\n",
    "        # dominant frequency\n",
    "        df[f'{column}_df'] = [dominant_frequency(data[column])]\n",
    "        df[f'{column}_energy'] = [energy(data)]\n",
    "        \n",
    "    return df"
   ]
  },
  {
   "cell_type": "code",
   "execution_count": 331,
   "id": "3da84bd6-c377-422b-a824-97b9e673c6e5",
   "metadata": {},
   "outputs": [],
   "source": [
    "accelerometer_columns = ['accelerometer_x', 'accelerometer_y', 'accelerometer_z']\n",
    "gyroscope_columns = ['gyroscope_x', 'gyroscope_y', 'gyroscope_z']"
   ]
  },
  {
   "cell_type": "code",
   "execution_count": 332,
   "id": "75bf1b3f",
   "metadata": {},
   "outputs": [],
   "source": [
    "def extract_phisical_features(data):\n",
    "    \"\"\"data containing the sensors acceleremeter, gyroscope, magnometer\"\"\"\n",
    "    df = extract_physical_all(data)\n",
    "    # MI - movement intensity - independent od the orientation not used\n",
    "    mi_values = mi(data[accelerometer_columns])\n",
    "    # eigenvalues of dominant directions\n",
    "    eva_values = eva(data[accelerometer_columns])\n",
    "    # AI - MI mean\n",
    "    df['ai'] = [ai(mi_values)]\n",
    "    # VI - MI variance\n",
    "    df['vi'] = [vi(mi_values)]\n",
    "    # SMA - normalized signal magnitude area\n",
    "    df['sma'] = [sma(data)]\n",
    "    # EVA - eigenvalues of dominant directions\n",
    "    df['eva_1'] = [eva_values[0]]\n",
    "    df['eva_2'] = [eva_values[1]]\n",
    "    # CAGH - correlation between acceleration along gravity and heading directions\n",
    "    df['cagh'] = [cagh(data[accelerometer_columns])]\n",
    "    # AVH - averaged velocity along heading direction\n",
    "    df['avh'] = [avh(data[accelerometer_columns], window_periods)]\n",
    "    # AVG - averaged velocity along gravity direction\n",
    "    df['avg'] = [avg(data[accelerometer_columns])]\n",
    "    # ARATG - average rotation angles related to gravity direction\n",
    "    df['aratg'] = [aratg(data[gyroscope_columns])]\n",
    "    # AAE averaged acceleration energy\n",
    "    df['aae'] = np.mean([df['accelerometer_x_energy'], df['accelerometer_y_energy'], df['accelerometer_z_energy']])\n",
    "    # ARE - averaged rotation energy\n",
    "    df['are'] = np.mean([df['gyroscope_x_energy'], df['gyroscope_y_energy'], df['gyroscope_z_energy']])\n",
    "    \n",
    "    return df\n",
    "    "
   ]
  },
  {
   "cell_type": "code",
   "execution_count": 333,
   "id": "b13f764a-3809-48c4-9b92-c707a8effc01",
   "metadata": {},
   "outputs": [],
   "source": [
    "def extract_features(data):\n",
    "    physical_dataframes = []\n",
    "    statistical_dataframes = []\n",
    "    count = 0\n",
    "    for i in range(window_size, len(data), step):\n",
    "        physical_dataframes.append(extract_phisical_features(data.iloc[i-window_size:i, :]))\n",
    "        statistical_dataframes.append(extract_statistical_features(data.iloc[i-window_size:i, :]))\n",
    "        count += 1\n",
    "    print(count)\n",
    "    physical = pd.concat(physical_dataframes)\n",
    "    statistical = pd.concat(statistical_dataframes)\n",
    "    \n",
    "    return pd.concat([statistical, physical], axis=1)"
   ]
  },
  {
   "cell_type": "code",
   "execution_count": 334,
   "id": "f113fc7b-9dfe-4c8d-9b2e-c8b17fe66b6b",
   "metadata": {},
   "outputs": [
    {
     "data": {
      "text/plain": [
       "8590"
      ]
     },
     "execution_count": 334,
     "metadata": {},
     "output_type": "execute_result"
    }
   ],
   "source": [
    "len(range(window_size, len(data), step))"
   ]
  },
  {
   "cell_type": "code",
   "execution_count": 335,
   "id": "983b4d7d-487c-4120-afe0-5a84d78317df",
   "metadata": {},
   "outputs": [
    {
     "name": "stdout",
     "output_type": "stream",
     "text": [
      "8590\n",
      "CPU times: total: 11min 53s\n",
      "Wall time: 15min 32s\n"
     ]
    }
   ],
   "source": [
    "%%time\n",
    "extracted_data = extract_features(sensors_data)"
   ]
  },
  {
   "cell_type": "code",
   "execution_count": 336,
   "id": "238107b2",
   "metadata": {},
   "outputs": [],
   "source": [
    "features_path = 'extracted_features.csv'"
   ]
  },
  {
   "cell_type": "code",
   "execution_count": 337,
   "id": "2006ca18",
   "metadata": {},
   "outputs": [
    {
     "data": {
      "text/plain": [
       "Index([], dtype='object')"
      ]
     },
     "execution_count": 337,
     "metadata": {},
     "output_type": "execute_result"
    }
   ],
   "source": [
    "extracted_data.columns[extracted_data.dtypes == 'object']"
   ]
  },
  {
   "cell_type": "code",
   "execution_count": 338,
   "id": "3733873c",
   "metadata": {},
   "outputs": [],
   "source": [
    "extracted_data.to_csv(features_path, index=False)"
   ]
  },
  {
   "cell_type": "markdown",
   "id": "7cd149fd",
   "metadata": {},
   "source": [
    "## Exercise 4.3 - PCA"
   ]
  },
  {
   "cell_type": "markdown",
   "id": "0a61975b",
   "metadata": {},
   "source": [
    "Para saber como utilizar o PCA do sklearn, foi utilizado https://www.youtube.com/watch?v=Lsue2gEM9D0&t=7s\n"
   ]
  },
  {
   "cell_type": "code",
   "execution_count": 339,
   "id": "28b9df87",
   "metadata": {},
   "outputs": [],
   "source": [
    "features_data = pd.read_csv(features_path)"
   ]
  },
  {
   "cell_type": "code",
   "execution_count": 340,
   "id": "fcf62ff4",
   "metadata": {},
   "outputs": [
    {
     "data": {
      "text/plain": [
       "Index([], dtype='object')"
      ]
     },
     "execution_count": 340,
     "metadata": {},
     "output_type": "execute_result"
    }
   ],
   "source": [
    "features_data.columns[features_data.dtypes == 'object']"
   ]
  },
  {
   "cell_type": "code",
   "execution_count": 341,
   "id": "b7852929",
   "metadata": {},
   "outputs": [],
   "source": [
    "from sklearn.decomposition import PCA\n",
    "from sklearn.preprocessing import StandardScaler"
   ]
  },
  {
   "cell_type": "code",
   "execution_count": 342,
   "id": "6c96d442",
   "metadata": {},
   "outputs": [],
   "source": [
    "scaled_data = StandardScaler().fit_transform(features_data.T)"
   ]
  },
  {
   "cell_type": "code",
   "execution_count": 343,
   "id": "9f817079",
   "metadata": {},
   "outputs": [],
   "source": [
    "pca = PCA()\n",
    "pca.fit(scaled_data)\n",
    "pca_data = pca.transform(scaled_data)"
   ]
  },
  {
   "cell_type": "code",
   "execution_count": 344,
   "id": "cd9db5f5",
   "metadata": {},
   "outputs": [
    {
     "ename": "AttributeError",
     "evalue": "'PCA' object has no attribute 'explained_variance_ration'",
     "output_type": "error",
     "traceback": [
      "\u001b[1;31m---------------------------------------------------------------------------\u001b[0m",
      "\u001b[1;31mAttributeError\u001b[0m                            Traceback (most recent call last)",
      "Cell \u001b[1;32mIn [344], line 2\u001b[0m\n\u001b[0;32m      1\u001b[0m \u001b[39m# calculate percentage variation of each principal component \u001b[39;00m\n\u001b[1;32m----> 2\u001b[0m percentage_var \u001b[39m=\u001b[39m np\u001b[39m.\u001b[39mround(pca\u001b[39m.\u001b[39mexplained_variance_ration \u001b[39m*\u001b[39m \u001b[39m100\u001b[39m, decimals\u001b[39m=\u001b[39m\u001b[39m1\u001b[39m)\n",
      "\u001b[1;31mAttributeError\u001b[0m: 'PCA' object has no attribute 'explained_variance_ration'"
     ]
    }
   ],
   "source": [
    "# calculate percentage variation of each principal component \n",
    "percentage_var = np.round(pca.explained_variance_ration * 100, decimals=1)"
   ]
  },
  {
   "cell_type": "code",
   "execution_count": null,
   "id": "ae9674a3",
   "metadata": {},
   "outputs": [],
   "source": [
    "# labels of each principal component\n",
    "labels = [f'PC{x}' for x in range(1, len(percentage_var) + 1)]"
   ]
  },
  {
   "cell_type": "code",
   "execution_count": null,
   "id": "776888df",
   "metadata": {},
   "outputs": [],
   "source": [
    "plt.bar(x=np.arange(len(percentage_var)), height=percentage_var, tick_label=labels)\n",
    "plt.xlabel('principal component')\n",
    "plt.ylabel('Percentage of explained varience')\n",
    "plt.show()"
   ]
  },
  {
   "cell_type": "code",
   "execution_count": null,
   "id": "5ded0638",
   "metadata": {},
   "outputs": [],
   "source": [
    "pca_dataframe = pd.DataFrame(pca_data, index=features_data.columns, columns=labels)"
   ]
  }
 ],
 "metadata": {
  "kernelspec": {
   "display_name": "cl_human_activities",
   "language": "python",
   "name": "cl_human_activities"
  },
  "language_info": {
   "codemirror_mode": {
    "name": "ipython",
    "version": 3
   },
   "file_extension": ".py",
   "mimetype": "text/x-python",
   "name": "python",
   "nbconvert_exporter": "python",
   "pygments_lexer": "ipython3",
   "version": "3.10.4"
  }
 },
 "nbformat": 4,
 "nbformat_minor": 5
}
